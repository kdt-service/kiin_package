{
 "cells": [
  {
   "cell_type": "code",
   "execution_count": 1,
   "id": "794ad779",
   "metadata": {},
   "outputs": [
    {
     "name": "stdout",
     "output_type": "stream",
     "text": [
      "Requirement already satisfied: selenium in c:\\users\\user\\anaconda3\\envs\\study\\lib\\site-packages (4.8.0)\n",
      "Requirement already satisfied: certifi>=2021.10.8 in c:\\users\\user\\anaconda3\\envs\\study\\lib\\site-packages (from selenium) (2022.12.7)\n",
      "Requirement already satisfied: trio~=0.17 in c:\\users\\user\\anaconda3\\envs\\study\\lib\\site-packages (from selenium) (0.22.0)\n",
      "Requirement already satisfied: trio-websocket~=0.9 in c:\\users\\user\\anaconda3\\envs\\study\\lib\\site-packages (from selenium) (0.9.2)\n",
      "Requirement already satisfied: urllib3[socks]~=1.26 in c:\\users\\user\\anaconda3\\envs\\study\\lib\\site-packages (from selenium) (1.26.14)\n",
      "Requirement already satisfied: outcome in c:\\users\\user\\anaconda3\\envs\\study\\lib\\site-packages (from trio~=0.17->selenium) (1.2.0)\n",
      "Requirement already satisfied: async-generator>=1.9 in c:\\users\\user\\anaconda3\\envs\\study\\lib\\site-packages (from trio~=0.17->selenium) (1.10)\n",
      "Requirement already satisfied: sortedcontainers in c:\\users\\user\\anaconda3\\envs\\study\\lib\\site-packages (from trio~=0.17->selenium) (2.4.0)\n",
      "Requirement already satisfied: attrs>=19.2.0 in c:\\users\\user\\anaconda3\\envs\\study\\lib\\site-packages (from trio~=0.17->selenium) (22.2.0)\n",
      "Requirement already satisfied: cffi>=1.14 in c:\\users\\user\\anaconda3\\envs\\study\\lib\\site-packages (from trio~=0.17->selenium) (1.15.1)\n",
      "Requirement already satisfied: sniffio in c:\\users\\user\\anaconda3\\envs\\study\\lib\\site-packages (from trio~=0.17->selenium) (1.3.0)\n",
      "Requirement already satisfied: exceptiongroup>=1.0.0rc9 in c:\\users\\user\\anaconda3\\envs\\study\\lib\\site-packages (from trio~=0.17->selenium) (1.1.0)\n",
      "Requirement already satisfied: idna in c:\\users\\user\\anaconda3\\envs\\study\\lib\\site-packages (from trio~=0.17->selenium) (3.4)\n",
      "Requirement already satisfied: wsproto>=0.14 in c:\\users\\user\\anaconda3\\envs\\study\\lib\\site-packages (from trio-websocket~=0.9->selenium) (1.2.0)\n",
      "Requirement already satisfied: PySocks!=1.5.7,<2.0,>=1.5.6 in c:\\users\\user\\anaconda3\\envs\\study\\lib\\site-packages (from urllib3[socks]~=1.26->selenium) (1.7.1)\n",
      "Requirement already satisfied: pycparser in c:\\users\\user\\anaconda3\\envs\\study\\lib\\site-packages (from cffi>=1.14->trio~=0.17->selenium) (2.21)\n",
      "Requirement already satisfied: h11<1,>=0.9.0 in c:\\users\\user\\anaconda3\\envs\\study\\lib\\site-packages (from wsproto>=0.14->trio-websocket~=0.9->selenium) (0.14.0)\n",
      "Note: you may need to restart the kernel to use updated packages.\n"
     ]
    }
   ],
   "source": [
    "%pip install selenium"
   ]
  },
  {
   "cell_type": "code",
   "execution_count": 2,
   "id": "fabd6703",
   "metadata": {},
   "outputs": [],
   "source": [
    "from selenium import webdriver"
   ]
  },
  {
   "cell_type": "code",
   "execution_count": 3,
   "id": "46a1065d",
   "metadata": {},
   "outputs": [],
   "source": [
    "chrome_path = r'C:\\Users\\student\\Desktop\\workspace\\lecture\\selenium\\chromedriver.exe'"
   ]
  },
  {
   "cell_type": "code",
   "execution_count": 4,
   "id": "c90150cf",
   "metadata": {},
   "outputs": [],
   "source": [
    "# driver = webdriver.Chrome(chrome_path)\n",
    "# deprecated"
   ]
  },
  {
   "cell_type": "code",
   "execution_count": 5,
   "id": "adbce250",
   "metadata": {},
   "outputs": [
    {
     "name": "stderr",
     "output_type": "stream",
     "text": [
      "[WDM] - Downloading: 100%|██████████| 6.79M/6.79M [00:00<00:00, 78.1MB/s]\n"
     ]
    }
   ],
   "source": [
    "from selenium import webdriver\n",
    "from selenium.webdriver.chrome.service import Service\n",
    "from webdriver_manager.chrome import ChromeDriverManager\n",
    "driver = webdriver.Chrome(service=Service(ChromeDriverManager().install()))"
   ]
  },
  {
   "cell_type": "code",
   "execution_count": 6,
   "id": "3093d227",
   "metadata": {},
   "outputs": [],
   "source": [
    "# 특정 웹사이트에 접속\n",
    "driver.get('https://www.jungle.co.kr/')"
   ]
  },
  {
   "cell_type": "code",
   "execution_count": 7,
   "id": "4099df56",
   "metadata": {},
   "outputs": [],
   "source": [
    "from selenium.webdriver.common.by import By\n",
    "# tag를 하나만 찾기\n",
    "element = driver.find_element(By.CLASS_NAME, 'thumb_list')"
   ]
  },
  {
   "cell_type": "code",
   "execution_count": 8,
   "id": "cdd1af8d",
   "metadata": {},
   "outputs": [
    {
     "data": {
      "text/plain": [
       "<selenium.webdriver.remote.webelement.WebElement (session=\"67ebbf4c9051551531373d044fe9e23d\", element=\"a7424fee-f9b5-4ea6-b1d4-fdacfbcb0992\")>"
      ]
     },
     "execution_count": 8,
     "metadata": {},
     "output_type": "execute_result"
    }
   ],
   "source": [
    "element"
   ]
  },
  {
   "cell_type": "code",
   "execution_count": 9,
   "id": "45ee82e2",
   "metadata": {},
   "outputs": [],
   "source": [
    "# tag를 모두 찾기\n",
    "elements = driver.find_elements(By.TAG_NAME, 'li')"
   ]
  },
  {
   "cell_type": "code",
   "execution_count": 10,
   "id": "e0a23da1",
   "metadata": {},
   "outputs": [
    {
     "name": "stdout",
     "output_type": "stream",
     "text": [
      "매거진\n",
      "공모전\n",
      "전시행사\n",
      "커뮤니티\n",
      "[서유경 변호사의 내일, 인터뷰] 한국의 예술가구를 소비자의 품으로\n",
      "매거진\n",
      "[전시 포커스] ‘계묘년’ 맞아 34개 콘텐츠 선보이는 스피커의 전시 \n",
      "매거진\n",
      "[디자인정글 특별초대석] 진심을 찍는 사진작가 준초이 \n",
      "매거진\n",
      "테디 베어에서 영감받은 엑소 카이와 구찌의 컬래버레이션 \n",
      "매거진\n",
      "김묵원 라이브드로잉아트 전시 <유리사람> 展 09. 01. 수. ~ 09. 05. 일. 광명시민회관 전시실\n",
      "전시행사\n",
      "현대 블루 프라이즈 디자인 2022\n",
      "공모전\n",
      "모나미X미스터리 유니온, 성수점서 '아트 미스터리' 전시\n",
      "매거진\n",
      "MCM, 2023 발렌타인데이 업사이클링 컬렉션 선보여\n",
      "매거진\n",
      "플리츠마마, 밸런타인 맞아 첫 남성 가방 ‘미니메신저백’ 출시\n",
      "매거진\n",
      "네오밸류, 성수동 아트월 신년맞이 새 단장\n",
      "매거진\n",
      "에스팀, DDP서 ‘캣워크 페스타’ 개최\n",
      "매거진\n",
      "[미니인턴X팀와이퍼] 2주만에 '디자이너' 실무 역량 쌓고 채용연계까지? 미니인턴 지금 신\n",
      "공모전\n"
     ]
    }
   ],
   "source": [
    "for element in elements:\n",
    "    print(element.text)"
   ]
  },
  {
   "cell_type": "code",
   "execution_count": 11,
   "id": "24e048d6",
   "metadata": {},
   "outputs": [],
   "source": [
    "img_tag = driver.find_element(By.CSS_SELECTOR, '.zoom > img')"
   ]
  },
  {
   "cell_type": "code",
   "execution_count": 12,
   "id": "7c2bf939",
   "metadata": {},
   "outputs": [
    {
     "data": {
      "text/plain": [
       "'https://www.jungle.co.kr/image/9c7212ad49c7afea7af381f2?w=360&h=200'"
      ]
     },
     "execution_count": 12,
     "metadata": {},
     "output_type": "execute_result"
    }
   ],
   "source": [
    "img_tag.get_attribute('src')"
   ]
  },
  {
   "cell_type": "code",
   "execution_count": 13,
   "id": "781cb92e",
   "metadata": {},
   "outputs": [],
   "source": [
    "# 검색 아이콘 찾아서 클릭\n",
    "element = driver.find_element(By.ID, 'top-search')"
   ]
  },
  {
   "cell_type": "code",
   "execution_count": 14,
   "id": "4cb25392",
   "metadata": {},
   "outputs": [],
   "source": [
    "element.click()"
   ]
  },
  {
   "cell_type": "code",
   "execution_count": 15,
   "id": "315cd619",
   "metadata": {},
   "outputs": [],
   "source": [
    "# 검색어를 입력하는 ID가 top-search-keyword인 inputbox 찾아옴\n",
    "element2 = driver.find_element(By.ID, 'top-search-keyword')"
   ]
  },
  {
   "cell_type": "code",
   "execution_count": 18,
   "id": "123a7270",
   "metadata": {},
   "outputs": [],
   "source": [
    "# 엔터키를 입력하기 위해 Keys를 import\n",
    "from selenium.webdriver.common.keys import Keys"
   ]
  },
  {
   "cell_type": "code",
   "execution_count": 19,
   "id": "2139a30b",
   "metadata": {},
   "outputs": [],
   "source": [
    "element2.send_keys('python')"
   ]
  },
  {
   "cell_type": "code",
   "execution_count": null,
   "id": "14e7aca0",
   "metadata": {},
   "outputs": [],
   "source": [
    "# 엔터키를 입력하기 위해 Keys를 import\n",
    "from selenium.webdriver.common.keys import Keys"
   ]
  },
  {
   "cell_type": "code",
   "execution_count": null,
   "id": "3a2ee17b",
   "metadata": {},
   "outputs": [],
   "source": [
    "element2.send_keys(Keys.ENTER)"
   ]
  },
  {
   "cell_type": "code",
   "execution_count": null,
   "id": "147eb46e",
   "metadata": {},
   "outputs": [],
   "source": [
    "# 참고\n",
    "driver.get('https://www.jungle.co.kr/search?q=java')"
   ]
  },
  {
   "cell_type": "code",
   "execution_count": null,
   "id": "67358ec5",
   "metadata": {},
   "outputs": [],
   "source": []
  },
  {
   "cell_type": "code",
   "execution_count": null,
   "id": "f8fb9705",
   "metadata": {},
   "outputs": [],
   "source": [
    "# 실습 01"
   ]
  },
  {
   "cell_type": "code",
   "execution_count": null,
   "id": "984031bf",
   "metadata": {},
   "outputs": [],
   "source": [
    "# 카드부분 li 태그\n",
    "elements = driver.find_elements(By.CSS_SELECTOR, '.thumb_list li')"
   ]
  },
  {
   "cell_type": "code",
   "execution_count": null,
   "id": "dd84358e",
   "metadata": {},
   "outputs": [
    {
     "data": {
      "text/plain": [
       "162"
      ]
     },
     "execution_count": 45,
     "metadata": {},
     "output_type": "execute_result"
    }
   ],
   "source": [
    "len(elements)"
   ]
  },
  {
   "cell_type": "code",
   "execution_count": null,
   "id": "b595bfa8",
   "metadata": {
    "scrolled": true
   },
   "outputs": [],
   "source": [
    "for element in elements:\n",
    "    title_elem = element.find_element(By.CLASS_NAME, 'thumb_title') # 제목\n",
    "    cate_elem = element.find_element(By.CLASS_NAME, 'thumb_cate') # 카테고리\n",
    "    print(title_elem.text, cate_elem.text)"
   ]
  },
  {
   "cell_type": "code",
   "execution_count": null,
   "id": "a794fb7b",
   "metadata": {},
   "outputs": [],
   "source": [
    "import time\n",
    "for i in range(10):\n",
    "    element = driver.find_element(By.ID, 'existMore')\n",
    "    element.click()\n",
    "    time.sleep(3)"
   ]
  },
  {
   "cell_type": "code",
   "execution_count": null,
   "id": "a55e7a53",
   "metadata": {},
   "outputs": [],
   "source": [
    "# 맨 밑으로 이동\n",
    "driver.execute_script(\"window.scrollTo(0,document.body.scrollHeight);\")"
   ]
  },
  {
   "cell_type": "code",
   "execution_count": null,
   "id": "c170b025",
   "metadata": {},
   "outputs": [],
   "source": []
  }
 ],
 "metadata": {
  "kernelspec": {
   "display_name": "study",
   "language": "python",
   "name": "python3"
  },
  "language_info": {
   "codemirror_mode": {
    "name": "ipython",
    "version": 3
   },
   "file_extension": ".py",
   "mimetype": "text/x-python",
   "name": "python",
   "nbconvert_exporter": "python",
   "pygments_lexer": "ipython3",
   "version": "3.10.9"
  },
  "vscode": {
   "interpreter": {
    "hash": "736a4258c238b8ad314a4f07cbc4fb94bd99adfa3f65edb9ce29e7d0df91bca0"
   }
  }
 },
 "nbformat": 4,
 "nbformat_minor": 5
}
