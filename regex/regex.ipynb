{
 "cells": [
  {
   "cell_type": "code",
   "execution_count": null,
   "id": "fe4ce01c",
   "metadata": {},
   "outputs": [],
   "source": [
    "import re"
   ]
  },
  {
   "cell_type": "code",
   "execution_count": null,
   "id": "ceb7aa57",
   "metadata": {},
   "outputs": [],
   "source": [
    "text = \"I like orange! I love orange\""
   ]
  },
  {
   "cell_type": "code",
   "execution_count": null,
   "id": "64fa4e71",
   "metadata": {},
   "outputs": [],
   "source": [
    "text"
   ]
  },
  {
   "cell_type": "markdown",
   "id": "43521ffa",
   "metadata": {},
   "source": [
    "## match\n",
    "\n",
    "- 문자열 처음부터 조사, 객체 리턴"
   ]
  },
  {
   "cell_type": "code",
   "execution_count": null,
   "id": "fd3ed8ad",
   "metadata": {},
   "outputs": [],
   "source": [
    "result = re.match(\"I like orange\", text)"
   ]
  },
  {
   "cell_type": "code",
   "execution_count": null,
   "id": "ba4503fc",
   "metadata": {},
   "outputs": [],
   "source": [
    "result"
   ]
  },
  {
   "cell_type": "markdown",
   "id": "5eccc389",
   "metadata": {},
   "source": [
    "## search\n",
    "- 문자열 조사, 처음으로 찾는 것 객체 리턴"
   ]
  },
  {
   "cell_type": "code",
   "execution_count": null,
   "id": "a701da13",
   "metadata": {},
   "outputs": [],
   "source": [
    "result = re.search('orange', text)"
   ]
  },
  {
   "cell_type": "code",
   "execution_count": null,
   "id": "f2e21f6d",
   "metadata": {},
   "outputs": [],
   "source": [
    "text"
   ]
  },
  {
   "cell_type": "code",
   "execution_count": null,
   "id": "af49f474",
   "metadata": {},
   "outputs": [],
   "source": [
    "result"
   ]
  },
  {
   "cell_type": "markdown",
   "id": "2c50d24a",
   "metadata": {},
   "source": [
    "## findall()\n",
    "\n",
    "- 매치되는 모든 문자열 리스트로 리턴"
   ]
  },
  {
   "cell_type": "code",
   "execution_count": null,
   "id": "29c29b77",
   "metadata": {},
   "outputs": [],
   "source": [
    "result = re.findall('orange', text)"
   ]
  },
  {
   "cell_type": "code",
   "execution_count": null,
   "id": "45baddfb",
   "metadata": {},
   "outputs": [],
   "source": [
    "result"
   ]
  },
  {
   "cell_type": "markdown",
   "id": "2450a283",
   "metadata": {},
   "source": [
    "## finditer()\n",
    "\n",
    "- 매치되는 모든 문자열의 반복가능한 객체로 리턴"
   ]
  },
  {
   "cell_type": "code",
   "execution_count": null,
   "id": "0a5f4476",
   "metadata": {},
   "outputs": [],
   "source": [
    "results = re.finditer('orange', text)\n",
    "results"
   ]
  },
  {
   "cell_type": "code",
   "execution_count": null,
   "id": "03ebf661",
   "metadata": {},
   "outputs": [],
   "source": [
    "text"
   ]
  },
  {
   "cell_type": "code",
   "execution_count": null,
   "id": "076f6b09",
   "metadata": {},
   "outputs": [],
   "source": [
    "for result in results:\n",
    "    print(result)"
   ]
  },
  {
   "cell_type": "code",
   "execution_count": null,
   "id": "792a2ac3",
   "metadata": {},
   "outputs": [],
   "source": [
    "type(result)"
   ]
  },
  {
   "cell_type": "code",
   "execution_count": null,
   "id": "0f25a318",
   "metadata": {
    "scrolled": true
   },
   "outputs": [],
   "source": [
    "# dir(result)"
   ]
  },
  {
   "cell_type": "code",
   "execution_count": null,
   "id": "cdc0e130",
   "metadata": {},
   "outputs": [],
   "source": [
    "result.group() # 매치된 문자열 확인"
   ]
  },
  {
   "cell_type": "code",
   "execution_count": null,
   "id": "03940b28",
   "metadata": {},
   "outputs": [],
   "source": [
    "result.start() # 매치된 문자열 시작 index 반환"
   ]
  },
  {
   "cell_type": "code",
   "execution_count": null,
   "id": "a279900b",
   "metadata": {},
   "outputs": [],
   "source": [
    "result.end() # 매치된 문자열의 끝 index 반환"
   ]
  },
  {
   "cell_type": "code",
   "execution_count": null,
   "id": "c7c0ae9b",
   "metadata": {},
   "outputs": [],
   "source": [
    "result.span() # (시작, 끝) 반환"
   ]
  },
  {
   "cell_type": "code",
   "execution_count": null,
   "id": "919af031",
   "metadata": {},
   "outputs": [],
   "source": []
  },
  {
   "cell_type": "code",
   "execution_count": null,
   "id": "e2d38533",
   "metadata": {},
   "outputs": [],
   "source": [
    "# 링크찾는 예제 python re.findall() 사용\n",
    "\n",
    "html_text = \"\"\"<ul class=\"type06_headline\">\n",
    "<li>\n",
    "\t<dl>\n",
    "\t\t<dt>\n",
    "\t\t  <a href=\"https://news.naver.com/main/read.nhn?mode=LS2D&amp;mid=shm&amp;sid1=101&amp;sid2=259&amp;oid=015&amp;aid=0004123580\">\n",
    "\t\t\t  '취준생 선호 1위'에도 아쉬워 한 국민은행\n",
    "\t\t  </a>\n",
    "\t\t</dt>\n",
    "\t\t<dd>\n",
    "\t\t  <span class=\"lede\">뉴스카페 복지제도·워라밸 이유로 꼽자 \"편한 직장으로만 보일라\" 고심 [ 정소람 기자 ] “1위를 했는데 웃을 일만은 아니네요. …</span>\n",
    "\t\t  <span class=\"writing\">한국경제</span>\n",
    "\t\t  <span class=\"date is_outdated\">3시간전\t</span>\n",
    "\t\t</dd>\n",
    "\t</dl>\n",
    "</li>\n",
    "<li>\n",
    "\t<dl>\n",
    "\t\t<dt class=\"photo\">\n",
    "\t\t\t<a href=\"https://news.naver.com/main/read.nhn?mode=LS2D&amp;mid=shm&amp;sid1=101&amp;sid2=259&amp;oid=421&amp;aid=0003933820\">\n",
    "\t\t\t\t<img src=\"https://imgnews.pstatic.net/image/origin/421/2019/04/11/3933820.jpg?type=nf106_72\" width=\"106\" height=\"72\" alt=\"금융당국, 이미선 부부 미공개정보 이용 주식 의혹 살핀다\" onerror=\"javascript:this.src='https://ssl.pstatic.net/static.news/image/news/2009/noimage_106x72.png';\">\n",
    "\t\t\t</a>\n",
    "\t\t</dt>\n",
    "\t\t<dt>\n",
    "\t\t\t<a href=\"https://news.naver.com/main/read.nhn?mode=LS2D&amp;mid=shm&amp;sid1=101&amp;sid2=259&amp;oid=421&amp;aid=0003933820\">금융당국, 이미선 부부 미공개정보 이용 주식 의혹 살핀다\n",
    "\t\t\t</a>\n",
    "\t\t</dt>\n",
    "\t\t<dd>\n",
    "\t\t\t<span class=\"lede\">(서울=뉴스1) 박응진 기자 = 금융당국이 인사청문회 과정에서 논란이 된 이미선 헌법재판관 후보자의 주식 매매 과정에 문제가 없 …</span>\n",
    "\t\t\t<span class=\"writing\">뉴스1</span>\n",
    "\t\t\t<span class=\"date is_outdated\">3시간전\t</span>\n",
    "\t\t</dd>\n",
    "\t</dl>\n",
    "</li>\n",
    "</ul>\n",
    "\"\"\""
   ]
  },
  {
   "cell_type": "code",
   "execution_count": null,
   "id": "987adbc6",
   "metadata": {},
   "outputs": [],
   "source": [
    "links = re.findall('(?!\")https:[^\"]*(?=\")', html_text)"
   ]
  },
  {
   "cell_type": "code",
   "execution_count": null,
   "id": "52795f8f",
   "metadata": {},
   "outputs": [],
   "source": [
    "links"
   ]
  },
  {
   "cell_type": "code",
   "execution_count": null,
   "id": "39c44dbf",
   "metadata": {},
   "outputs": [],
   "source": []
  },
  {
   "cell_type": "code",
   "execution_count": null,
   "id": "a6279f2e",
   "metadata": {},
   "outputs": [],
   "source": [
    "news_text = \"\"\"전국 언론 노동자들이 시민사회단체와 함께 네이버의 지역 차별을 규탄하고 개선을 촉구하는 무기한 릴레이 시위에 돌입했다.\n",
    "\n",
    "전국언론노조와 전국 민주언론시민연합(민언련)은 1일 오전 11시 30분 경기도 성남시의 네이버 본사(그린팩토리) 앞에서 1인 시위를 시작했다. 이날 시위에는 오정훈 전국언론노동조합위원장, 전대식 지역신문노동조합협의회 의장(부산일보 지부장), 김명래 경인일보지부장, 민진영 경기민주언론시민연합 사무처장 등이 참여했다.\n",
    "\n",
    "이들은 1인 시위를 통해 ‘네이버 뉴스 서비스 지역 언론 배제 개선’을 요구하고 ‘지역 공론장 형성을 위한 네이버의 공적 책임’을 촉구했다. 전국언론노조와 민언련은 매주 월요일마다 네이버 본사 앞 시위를 진행할 예정이다.\n",
    "\n",
    "네이버는 최근 뉴스 서비스에 인공지능 에어스(AiRS) 알고리즘을 적용하는 방식으로 뉴스 편집 기능을 개편했다. 이후 지역 언론사 뉴스의 노출이 현격하게 줄어들었다. 아울러 100여 개 모바일 콘텐츠 제휴 언론사 중 독자가 구독을 선택할 수 있는 ‘채널’ 제휴사 44곳을 선정했는데 이 과정에서 지역 언론을 철저하게 배제했다. 이에 반발해 전국언론노조뿐 아니라 한국지방신문협회, 대한민국지방신문협의회 등 지역 신문 단체도 공동 성명을 발표하며 개선을 요구하고 나섰다. 전국시도의회의장협의회는 최근 총회에서 ‘네이버 지역 언론 배제 반대 성명’을 채택하기도 했다. 하지만 이 같은 반발에도 네이버는 뚜렷한 해결책을 내지 않고 있다.\n",
    "\n",
    "오정훈 위원장은 1인 시위에서 “네이버는 해결책을 내놓기는커녕 뉴스제휴평가위원회에만 책임을 떠넘기고 있다”며 “지역 언론 배제 문제의 해결을 위한 대화 요구에 즉각 응답해 뉴스 유통사업자로서의 사회적 역할을 수행해야 한다”고 촉구했다.\n",
    "\n",
    "전대식 의장은 “2005년 당시 네이버는 모든 언론사에 뉴스 유통망을 제공하는 우군이었지만 15년 만에 갑질하고 횡포하는 기업으로 전락했다”며 “지역 언론 종사자들이 만든 콘텐츠가 네이버에서 사라진 현실을 놓고 대화하고 상생적으로 풀어야 한다”면서 협의 창구 개설을 요구했다.\n",
    "\n",
    "민언련은 국내 1위 포털 네이버가 지역 공론장을 만드는 사회적 책임을 외면하는 것은 현 정부의 지방분권 강화 정책에 위배되는 것이라고 지적했다.\n",
    "\n",
    "민진영 사무처장은 “네이버가 지역신문에 대한 보도를 배제하고 시민들과의 소통 창구를 차단하는 것은 현 정부 정책인 지방분권 강화, 민주주의 정착이라는 큰 의제를 거역하는 것”이라며 “이런 행태는 반드시 중단돼야 하고 다양한 소식들이 소비자와 시민에게 전달돼야 한다”고 강조했다.\n",
    "\n",
    "출처 : 제주新보(http://www.jejunews.com)\"\"\""
   ]
  },
  {
   "cell_type": "code",
   "execution_count": null,
   "id": "a6e60435",
   "metadata": {},
   "outputs": [],
   "source": [
    "results = re.findall('네이버', news_text)"
   ]
  },
  {
   "cell_type": "code",
   "execution_count": null,
   "id": "c8029524",
   "metadata": {},
   "outputs": [],
   "source": [
    "len(results)"
   ]
  },
  {
   "cell_type": "code",
   "execution_count": null,
   "id": "b8784897",
   "metadata": {},
   "outputs": [],
   "source": [
    "chr(44032)"
   ]
  },
  {
   "cell_type": "code",
   "execution_count": null,
   "id": "e2ffc7c3",
   "metadata": {},
   "outputs": [],
   "source": [
    "chr(55203)"
   ]
  },
  {
   "cell_type": "code",
   "execution_count": null,
   "id": "443f7859",
   "metadata": {},
   "outputs": [],
   "source": [
    "ord('ㄱ')"
   ]
  },
  {
   "cell_type": "code",
   "execution_count": null,
   "id": "f221e87d",
   "metadata": {},
   "outputs": [],
   "source": [
    "ord('ㅎ')"
   ]
  },
  {
   "cell_type": "code",
   "execution_count": null,
   "id": "b52c8bd1",
   "metadata": {},
   "outputs": [],
   "source": []
  },
  {
   "cell_type": "code",
   "execution_count": null,
   "id": "8c88d83a",
   "metadata": {},
   "outputs": [],
   "source": [
    "# 핸드폰 번호 찾기"
   ]
  },
  {
   "cell_type": "code",
   "execution_count": null,
   "id": "4bcda987",
   "metadata": {},
   "outputs": [],
   "source": [
    "numbers = \"\"\"010-2334-3234\n",
    "02-302-3033\n",
    "010-1321-4043\n",
    "02-01-32\n",
    "33-3303-3033\n",
    "016-444-3042\"\"\""
   ]
  },
  {
   "cell_type": "code",
   "execution_count": null,
   "id": "765cd72a",
   "metadata": {},
   "outputs": [],
   "source": [
    "# 정규표현식 확인 - regexr 사이트에서\n",
    "regex = '\\d{3}\\-\\d{3,4}\\-\\d{4}'"
   ]
  },
  {
   "cell_type": "code",
   "execution_count": null,
   "id": "f7d8dfa6",
   "metadata": {},
   "outputs": [],
   "source": [
    "# 사용할 함수 - 여러개를 찾는 함수\n",
    "phones = re.findall(regex, numbers)"
   ]
  },
  {
   "cell_type": "code",
   "execution_count": null,
   "id": "df16820e",
   "metadata": {},
   "outputs": [],
   "source": [
    "phones"
   ]
  },
  {
   "cell_type": "code",
   "execution_count": null,
   "id": "23b78501",
   "metadata": {},
   "outputs": [],
   "source": [
    "phones = re.finditer(regex, numbers)\n",
    "phones"
   ]
  },
  {
   "cell_type": "code",
   "execution_count": null,
   "id": "bd7b1efd",
   "metadata": {},
   "outputs": [],
   "source": [
    "for phone in phones:\n",
    "    print(phone)\n",
    "    print(phone.group())"
   ]
  },
  {
   "cell_type": "code",
   "execution_count": null,
   "id": "e72bb24e",
   "metadata": {},
   "outputs": [],
   "source": []
  },
  {
   "cell_type": "code",
   "execution_count": null,
   "id": "09bfe11b",
   "metadata": {},
   "outputs": [],
   "source": [
    "# 수강한 과목 지우기"
   ]
  },
  {
   "cell_type": "code",
   "execution_count": null,
   "id": "3eeef677",
   "metadata": {},
   "outputs": [],
   "source": [
    "text = \"\"\"\n",
    "수강해야하는 과목\n",
    "(machine learning, deep learning)\n",
    "수강한 과목\n",
    "[python, django, web design]\n",
    "\"\"\""
   ]
  },
  {
   "cell_type": "code",
   "execution_count": null,
   "id": "968eb967",
   "metadata": {},
   "outputs": [],
   "source": [
    "print(text)"
   ]
  },
  {
   "cell_type": "code",
   "execution_count": null,
   "id": "1b5768e8",
   "metadata": {},
   "outputs": [],
   "source": [
    "result = re.sub('\\[.+\\]', '', text)"
   ]
  },
  {
   "cell_type": "code",
   "execution_count": null,
   "id": "d7d3ba9a",
   "metadata": {},
   "outputs": [],
   "source": [
    "print(result)"
   ]
  },
  {
   "cell_type": "code",
   "execution_count": null,
   "id": "d8634df6",
   "metadata": {},
   "outputs": [],
   "source": []
  },
  {
   "cell_type": "markdown",
   "id": "3498f2ab",
   "metadata": {},
   "source": [
    "## 실습 01\n",
    "\n",
    "- 정상적인 이메일만 출력해주세요."
   ]
  },
  {
   "cell_type": "code",
   "execution_count": null,
   "id": "d4ac5ddf",
   "metadata": {},
   "outputs": [],
   "source": [
    "email_text = \"\"\"\n",
    "jkilee@gmail.com kttredef@naver.com akdef!aa.com adekik@best.kr abkereff@aacde adefgree@korea.co.kr\n",
    "\"\"\""
   ]
  },
  {
   "cell_type": "code",
   "execution_count": null,
   "id": "657a4540",
   "metadata": {},
   "outputs": [],
   "source": [
    "# 참고 stackoverflow\n",
    "# re.findall에 () 그룹핑 정규표현식을 쓸 때 full-match가 되지 않는 이유\n",
    "# https://stackoverflow.com/questions/18425386/re-findall-not-returning-full-match"
   ]
  },
  {
   "cell_type": "code",
   "execution_count": null,
   "id": "1fd52e23",
   "metadata": {},
   "outputs": [],
   "source": [
    "regex = '\\w+\\@\\w+\\.\\w+(?:\\.\\w{2})?'"
   ]
  },
  {
   "cell_type": "code",
   "execution_count": null,
   "id": "45d4965d",
   "metadata": {},
   "outputs": [],
   "source": [
    "re.findall(regex, email_text)"
   ]
  },
  {
   "cell_type": "code",
   "execution_count": null,
   "id": "a2c5afe2",
   "metadata": {},
   "outputs": [],
   "source": [
    "for result in re.finditer(regex, email_text):\n",
    "    print(result.group())"
   ]
  },
  {
   "cell_type": "markdown",
   "id": "660b04ab",
   "metadata": {},
   "source": [
    "## 실습 02\n",
    "\n",
    "- 텍스트중에 <내용> 괄호로 묶여진 텍스트를 괄호 포함 모두 제거해주세요"
   ]
  },
  {
   "cell_type": "code",
   "execution_count": null,
   "id": "de7f74a0",
   "metadata": {},
   "outputs": [],
   "source": [
    "html_texts = \"\"\"\n",
    "안녕하세요 저는 <em>홍길동</em> 입니다. 나이는 24살 세계 최고의 <a href=\"aa.aa.com\">데이터 분석가</a>가 되고싶습니다.\n",
    "\"\"\""
   ]
  },
  {
   "cell_type": "code",
   "execution_count": null,
   "id": "9ce651de",
   "metadata": {},
   "outputs": [],
   "source": [
    "# \\<.*?\\> 가 동작하는 이유 (greedy & lazy)\n",
    "# https://velog.io/@commitnpush/Greedy-Lazy"
   ]
  },
  {
   "cell_type": "code",
   "execution_count": null,
   "id": "88d0324d",
   "metadata": {},
   "outputs": [],
   "source": [
    "# [^\\>]*의 의미 : \\> 가 아닌 모든 문자열을 매칭한다. \n",
    "# 따라서, \\> 를 만나면 멈추고 그 뒤의 정규표현식을 확인하게 되는데. 그 부분이 \\> 이므로, \n",
    "# <>안에서 >를 만나기 전까지 모든 문자열을 매칭하다가 >로 끝나는 것\n",
    "\n",
    "regex = '\\<[^\\>]*\\>'"
   ]
  },
  {
   "cell_type": "code",
   "execution_count": null,
   "id": "b91af1b5",
   "metadata": {},
   "outputs": [],
   "source": [
    "re.sub(regex, '', html_texts)"
   ]
  },
  {
   "cell_type": "code",
   "execution_count": null,
   "id": "4650df4a",
   "metadata": {},
   "outputs": [],
   "source": []
  },
  {
   "cell_type": "code",
   "execution_count": null,
   "id": "4c7ad31a",
   "metadata": {},
   "outputs": [],
   "source": [
    "# 본 예제에서 정규표현식\n",
    "# '\\<[!-z ]*\\>'가 동작하는 이유?"
   ]
  },
  {
   "cell_type": "code",
   "execution_count": null,
   "id": "924a4ec9",
   "metadata": {},
   "outputs": [],
   "source": []
  },
  {
   "cell_type": "markdown",
   "id": "51832d2a",
   "metadata": {},
   "source": [
    "## 실습 03\n",
    "\n",
    "1. 정규표현식을 이용 <span>내용</span> 을 각각 추출\n",
    "2. 추출된 항목에서 <span>과 </span> 태그를 모두제거\n",
    "3. 각각 총 3개의 항목을 리스트에 넣기"
   ]
  },
  {
   "cell_type": "code",
   "execution_count": null,
   "id": "54c27d33",
   "metadata": {},
   "outputs": [],
   "source": [
    "html_texts = \"\"\"\n",
    "<p>\n",
    "<span>네이버가 뉴스 서비스에 인공지능(AI)을 도입해 페이지 뷰(PV)를 늘리고 이용자를 끌어 모으고 있다.</span>\n",
    "<span>네이버는 5일 오전 서울 강남구 그랜드 인터컨티넨털 호텔에서 AI 콜로키움 2019를 열고 이 같은 AI 성과와 전략을 소개했다.\n",
    "</span> <span>이날 기조연설에서 김광현 네이버 서치앤클로바 리더는 \"AI 뉴스 추천 시스템인 에어스(AiRS)를 도입하면서 뉴스 소비량이 확대되고 있다\" 고 말했다.</span>\n",
    "</p>\n",
    "\"\"\""
   ]
  },
  {
   "cell_type": "code",
   "execution_count": null,
   "id": "86a2b173",
   "metadata": {},
   "outputs": [],
   "source": [
    "# 1번 span태그 내용 가져오기\n",
    "regex = '\\<span\\>[^\\<]*\\<\\/span\\>'"
   ]
  },
  {
   "cell_type": "code",
   "execution_count": null,
   "id": "ee5cd53d",
   "metadata": {},
   "outputs": [],
   "source": [
    "first_results = re.findall(regex, html_texts)"
   ]
  },
  {
   "cell_type": "code",
   "execution_count": null,
   "id": "9c1dab6e",
   "metadata": {},
   "outputs": [],
   "source": [
    "first_results"
   ]
  },
  {
   "cell_type": "code",
   "execution_count": null,
   "id": "b7c00dfc",
   "metadata": {},
   "outputs": [],
   "source": [
    "# 2번. 각각에서 <span>, </span> 태그 지우기"
   ]
  },
  {
   "cell_type": "code",
   "execution_count": null,
   "id": "0c7373a0",
   "metadata": {},
   "outputs": [],
   "source": [
    "# 실습 2번에서 썼던 태그 지우는 정규표현식 사용\n",
    "regex = '\\<[^\\>]*\\>'"
   ]
  },
  {
   "cell_type": "code",
   "execution_count": null,
   "id": "b7667d57",
   "metadata": {},
   "outputs": [],
   "source": [
    "second_results = []\n",
    "for result in first_results:\n",
    "    text = re.sub(regex, '', result)\n",
    "    second_results.append(text)"
   ]
  },
  {
   "cell_type": "code",
   "execution_count": null,
   "id": "26120c95",
   "metadata": {},
   "outputs": [],
   "source": [
    "second_results"
   ]
  },
  {
   "cell_type": "markdown",
   "id": "5756c8e9",
   "metadata": {},
   "source": [
    "## 실습 03 - 심화\n",
    "\n",
    "- 위에서 했던 정규표현식을 하나로 표현"
   ]
  },
  {
   "cell_type": "code",
   "execution_count": null,
   "id": "ec71ab17",
   "metadata": {},
   "outputs": [],
   "source": [
    "regex = '(?<=\\<span\\>)[^<]*(?=\\<\\/span\\>)'"
   ]
  },
  {
   "cell_type": "code",
   "execution_count": null,
   "id": "ef5c3e3e",
   "metadata": {},
   "outputs": [],
   "source": [
    "final_results = []\n",
    "for result in re.finditer(regex, html_texts):\n",
    "    print(result)\n",
    "    final_results.append(result.group())"
   ]
  },
  {
   "cell_type": "code",
   "execution_count": null,
   "id": "60b0b15f",
   "metadata": {},
   "outputs": [],
   "source": [
    "final_results"
   ]
  },
  {
   "cell_type": "code",
   "execution_count": null,
   "id": "6f7017bf",
   "metadata": {},
   "outputs": [],
   "source": [
    "%pip install selenium"
   ]
  },
  {
   "cell_type": "code",
   "execution_count": null,
   "id": "a3b4a2f9",
   "metadata": {},
   "outputs": [],
   "source": [
    "from selenium import webdriver\n",
    "from selenium.webdriver.common.by import By\n",
    "from selenium.webdriver.common.keys import Keys\n",
    "chrome_path = 'c:/webdriver/chromedriver' \n",
    "driver = webdriver.Chrome(chrome_path) # deprecated"
   ]
  },
  {
   "cell_type": "code",
   "execution_count": null,
   "id": "639a14b6",
   "metadata": {},
   "outputs": [],
   "source": [
    "from selenium import webdriver\n",
    "from selenium.webdriver.common.by import By\n",
    "from selenium.webdriver.common.keys import Keys\n",
    "chrome_path = 'c:/webdriver/chromedriver' \n",
    "driver = webdriver.Chrome(chrome_path) # deprecated"
   ]
  },
  {
   "cell_type": "code",
   "execution_count": null,
   "id": "16676ee6",
   "metadata": {},
   "outputs": [],
   "source": []
  }
 ],
 "metadata": {
  "kernelspec": {
   "display_name": "study",
   "language": "python",
   "name": "python3"
  },
  "language_info": {
   "codemirror_mode": {
    "name": "ipython",
    "version": 3
   },
   "file_extension": ".py",
   "mimetype": "text/x-python",
   "name": "python",
   "nbconvert_exporter": "python",
   "pygments_lexer": "ipython3",
   "version": "3.10.9"
  },
  "vscode": {
   "interpreter": {
    "hash": "736a4258c238b8ad314a4f07cbc4fb94bd99adfa3f65edb9ce29e7d0df91bca0"
   }
  }
 },
 "nbformat": 4,
 "nbformat_minor": 5
}
