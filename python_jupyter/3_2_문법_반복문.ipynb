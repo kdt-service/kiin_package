{
 "cells": [
  {
   "cell_type": "markdown",
   "metadata": {},
   "source": [
    "# 반복문(Loop Statement)\n",
    "\n",
    "- while\n",
    "- for"
   ]
  },
  {
   "cell_type": "markdown",
   "metadata": {},
   "source": [
    "## `while` 반복문\n",
    "\n",
    "`while` 문은 조건식이 참(`True`)인 경우 반복적으로 코드를 실행합니다.\n",
    "\n",
    "\n",
    "### 활용법\n",
    "- **문법**\n",
    "\n",
    "```python\n",
    "while <조건식>:\n",
    "    <코드 블럭>\n",
    "```\n",
    "\n",
    "- 예시\n",
    "\n",
    "```python\n",
    "while True:\n",
    "    print('조건식이 참일 때까지')\n",
    "    print('계속 반복')\n",
    "```\n",
    "\n",
    "### 주의사항\n",
    "* `while` 문 역시 조건식 뒤에 콜론(`:`)이 반드시 필요하며, 이후 실행될 코드 블럭은 **4spaces**로 **들여쓰기**를 합니다.\n",
    "* **반드시 종료조건을 설정해야 합니다.**\n",
    "\n",
    "\n",
    "<br>\n",
    "<center>\n",
    "    <img src=\"https://user-images.githubusercontent.com/18046097/61180567-3ac50e80-a653-11e9-9f12-39c404f4be30.png\", alt=\"\">\n",
    "</center>"
   ]
  },
  {
   "cell_type": "code",
   "execution_count": 1,
   "metadata": {
    "scrolled": true
   },
   "outputs": [
    {
     "name": "stdout",
     "output_type": "stream",
     "text": [
      "조건식이 참일 때까지\n",
      "계속 반복\n"
     ]
    }
   ],
   "source": [
    "while True:\n",
    "    print('조건식이 참일 때까지')\n",
    "    print('계속 반복')\n",
    "    \n",
    "    # 종료 조건 !!\n",
    "    break"
   ]
  },
  {
   "cell_type": "markdown",
   "metadata": {},
   "source": [
    "<br>\n",
    "<center>\n",
    "    <img src=\"https://user-images.githubusercontent.com/18046097/61180568-3ac50e80-a653-11e9-9960-ba15137290a6.png\", alt=\"while\"/>\n",
    "</center>"
   ]
  },
  {
   "cell_type": "code",
   "execution_count": null,
   "metadata": {},
   "outputs": [],
   "source": [
    "# 위의 flow chart를 반복문을 통해 만들어봅시다.\n",
    "# 아래에 코드를 작성하세요.\n",
    "# while 문을 활용해봅시다."
   ]
  },
  {
   "cell_type": "code",
   "execution_count": 6,
   "metadata": {
    "scrolled": true
   },
   "outputs": [
    {
     "name": "stdout",
     "output_type": "stream",
     "text": [
      "0\n",
      "1\n",
      "2\n",
      "3\n",
      "4\n",
      "끝\n",
      "5\n"
     ]
    }
   ],
   "source": [
    "a = 0\n",
    "while a < 5:\n",
    "    print(a)\n",
    "    a = a + 1\n",
    "\n",
    "print('끝')\n",
    "print(a)"
   ]
  },
  {
   "cell_type": "markdown",
   "metadata": {},
   "source": [
    "### [연습] while 문 작성하기\n",
    "> 사용자가 \"안녕\"이라고 입력할 때까지 인사하는 코드를 작성해보세요."
   ]
  },
  {
   "cell_type": "code",
   "execution_count": null,
   "metadata": {},
   "outputs": [],
   "source": [
    "# 아래에 코드를 작성하세요.\n",
    "# while 문을 활용해봅시다.\n",
    "\n",
    "# user_input에 초기값으로 비어있는 문자열을 초기화하고,\n",
    "\n",
    "# user_input에 할당되는 값이 '안녕'일 때까지,\n",
    "    # '안녕?'을 출력하고\n",
    "    # user_input에 사용자의 입력값을 받는 코드를 작성하시오."
   ]
  },
  {
   "cell_type": "code",
   "execution_count": 10,
   "metadata": {},
   "outputs": [
    {
     "name": "stdout",
     "output_type": "stream",
     "text": [
      "안녕?\n",
      "안녕22\n",
      "안녕?\n",
      "안녕\n"
     ]
    }
   ],
   "source": [
    "# user_input에 초기값으로 비어있는 문자열로 초기화하고(할당하고),\n",
    "user_input = ''\n",
    "\n",
    "# user_input에 할당되는 값이 '안녕'일 때까지,\n",
    "while user_input != '안녕':\n",
    "    # '안녕?'을 출력하고\n",
    "    print('안녕?')\n",
    "    # user_input에 사용자의 입력값을 받는 코드를 작성하시오.\n",
    "    user_input = input()"
   ]
  },
  {
   "cell_type": "markdown",
   "metadata": {},
   "source": [
    "### [실습] 합(Summation)\n",
    "\n",
    "> 1부터 사용자가 입력한 양의 정수까지의 총합을 구하는 코드를 작성해보세요.\n",
    "\n",
    "---\n",
    "**[입력 예시]**\n",
    "\n",
    "10\n",
    "\n",
    "**[출력 예시]**\n",
    "\n",
    "55"
   ]
  },
  {
   "cell_type": "code",
   "execution_count": null,
   "metadata": {},
   "outputs": [],
   "source": [
    "# 아래에 코드를 작성하세요."
   ]
  },
  {
   "cell_type": "code",
   "execution_count": 16,
   "metadata": {},
   "outputs": [
    {
     "name": "stdout",
     "output_type": "stream",
     "text": [
      "10\n",
      "num은 뭐야? 2\n",
      "sum_value가 뭐야? 1\n",
      "num은 뭐야? 3\n",
      "sum_value가 뭐야? 3\n",
      "num은 뭐야? 4\n",
      "sum_value가 뭐야? 6\n",
      "num은 뭐야? 5\n",
      "sum_value가 뭐야? 10\n",
      "num은 뭐야? 6\n",
      "sum_value가 뭐야? 15\n",
      "num은 뭐야? 7\n",
      "sum_value가 뭐야? 21\n",
      "num은 뭐야? 8\n",
      "sum_value가 뭐야? 28\n",
      "num은 뭐야? 9\n",
      "sum_value가 뭐야? 36\n",
      "num은 뭐야? 10\n",
      "sum_value가 뭐야? 45\n",
      "num은 뭐야? 11\n",
      "sum_value가 뭐야? 55\n"
     ]
    }
   ],
   "source": [
    "# 전체적인 로직?\n",
    "\n",
    "# 1. 사용자의 입력을 받는다 -> 숫자화\n",
    "\n",
    "# 초기값이 1인 num 변수를 선언\n",
    "# 총합을 저장할 sum_value 변수를 선언한다. (누적)\n",
    "\n",
    "# 2. 1부터 사용자입력까지 더한다. (반복문을 통해서 - while)\n",
    "    # sum_value에 num을 누적시켜준다.\n",
    "    # num += 1 하나씩 늘려준다. 1, 2, 3, ... , user_number까지\n",
    "    \n",
    "    # 종료 조건? num > user_number\n",
    "\n",
    "user_number = int(input())\n",
    "\n",
    "num = 1\n",
    "sum_value = 0\n",
    "\n",
    "while num <= user_number:\n",
    "    sum_value += num\n",
    "    num += 1\n",
    "    print('num은 뭐야?', num)\n",
    "    print('sum_value가 뭐야?', sum_value)\n",
    "\n",
    "print(sum_value)\n",
    "\n",
    "# 로직에 대한 내 생각 -> 컴퓨터가 하는 생각 -> 코드\n",
    "\n",
    "# 어떤 숫자까지 곱하는건 초기값으로 1 -> \n",
    "# 어떤 숫자까지 더하는건 초기값으로 0 -> 2 -> 6 -> 11\n"
   ]
  },
  {
   "cell_type": "markdown",
   "metadata": {},
   "source": [
    "### [응용] 한자리 씩 출력하기\n",
    "\n",
    "> 사용자로부터 숫자 입력 받은 양의 정수의 각 자리 수를 1의 자리부터 차례대로 출력하는 코드를 작성해보세요.\n",
    "\n",
    "\n",
    "---\n",
    "**[입력 예시]**\n",
    "\n",
    "185\n",
    "\n",
    "**[출력 예시]**\n",
    "\n",
    "5\n",
    "\n",
    "8\n",
    "\n",
    "1"
   ]
  },
  {
   "cell_type": "code",
   "execution_count": null,
   "metadata": {},
   "outputs": [],
   "source": [
    "# 185을 10으로 나눈 나머지와 몫\n",
    "# 몫 18, 나머지 5\n",
    "(18, 5) = divmod(185, 10)\n",
    "\n",
    "# 185 % 10 => 나머지\n",
    "# 185 // 10 => 몫\n"
   ]
  },
  {
   "cell_type": "code",
   "execution_count": null,
   "metadata": {},
   "outputs": [],
   "source": [
    "# 아래에 코드를 작성하세요."
   ]
  },
  {
   "cell_type": "code",
   "execution_count": 22,
   "metadata": {},
   "outputs": [
    {
     "name": "stdout",
     "output_type": "stream",
     "text": [
      "185\n",
      "5\n",
      "8\n",
      "1\n"
     ]
    }
   ],
   "source": [
    "# 생각 -> 로직 구상 -> 컴퓨터가 이해할 수 있도록 표현 -> 코드\n",
    "\n",
    "# 1. 유저의 입력을 받는다. -> user_input, int(), input()\n",
    "\n",
    "# 2. 숫자를 1의자리 부터 순서대로 출력한다. -> while\n",
    "    # 10으로 나눈 나머지를 출력한다.\n",
    "    # 10으로 나눈 몫을 user_input에 넣는다.\n",
    "    \n",
    "    # 종료조건? user_input 0이면, 1보다 작으면\n",
    "    \n",
    "# user_input = int(input())\n",
    "\n",
    "# 첫 번째 방법 - 산술연산자 사용하기\n",
    "# while user_input != 0:\n",
    "#     print(user_input % 10)\n",
    "#     user_input = user_input // 10\n",
    "    \n",
    "# 두 번째 방법 - divmod\n",
    "# while user_input != 0:\n",
    "#     몫, 나머지 = divmod(user_input, 10)\n",
    "#     print(나머지)\n",
    "#     user_input = 몫\n",
    "    \n",
    "# 세 번째 방법 -indexing 활용\n",
    "user_input = input()\n",
    "'185'\n",
    "idx = 1\n",
    "while idx <= len(user_input): # 3\n",
    "    print(user_input[-idx])\n",
    "    idx = idx + 1"
   ]
  },
  {
   "cell_type": "code",
   "execution_count": 24,
   "metadata": {},
   "outputs": [],
   "source": [
    "# while True:\n",
    "#     print('이거 계속 출력')"
   ]
  },
  {
   "cell_type": "markdown",
   "metadata": {},
   "source": [
    "## `for` 문\n",
    "\n",
    "`for` 문은 시퀀스(string, tuple, list, range)를 포함한 순회가능한 객체(iterable)의 요소들을 순회합니다.\n",
    "\n",
    "---\n",
    "\n",
    "### 활용법\n",
    "- **문법**\n",
    "\n",
    "```python\n",
    "for <임시변수> in <순회가능한데이터(iterable)>:\n",
    "    <코드 블럭>\n",
    "```\n",
    "\n",
    "- **예시**\n",
    "\n",
    "```python\n",
    "for menu in ['김밥', '햄버거', '피자', '라면']:\n",
    "    print(menu)\n",
    "```"
   ]
  },
  {
   "cell_type": "code",
   "execution_count": 4,
   "metadata": {},
   "outputs": [
    {
     "name": "stdout",
     "output_type": "stream",
     "text": [
      "김밥\n",
      "햄버거\n",
      "피자\n",
      "라면\n"
     ]
    }
   ],
   "source": [
    "for menu2 in ['김밥', '햄버거', '피자', '라면']:\n",
    "    print(menu2)"
   ]
  },
  {
   "cell_type": "markdown",
   "metadata": {},
   "source": [
    "<center>\n",
    "    <img src=\"https://user-images.githubusercontent.com/18046097/61180565-3a2c7800-a653-11e9-806a-28838248de31.png\", alt=\"\">\n",
    "</center>"
   ]
  },
  {
   "cell_type": "code",
   "execution_count": null,
   "metadata": {},
   "outputs": [],
   "source": [
    "# flowchart를 for문을 통해 코드로 작성해봅시다.\n",
    "# 아래에 코드를 작성하세요."
   ]
  },
  {
   "cell_type": "code",
   "execution_count": 30,
   "metadata": {},
   "outputs": [
    {
     "name": "stdout",
     "output_type": "stream",
     "text": [
      "0\n",
      "1\n",
      "2\n",
      "3\n",
      "4\n",
      "5\n",
      "6\n",
      "7\n",
      "8\n",
      "9\n",
      "김밥\n",
      "햄버거\n",
      "피자\n",
      "라면\n"
     ]
    }
   ],
   "source": [
    "# range(10) => 0부터 9까지\n",
    "for i in range(10):\n",
    "    print(i)\n",
    "\n",
    "# [0, 1, 2, 3, 4, 5, 6, 7, 8, 9]\n",
    "\n",
    "menus = ['김밥', '햄버거', '피자', '라면']\n",
    "for menu in menus:\n",
    "    print(menu)"
   ]
  },
  {
   "cell_type": "markdown",
   "metadata": {},
   "source": [
    "![for animation](https://user-images.githubusercontent.com/18046097/61180563-3a2c7800-a653-11e9-8a7a-c7d6e6b30141.gif)"
   ]
  },
  {
   "cell_type": "markdown",
   "metadata": {},
   "source": [
    "`for` 문에서 요소 값에 다른 값을 할당해도 다음 반복구문에 영향을 주지 않습니다.\n",
    "\n",
    "다음 요소 값에 의해 덮어 씌워지기 때문입니다."
   ]
  },
  {
   "cell_type": "code",
   "execution_count": null,
   "metadata": {},
   "outputs": [],
   "source": [
    "# for 문 안에서 임시 변수에 다른 값을 할당해도 반복구문에 영향을 주지 않습니다."
   ]
  },
  {
   "cell_type": "code",
   "execution_count": 31,
   "metadata": {},
   "outputs": [
    {
     "name": "stdout",
     "output_type": "stream",
     "text": [
      "0\n",
      "hello\n",
      "1\n",
      "hello\n",
      "2\n",
      "hello\n",
      "3\n",
      "hello\n",
      "4\n",
      "hello\n",
      "5\n",
      "hello\n",
      "6\n",
      "hello\n",
      "7\n",
      "hello\n",
      "8\n",
      "hello\n",
      "9\n",
      "hello\n"
     ]
    }
   ],
   "source": [
    "for i in range(10):\n",
    "    print(i)\n",
    "    i = 'hello'\n",
    "    print(i)"
   ]
  },
  {
   "cell_type": "markdown",
   "metadata": {},
   "source": [
    "### [연습] for 문 작성하기\n",
    "> `for` 문을 활용하여 사용자가 입력한 문자를 한글자씩 출력해보세요.\n",
    "\n",
    "---\n",
    "**[입력 예시]**\n",
    "```\n",
    "문자를 입력하세요 : 안녕!\n",
    "```\n",
    "\n",
    "\n",
    "**[출력 예시]**\n",
    "\n",
    "```\n",
    "안\n",
    "녕\n",
    "!\n",
    "```"
   ]
  },
  {
   "cell_type": "code",
   "execution_count": 32,
   "metadata": {},
   "outputs": [
    {
     "name": "stdout",
     "output_type": "stream",
     "text": [
      "문자를 입력하세요 : 안녕!\n"
     ]
    }
   ],
   "source": [
    "chars = input('문자를 입력하세요 : ')"
   ]
  },
  {
   "cell_type": "code",
   "execution_count": 41,
   "metadata": {},
   "outputs": [
    {
     "data": {
      "text/plain": [
       "'안녕!'"
      ]
     },
     "execution_count": 41,
     "metadata": {},
     "output_type": "execute_result"
    }
   ],
   "source": [
    "chars"
   ]
  },
  {
   "cell_type": "code",
   "execution_count": null,
   "metadata": {},
   "outputs": [],
   "source": [
    "# 아래에 코드를 작성하세요.\n",
    "# for 문을 활용해봅시다.\n",
    "# 변수 char에 할당된 문자를 한글자씩 출력하는 for 반복문을 작성하시오."
   ]
  },
  {
   "cell_type": "code",
   "execution_count": 40,
   "metadata": {},
   "outputs": [
    {
     "name": "stdout",
     "output_type": "stream",
     "text": [
      "안\n",
      "녕\n",
      "!\n"
     ]
    }
   ],
   "source": [
    "for char in chars:\n",
    "    print(char)"
   ]
  },
  {
   "cell_type": "markdown",
   "metadata": {},
   "source": [
    "###  [실습] for 문과 if 문 작성하기\n",
    "\n",
    "> 반복문과 조건문만 활용하여 1~30까지 숫자 중에 홀수만 출력해보세요.\n",
    "\n",
    "---\n",
    "\n",
    "**[출력 예시]**\n",
    "\n",
    "```\n",
    "1\n",
    "3\n",
    "5\n",
    "...\n",
    "27\n",
    "29\n",
    "```"
   ]
  },
  {
   "cell_type": "code",
   "execution_count": null,
   "metadata": {},
   "outputs": [],
   "source": [
    "# 아래에 코드를 작성하세요."
   ]
  },
  {
   "cell_type": "code",
   "execution_count": 42,
   "metadata": {},
   "outputs": [
    {
     "name": "stdout",
     "output_type": "stream",
     "text": [
      "1\n",
      "3\n",
      "5\n",
      "7\n",
      "9\n",
      "11\n",
      "13\n",
      "15\n",
      "17\n",
      "19\n",
      "21\n",
      "23\n",
      "25\n",
      "27\n",
      "29\n"
     ]
    }
   ],
   "source": [
    "for i in range(1, 31):\n",
    "    if i % 2 != 0: # 나눈 나머지가 1 -> 홀수라는 뜻\n",
    "        print(i)\n",
    "    \n",
    "    # break ?"
   ]
  },
  {
   "cell_type": "code",
   "execution_count": 43,
   "metadata": {},
   "outputs": [],
   "source": [
    "go = list(range(1, 30))"
   ]
  },
  {
   "cell_type": "code",
   "execution_count": 47,
   "metadata": {},
   "outputs": [
    {
     "name": "stdout",
     "output_type": "stream",
     "text": [
      "1\n",
      "3\n",
      "5\n",
      "7\n",
      "9\n",
      "11\n",
      "13\n",
      "15\n",
      "17\n",
      "19\n",
      "21\n",
      "23\n",
      "25\n",
      "27\n",
      "29\n"
     ]
    }
   ],
   "source": [
    "for g in go:\n",
    "    g = 2 * g - 1\n",
    "    if g > 30 :\n",
    "        break\n",
    "    print(g)"
   ]
  },
  {
   "cell_type": "code",
   "execution_count": 49,
   "metadata": {},
   "outputs": [
    {
     "data": {
      "text/plain": [
       "[1, 3, 5, 7, 9, 11, 13, 15, 17, 19, 21, 23, 25, 27, 29]"
      ]
     },
     "execution_count": 49,
     "metadata": {},
     "output_type": "execute_result"
    }
   ],
   "source": [
    "list(range(1, 31, 2))"
   ]
  },
  {
   "cell_type": "markdown",
   "metadata": {},
   "source": [
    "### 리스트(list) 순회에서 index의 활용하기\n",
    "\n",
    "#### `range(리스트의 길이)`\n",
    "`range()`와 순회할 list의 길이를 활용하여 index를 조작 가능합니다."
   ]
  },
  {
   "cell_type": "code",
   "execution_count": null,
   "metadata": {},
   "outputs": [],
   "source": [
    "# range 함수로 0~3 범위를 순회하여 출력하는 for 문을 작성해봅시다."
   ]
  },
  {
   "cell_type": "code",
   "execution_count": 50,
   "metadata": {},
   "outputs": [
    {
     "name": "stdout",
     "output_type": "stream",
     "text": [
      "0\n",
      "1\n",
      "2\n",
      "3\n"
     ]
    }
   ],
   "source": [
    "for i in range(4):\n",
    "    print(i)"
   ]
  },
  {
   "cell_type": "code",
   "execution_count": 51,
   "metadata": {},
   "outputs": [],
   "source": [
    "# range(리스트의 길이)를 활용해서 출력해봅시다.\n",
    "# 0부터 리스트의 길이 만큼의 범위를 순회하면서 인덱스 숫자를 출력하는 for 문을 작성해봅시다.\n",
    "lunch = ['짜장면', '초밥', '피자']"
   ]
  },
  {
   "cell_type": "code",
   "execution_count": 53,
   "metadata": {},
   "outputs": [
    {
     "data": {
      "text/plain": [
       "3"
      ]
     },
     "execution_count": 53,
     "metadata": {},
     "output_type": "execute_result"
    }
   ],
   "source": [
    "len(lunch)"
   ]
  },
  {
   "cell_type": "code",
   "execution_count": 52,
   "metadata": {},
   "outputs": [
    {
     "data": {
      "text/plain": [
       "range(0, 3)"
      ]
     },
     "execution_count": 52,
     "metadata": {},
     "output_type": "execute_result"
    }
   ],
   "source": [
    "range(len(lunch))"
   ]
  },
  {
   "cell_type": "code",
   "execution_count": null,
   "metadata": {},
   "outputs": [],
   "source": [
    "# 순서를 함께 출력해봅시다.\n",
    "# 출력 예) \n",
    "# 1번째 메뉴: 짜장면\n",
    "# 2번째 메뉴: 초밥\n",
    "# 3번째 메뉴: 피자\n",
    "# 리스트의 길이 만큼의 범위를 순회하면서 메뉴의 순서와 해당 순서의 메뉴를 출력하는 for 문을 작성해봅시다."
   ]
  },
  {
   "cell_type": "code",
   "execution_count": 56,
   "metadata": {},
   "outputs": [
    {
     "name": "stdout",
     "output_type": "stream",
     "text": [
      "인덱스 1\n",
      "메뉴 짜장면\n",
      "인덱스 2\n",
      "메뉴 초밥\n",
      "인덱스 3\n",
      "메뉴 피자\n"
     ]
    }
   ],
   "source": [
    "for i in range(len(lunch)):\n",
    "    print('인덱스', i + 1)\n",
    "    print('메뉴', lunch[i])"
   ]
  },
  {
   "cell_type": "markdown",
   "metadata": {},
   "source": [
    "#### `enumerate()`\n",
    "인덱스(index)와 값(value)을 함께 활용 가능합니다.\n",
    "\n",
    "> `enumerate()`를 활용하면, 추가적인 변수를 활용할 수 있습니다.\n",
    "- `enumerate()`는 [내장 함수](https://docs.python.org/ko/3.6/library/functions.html) 중 하나이며, 다음과 같이 구성되어 있습니다.\n",
    ">\n",
    "> <center>\n",
    "    <img src=\"https://user-images.githubusercontent.com/18046097/61180561-3993e180-a653-11e9-9558-085c9a0ad65d.png\", alt=\"enumerate\">\n",
    "</center>"
   ]
  },
  {
   "cell_type": "code",
   "execution_count": 57,
   "metadata": {},
   "outputs": [],
   "source": [
    "# enumerate()를 활용해서 출력해봅시다.\n",
    "lunch = ['짜장면', '초밥', '피자']"
   ]
  },
  {
   "cell_type": "code",
   "execution_count": 62,
   "metadata": {},
   "outputs": [
    {
     "data": {
      "text/plain": [
       "[(0, '짜장면'), (1, '초밥'), (2, '피자')]"
      ]
     },
     "execution_count": 62,
     "metadata": {},
     "output_type": "execute_result"
    }
   ],
   "source": [
    "list(enumerate(lunch))"
   ]
  },
  {
   "cell_type": "code",
   "execution_count": 63,
   "metadata": {},
   "outputs": [
    {
     "name": "stdout",
     "output_type": "stream",
     "text": [
      "0 짜장면\n",
      "1 초밥\n",
      "2 피자\n"
     ]
    }
   ],
   "source": [
    "# enumerate() 에 의해 반환되는 인덱스와 값(value)를 함께 출력하는 for 반복문을 작성해봅시다.\n",
    "for idx, menu in enumerate(lunch):\n",
    "    print(idx, menu)"
   ]
  },
  {
   "cell_type": "code",
   "execution_count": null,
   "metadata": {},
   "outputs": [],
   "source": [
    "# enumerate()를 사용하였을 때 어떻게 표현이 되는지 확인해봅시다."
   ]
  },
  {
   "cell_type": "code",
   "execution_count": 64,
   "metadata": {},
   "outputs": [
    {
     "name": "stdout",
     "output_type": "stream",
     "text": [
      "<enumerate object at 0x00000281FF4B6340>\n",
      "[(0, '짜장면'), (1, '초밥'), (2, '피자')]\n"
     ]
    }
   ],
   "source": [
    "print(enumerate(lunch))\n",
    "print(list(enumerate(lunch)))"
   ]
  },
  {
   "cell_type": "code",
   "execution_count": null,
   "metadata": {},
   "outputs": [],
   "source": [
    "# 첫번째 항목의 type을 확인해봅시다."
   ]
  },
  {
   "cell_type": "code",
   "execution_count": 65,
   "metadata": {},
   "outputs": [
    {
     "name": "stdout",
     "output_type": "stream",
     "text": [
      "(0, '짜장면')\n",
      "<class 'tuple'>\n"
     ]
    }
   ],
   "source": [
    "print(list(enumerate(lunch))[0])\n",
    "print(type(list(enumerate(lunch))[0])) # tuple"
   ]
  },
  {
   "cell_type": "markdown",
   "metadata": {},
   "source": [
    "* 숫자를 1부터 카운트 할 수도 있습니다."
   ]
  },
  {
   "cell_type": "code",
   "execution_count": 66,
   "metadata": {},
   "outputs": [
    {
     "name": "stdout",
     "output_type": "stream",
     "text": [
      "1 짜장면\n",
      "2 초밥\n",
      "3 피자\n"
     ]
    }
   ],
   "source": [
    "# enumerate() 에 의해 반환되는 인덱스가 1로 시작하여 카운트되는 for 반복문을 작성해봅시다.\n",
    "for idx, menu in enumerate(lunch, start=1):\n",
    "    print(idx, menu)"
   ]
  },
  {
   "cell_type": "markdown",
   "metadata": {},
   "source": [
    "## 반복제어(`break`, `continue`, `for-else`)"
   ]
  },
  {
   "cell_type": "markdown",
   "metadata": {},
   "source": [
    "### `break` \n",
    "\n",
    "반복문을 종료합니다.\n",
    "\n",
    "* `for` 나 `while` 문에서 빠져나갑니다."
   ]
  },
  {
   "cell_type": "code",
   "execution_count": null,
   "metadata": {},
   "outputs": [],
   "source": [
    "# while 문에서 break를 활용해봅시다."
   ]
  },
  {
   "cell_type": "code",
   "execution_count": 67,
   "metadata": {},
   "outputs": [
    {
     "name": "stdout",
     "output_type": "stream",
     "text": [
      "0\n",
      "1\n",
      "2\n"
     ]
    }
   ],
   "source": [
    "# 종료 조건이 있는 while 문을 작성해봅시다.\n",
    "n = 0\n",
    "while n < 3:\n",
    "    print(n)\n",
    "    n += 1"
   ]
  },
  {
   "cell_type": "code",
   "execution_count": null,
   "metadata": {},
   "outputs": [],
   "source": [
    "# 종료 조건이 없는 while 문을 break 를 활용해서 종료시키는 코드를 작성해봅시다."
   ]
  },
  {
   "cell_type": "code",
   "execution_count": 69,
   "metadata": {},
   "outputs": [
    {
     "name": "stdout",
     "output_type": "stream",
     "text": [
      "반복문 종료되나요?\n",
      "반복문 종료되나요?\n",
      "반복문 종료되나요?\n",
      "반복문 종료되나요?\n",
      "반복문 종료되나요?\n",
      "반복문 종료되나요?\n"
     ]
    }
   ],
   "source": [
    "cnt = 0\n",
    "while True:\n",
    "    print('반복문 종료되나요?')\n",
    "    \n",
    "    if cnt == 5:\n",
    "        break\n",
    "        \n",
    "    cnt += 1"
   ]
  },
  {
   "cell_type": "code",
   "execution_count": null,
   "metadata": {},
   "outputs": [],
   "source": [
    "# for 문에서도 break를 사용할 수 있습니다.\n",
    "# 0부터 9까지 순회하는 for 반복문 안에서 \n",
    "# 1을 초과하는 경우 '1 초과' 를 출력하며 종료하는 코드를 작성해봅시다."
   ]
  },
  {
   "cell_type": "code",
   "execution_count": 71,
   "metadata": {},
   "outputs": [
    {
     "name": "stdout",
     "output_type": "stream",
     "text": [
      "0\n",
      "1\n",
      "1 초과\n"
     ]
    }
   ],
   "source": [
    "for i in range(10):\n",
    "    if i > 1:\n",
    "        print('1 초과')\n",
    "        break\n",
    "    print(i)"
   ]
  },
  {
   "cell_type": "markdown",
   "metadata": {},
   "source": [
    "### [연습] `break` 활용하기\n",
    "\n",
    "> 조건문과 반복문, `break`를 활용하여 리스트에서 쌀이 나왔을때 `for` 문을 멈추는 코드를 작성하세요.\n",
    "\n",
    "---\n",
    "\n",
    "**[출력 예시]**\n",
    "\n",
    "보리\n",
    "\n",
    "보리\n",
    "\n",
    "쌀\n",
    "\n",
    "잡았다!"
   ]
  },
  {
   "cell_type": "code",
   "execution_count": 10,
   "metadata": {},
   "outputs": [],
   "source": [
    "rice = ['보리', '보리', '쌀', '보리']\n",
    "\n",
    "# 아래에 코드를 작성하세요."
   ]
  },
  {
   "cell_type": "code",
   "execution_count": 6,
   "metadata": {},
   "outputs": [],
   "source": [
    "rice = ['보리','보리','보리','보리','보리']"
   ]
  },
  {
   "cell_type": "code",
   "execution_count": 11,
   "metadata": {
    "scrolled": true
   },
   "outputs": [
    {
     "name": "stdout",
     "output_type": "stream",
     "text": [
      "보리\n",
      "보리\n",
      "쌀\n",
      "잡았다!\n"
     ]
    }
   ],
   "source": [
    "for r in rice:\n",
    "    print(r)\n",
    "    if r == '쌀':\n",
    "        print('잡았다!')\n",
    "        break\n"
   ]
  },
  {
   "cell_type": "markdown",
   "metadata": {},
   "source": [
    "### `continue`\n",
    "\n",
    "`continue`문은 continue 이후의 코드를 수행하지 않고 *다음 요소부터 계속(continue)하여* 반복을 수행합니다."
   ]
  },
  {
   "cell_type": "code",
   "execution_count": null,
   "metadata": {},
   "outputs": [],
   "source": [
    "# continue 문을 확인해봅시다."
   ]
  },
  {
   "cell_type": "code",
   "execution_count": 72,
   "metadata": {
    "ExecuteTime": {
     "end_time": "2021-01-15T08:54:19.617198Z",
     "start_time": "2021-01-15T08:54:19.615196Z"
    }
   },
   "outputs": [
    {
     "name": "stdout",
     "output_type": "stream",
     "text": [
      "1는 홀수다.\n",
      "3는 홀수다.\n",
      "5는 홀수다.\n"
     ]
    }
   ],
   "source": [
    "for i in range(6):\n",
    "    if i % 2 == 0:\n",
    "        continue\n",
    "        # continue 이후의 코드는 실행되지 않습니다.\n",
    "    print(f'{i}는 홀수다.')"
   ]
  },
  {
   "cell_type": "markdown",
   "metadata": {},
   "source": [
    "### [연습] `continue` 문 작성하기\n",
    "\n",
    "> 나이가 입력된 리스트가 있을때,\n",
    "> 조건문과 반복문, continue를 활용하여 20살 이상일때만 \"성인입니다\"라는 출력을 하는 코드를 작성하세요.\n",
    "\n",
    "---\n",
    "\n",
    "**[출력 예시]**\n",
    "\n",
    "23 살은 성인입니다.\n",
    "\n",
    "30 살은 성인입니다.\n",
    "\n",
    "25 살은 성인입니다.\n",
    "\n",
    "31 살은 성인입니다."
   ]
  },
  {
   "cell_type": "code",
   "execution_count": 13,
   "metadata": {},
   "outputs": [],
   "source": [
    "ages = [10, 23, 8, 30, 25, 31]\n",
    "\n",
    "# 아래에 코드를 작성하세요."
   ]
  },
  {
   "cell_type": "code",
   "execution_count": 17,
   "metadata": {},
   "outputs": [
    {
     "name": "stdout",
     "output_type": "stream",
     "text": [
      "23살은 성인입니다.\n",
      "30살은 성인입니다.\n",
      "25살은 성인입니다.\n",
      "31살은 성인입니다.\n"
     ]
    }
   ],
   "source": [
    "for age in ages:\n",
    "    if age < 20:\n",
    "        continue\n",
    "    print(f'{age}살은 성인입니다.')"
   ]
  },
  {
   "cell_type": "markdown",
   "metadata": {},
   "source": [
    "### `else`\n",
    "\n",
    "끝까지 반복문을 실행한 이후에 실행됩니다.\n",
    "- 반복에서 리스트의 소진이나 (`for` 의 경우) 조건이 거짓이 돼서 (`while` 의 경우) 종료할 때 실행됩니다. \n",
    "- 하지만 반복문이 **`break` 문으로 종료될 때는 실행되지 않습니다.** (즉, `break`를 통해 중간에 종료되지 않은 경우만 실행)"
   ]
  },
  {
   "cell_type": "code",
   "execution_count": null,
   "metadata": {},
   "outputs": [],
   "source": [
    "# break가 안되는 상황을 확인해봅시다."
   ]
  },
  {
   "cell_type": "code",
   "execution_count": 78,
   "metadata": {},
   "outputs": [
    {
     "name": "stdout",
     "output_type": "stream",
     "text": [
      "0\n",
      "1\n",
      "2\n",
      "break 실행안됨.\n"
     ]
    }
   ],
   "source": [
    "for i in range(3):\n",
    "    print(i)\n",
    "    if i == 100:\n",
    "        print(f'{i}에서 break 실행됨.')\n",
    "        break\n",
    "else:\n",
    "    print(\"break 실행안됨.\")"
   ]
  },
  {
   "cell_type": "code",
   "execution_count": null,
   "metadata": {},
   "outputs": [],
   "source": [
    "# break가 되는 상황을 확인해봅시다."
   ]
  },
  {
   "cell_type": "code",
   "execution_count": 75,
   "metadata": {},
   "outputs": [
    {
     "name": "stdout",
     "output_type": "stream",
     "text": [
      "0\n",
      "1\n",
      "1에서 break 실행됨.\n"
     ]
    }
   ],
   "source": [
    "for i in range(3):\n",
    "    print(i)\n",
    "    if i == 1:\n",
    "        print(f'{i}에서 break 실행됨.')\n",
    "        break\n",
    "else:\n",
    "    print('break 실행안됨.')"
   ]
  },
  {
   "cell_type": "markdown",
   "metadata": {},
   "source": [
    "### [연습] `for-else` 활용하기\n",
    "\n",
    "> 조건문과 반복문, break, else 를 통해서 아래의 코드와 동일한 코드를 작성하세요.\n",
    "* numbers 리스트에 4가 있을 경우 `True`를 출력하고, 없을 경우 `False`를 출력한다.\n",
    "\n",
    "---\n",
    "\n",
    "**[출력 예시]**\n",
    "\n",
    "`False`\n"
   ]
  },
  {
   "cell_type": "code",
   "execution_count": 33,
   "metadata": {},
   "outputs": [],
   "source": [
    "numbers = [1, 3, 7, 9, 4]\n",
    "\n",
    "# 아래에 코드를 작성하세요."
   ]
  },
  {
   "cell_type": "code",
   "execution_count": 36,
   "metadata": {},
   "outputs": [
    {
     "name": "stdout",
     "output_type": "stream",
     "text": [
      "1\n",
      "3\n",
      "7\n",
      "9\n",
      "True\n"
     ]
    }
   ],
   "source": [
    "for number in numbers:\n",
    "    if number == 4:\n",
    "        print(True)\n",
    "        break\n",
    "    # print(number)\n",
    "else:\n",
    "    print(False)"
   ]
  },
  {
   "cell_type": "code",
   "execution_count": 44,
   "metadata": {},
   "outputs": [],
   "source": [
    "numbers = [1, 3, 7, 9]"
   ]
  },
  {
   "cell_type": "code",
   "execution_count": 42,
   "metadata": {},
   "outputs": [
    {
     "name": "stdout",
     "output_type": "stream",
     "text": [
      "True\n"
     ]
    }
   ],
   "source": [
    "# 2번째 방법\n",
    "# containment test\n",
    "print(4 in numbers)"
   ]
  },
  {
   "cell_type": "code",
   "execution_count": 47,
   "metadata": {},
   "outputs": [
    {
     "name": "stdout",
     "output_type": "stream",
     "text": [
      "False\n"
     ]
    }
   ],
   "source": [
    "# 조건표현식, 조건문으로 변경 가능\n",
    "print(True if numbers.count(4) else False)"
   ]
  },
  {
   "cell_type": "markdown",
   "metadata": {},
   "source": [
    "### `pass` \n",
    "아무것도 하지 않습니다.\n",
    "* 문법적으로 문장이 필요하지만, 프로그램이 특별히 할 일이 없을 때 자리를 채우는 용도로 사용할 수 있다."
   ]
  },
  {
   "cell_type": "markdown",
   "metadata": {},
   "source": [
    "**`pass` 와 `continue` 차이**"
   ]
  },
  {
   "cell_type": "code",
   "execution_count": 7,
   "metadata": {},
   "outputs": [],
   "source": [
    "if True:\n",
    "    # 트루가 되었을 때 실행할 코드입니다.\n",
    "    pass\n",
    "else:\n",
    "    # False가 되었을 때 실행할 코드입니다.\n",
    "    pass"
   ]
  },
  {
   "cell_type": "code",
   "execution_count": null,
   "metadata": {
    "ExecuteTime": {
     "end_time": "2021-01-15T08:51:27.991236Z",
     "start_time": "2021-01-15T08:51:27.985231Z"
    }
   },
   "outputs": [],
   "source": [
    "# pass\n",
    "# 0부터 4의 범위를 순회하며 출력하는 반복문 안에서 3이 나오는 경우 pass 하는 조건문을 작성해봅시다"
   ]
  },
  {
   "cell_type": "code",
   "execution_count": 79,
   "metadata": {},
   "outputs": [
    {
     "name": "stdout",
     "output_type": "stream",
     "text": [
      "0\n",
      "1\n",
      "2\n",
      "3\n",
      "4\n"
     ]
    }
   ],
   "source": [
    "for i in range(5):\n",
    "    if i == 3:\n",
    "        pass\n",
    "    print(i)"
   ]
  },
  {
   "cell_type": "code",
   "execution_count": null,
   "metadata": {
    "ExecuteTime": {
     "end_time": "2021-01-15T08:51:33.024403Z",
     "start_time": "2021-01-15T08:51:33.013393Z"
    }
   },
   "outputs": [],
   "source": [
    "# continue\n",
    "# 0부터 4의 범위를 순회하며 출력하는 반복문 안에서 3이 나오는 경우 continue 하는 조건문을 작성해봅시다."
   ]
  },
  {
   "cell_type": "code",
   "execution_count": 80,
   "metadata": {},
   "outputs": [
    {
     "name": "stdout",
     "output_type": "stream",
     "text": [
      "0\n",
      "1\n",
      "2\n",
      "4\n"
     ]
    }
   ],
   "source": [
    "for i in range(5):\n",
    "    if i == 3:\n",
    "        continue\n",
    "    print(i)"
   ]
  },
  {
   "cell_type": "code",
   "execution_count": null,
   "metadata": {},
   "outputs": [],
   "source": [
    "# pass 예시 \n",
    "# 실제 개발을 하는 상황에서 상세 기능을 구현하기 전에 함수를 정의 할 때 에러가 나지 않게 만들 수 있습니다.\n",
    "\n",
    "class my_compute:\n",
    "    pass\n",
    "\n",
    "def my_sum():\n",
    "    pass\n",
    "\n",
    "def my_sub():\n",
    "    pass\n",
    "\n"
   ]
  }
 ],
 "metadata": {
  "kernelspec": {
   "display_name": "study",
   "language": "python",
   "name": "python3"
  },
  "language_info": {
   "codemirror_mode": {
    "name": "ipython",
    "version": 3
   },
   "file_extension": ".py",
   "mimetype": "text/x-python",
   "name": "python",
   "nbconvert_exporter": "python",
   "pygments_lexer": "ipython3",
   "version": "3.10.9"
  },
  "vscode": {
   "interpreter": {
    "hash": "1b9251e2362d10317da5c121b652dc9d75684a5f0e3d5ea62513a1d2b29f72a3"
   }
  }
 },
 "nbformat": 4,
 "nbformat_minor": 2
}
