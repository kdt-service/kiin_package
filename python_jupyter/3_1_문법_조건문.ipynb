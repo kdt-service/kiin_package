{
 "cells": [
  {
   "cell_type": "markdown",
   "metadata": {},
   "source": [
    "<p style=\"font-size: 33px; font-weight: 700; margin-bottom: 3rem\">제어문(Control Statement)</p>\n",
    "\n",
    "[파이썬 문서](https://docs.python.org/ko/3/tutorial/controlflow.html)\n",
    "\n",
    "지금까지 우리는 위에서부터 아래로 순차적으로 명령을 수행하는 프로그램을 작성하였습니다.\n",
    "\n",
    "특정 상황에 따라 코드를 선택적으로 실행(분기)하거나 동일한 코드를 계속해서 실행해야하려면 어떻게 해야할까요? \n",
    "\n",
    "이 경우, **코드 실행의 순차적인 흐름을 제어**(Control Flow)할 필요가 있습니다.\n",
    "\n",
    "이러한 순차적인 코드의 흐름을 제어하는 것을 제어문이라고 하고, 제어문은 크게 **조건문**과 **반복문**으로 나눌 수 있습니다. \n",
    "\n",
    "제어문을 통해 다음과 순서도(Flow Chart)를 코드로 표현할 수 있습니다."
   ]
  },
  {
   "cell_type": "markdown",
   "metadata": {},
   "source": [
    "<center> \n",
    "    <img src=\"https://user-images.githubusercontent.com/18046097/61180553-25e87b00-a653-11e9-9895-7976d7204734.png\", alt='if flowchart'/>\n",
    "</center>"
   ]
  },
  {
   "cell_type": "code",
   "execution_count": null,
   "metadata": {},
   "outputs": [],
   "source": [
    "# 위의 Flow Chart를 조건문으로 작성해봅시다.\n",
    "# if 문을 활용해봅시다."
   ]
  },
  {
   "cell_type": "code",
   "execution_count": 7,
   "metadata": {},
   "outputs": [
    {
     "ename": "IndentationError",
     "evalue": "unexpected indent (2824207188.py, line 11)",
     "output_type": "error",
     "traceback": [
      "\u001b[1;36m  Cell \u001b[1;32mIn[7], line 11\u001b[1;36m\u001b[0m\n\u001b[1;33m    print('333')\u001b[0m\n\u001b[1;37m    ^\u001b[0m\n\u001b[1;31mIndentationError\u001b[0m\u001b[1;31m:\u001b[0m unexpected indent\n"
     ]
    }
   ],
   "source": [
    "a = 5\n",
    "\n",
    "# 문장 :   파이썬에서 실행 가능한 최소 단위\n",
    "# 표현식 : 어떤 특정 값으로 표현될 수 있는 것\n",
    "\n",
    "if a > 5:\n",
    "    print(\"5 초과\")\n",
    "else:\n",
    "    print('5 이하')\n",
    "print(a)\n",
    "print('code')"
   ]
  },
  {
   "cell_type": "markdown",
   "metadata": {},
   "source": [
    "# 조건문(Conditional Statement)\n",
    "\n",
    "`if` 문은 반드시 **참/거짓을 판단할 수 있는 조건**과 함께 사용이 되어야합니다.\n"
   ]
  },
  {
   "cell_type": "markdown",
   "metadata": {},
   "source": [
    "## `if` 조건문의 구성\n",
    "\n",
    "### 활용법\n",
    "\n",
    "- **문법**\n",
    "\n",
    "```python\n",
    "if <expression>:\n",
    "    <코드 블럭>\n",
    "else:\n",
    "    <코드 블럭>\n",
    "```\n",
    "\n",
    "- **예시**\n",
    "\n",
    "```python\n",
    "if a > 0:\n",
    "    print('양수입니다.')\n",
    "else:\n",
    "    print('음수입니다.')\n",
    "```\n",
    "* `expression`에는 일반적으로 참/거짓에 대한 조건식이 들어갑니다.\n",
    "\n",
    "* **조건**이 **참**인 경우 `:` 이후의 문장을 수행합니다.\n",
    "\n",
    "* **조건**이 **거짓**인 경우 `else:` 이후의 문장을 수행합니다.\n",
    "\n",
    "* 여러 개의 `elif` 부가 있을 수 있고(없거나), `else`는 선택적으로 사용합니다.\n",
    "\n",
    "### 주의사항\n",
    "* 이때 반드시 **들여쓰기**를 유의해야합니다. \n",
    "    - 파이썬에서는 코드 블록을 자바나 C언어의 `{}`와 달리 **들여쓰기**로 판단하기 때문입니다.\n",
    "* 앞으로 우리는 [PEP 8](https://www.python.org/dev/peps/pep-0008/#indentation)에서 권장하는 **4spaces**를 사용합니다.\n"
   ]
  },
  {
   "cell_type": "markdown",
   "metadata": {},
   "source": [
    "<center>\n",
    "    <img src=\"https://user-images.githubusercontent.com/18046097/61180564-3a2c7800-a653-11e9-9fba-d60d2688ed3a.png\", alt=\"if style\"/>\n",
    "</center>"
   ]
  },
  {
   "cell_type": "markdown",
   "metadata": {},
   "source": [
    "<br>\n",
    "\n",
    "<center>\n",
    "    <img src=\"https://user-images.githubusercontent.com/18046097/61180566-3ac50e80-a653-11e9-81a6-2f195eeb0a65.png\", alt=\"[space vs tab]\"/>\n",
    "</center>    \n",
    "\n",
    "\n",
    "\n",
    "\n",
    "[출처 : 400,000 GitHub repositories, 1 billion files, 14 terabytes of code: Spaces or Tabs?](https://medium.com/@hoffa/400-000-github-repositories-1-billion-files-14-terabytes-of-code-spaces-or-tabs-7cfe0b5dd7fd)\n"
   ]
  },
  {
   "cell_type": "markdown",
   "metadata": {},
   "source": [
    "### [연습] 크리스마스 판독기\n",
    "> 조건문을 통해 사용자가 입력한 날짜가 크리스마스인지 확인하세요.\n",
    "\n",
    "---\n",
    "\n",
    "**[입력 예시]**\n",
    "\n",
    "12/25\n",
    "\n",
    "**[출력 예시]**\n",
    "\n",
    "크리스마스입니다."
   ]
  },
  {
   "cell_type": "code",
   "execution_count": 15,
   "metadata": {
    "scrolled": true
   },
   "outputs": [
    {
     "name": "stdout",
     "output_type": "stream",
     "text": [
      "날짜를 입력해주세요 ex)12/24 : 02/02\n"
     ]
    }
   ],
   "source": [
    "is_christmas = input('날짜를 입력해주세요 ex)12/24 : ')"
   ]
  },
  {
   "cell_type": "code",
   "execution_count": 16,
   "metadata": {},
   "outputs": [
    {
     "data": {
      "text/plain": [
       "'02/02'"
      ]
     },
     "execution_count": 16,
     "metadata": {},
     "output_type": "execute_result"
    }
   ],
   "source": [
    "is_christmas"
   ]
  },
  {
   "cell_type": "code",
   "execution_count": null,
   "metadata": {},
   "outputs": [],
   "source": [
    "# 아래에 코드를 작성하세요.\n",
    "# if 문을 활용해봅시다.\n",
    "# is_christmas에 할당된 값이 '12/25'인 경우에는\n",
    "# '크리스마스입니다 :)' 를 출력하고\n",
    "# 그외의 경우에는 '크리스마스가 아닙니다 :(' 를 출력하는 코드를 작성하세요."
   ]
  },
  {
   "cell_type": "code",
   "execution_count": 17,
   "metadata": {},
   "outputs": [
    {
     "name": "stdout",
     "output_type": "stream",
     "text": [
      "크리스마스가 아닙니다 :(\n"
     ]
    }
   ],
   "source": [
    "if is_christmas == '12/25':\n",
    "    print('크리스마스입니다 :)')\n",
    "else:\n",
    "    print('크리스마스가 아닙니다 :(')\n"
   ]
  },
  {
   "cell_type": "markdown",
   "metadata": {},
   "source": [
    "### [실습] 홀/짝 판독기\n",
    "\n",
    "\n",
    "> 조건문을 통해 변수 num의 값과 홀수/짝수 여부를 출력하세요.\n",
    "\n",
    "---\n",
    "\n",
    "**[입력 예시]**\n",
    "\n",
    "3\n",
    "\n",
    "**[출력 예시]**\n",
    "\n",
    "홀수입니다."
   ]
  },
  {
   "cell_type": "code",
   "execution_count": 30,
   "metadata": {},
   "outputs": [
    {
     "name": "stdout",
     "output_type": "stream",
     "text": [
      "숫자를 입력하세요 : 3\n"
     ]
    }
   ],
   "source": [
    "num = int(input('숫자를 입력하세요 : '))"
   ]
  },
  {
   "cell_type": "code",
   "execution_count": null,
   "metadata": {},
   "outputs": [],
   "source": [
    "# 아래에 코드를 작성하세요.\n",
    "# if 문을 활용해봅시다.\n",
    "# num에 할당된 값을 2로 나누었을때 나머지가 있는 경우에는 '홀수입니다.'를 출력하고\n",
    "# num에 할당된 값이 2로 나누어 떨어지는 경우에는 '짝수입니다.'를 출력하는 코드를 작성하세요."
   ]
  },
  {
   "cell_type": "code",
   "execution_count": 19,
   "metadata": {},
   "outputs": [
    {
     "data": {
      "text/plain": [
       "1"
      ]
     },
     "execution_count": 19,
     "metadata": {},
     "output_type": "execute_result"
    }
   ],
   "source": [
    "num % 2 # 1, 0"
   ]
  },
  {
   "cell_type": "code",
   "execution_count": 25,
   "metadata": {},
   "outputs": [
    {
     "data": {
      "text/plain": [
       "True"
      ]
     },
     "execution_count": 25,
     "metadata": {},
     "output_type": "execute_result"
    }
   ],
   "source": [
    "bool(num % 2)"
   ]
  },
  {
   "cell_type": "code",
   "execution_count": null,
   "metadata": {},
   "outputs": [],
   "source": [
    "# num//2 -> 몫"
   ]
  },
  {
   "cell_type": "code",
   "execution_count": null,
   "metadata": {},
   "outputs": [],
   "source": [
    "# 1, 3, 5, 7, 9"
   ]
  },
  {
   "cell_type": "code",
   "execution_count": 31,
   "metadata": {},
   "outputs": [
    {
     "name": "stdout",
     "output_type": "stream",
     "text": [
      "홀수입니다.\n"
     ]
    }
   ],
   "source": [
    "if num % 2 == 1:\n",
    "    print('홀수입니다.')\n",
    "else:\n",
    "    print('짝수입니다.')"
   ]
  },
  {
   "cell_type": "markdown",
   "metadata": {},
   "source": [
    "## `elif` 복수 조건\n",
    "\n",
    "2개 이상의 조건을 활용할 경우 `elif <조건>:`을 활용합니다.\n",
    "<center>\n",
    "<img src=\"https://user-images.githubusercontent.com/18046097/61180560-3993e180-a653-11e9-8263-79bd7bc6eed7.png\", alt=\"elif\">\n",
    "</center>"
   ]
  },
  {
   "cell_type": "markdown",
   "metadata": {},
   "source": [
    "### [연습] 복수 조건문 연습\n",
    "\n",
    "> 조건문을 통해 변수 score에 따른 평점을 출력하세요.\n",
    "\n",
    "|점수|등급|\n",
    "|---|---|\n",
    "|90점 이상|A|\n",
    "|80점 이상|B|\n",
    "|70점 이상|C|\n",
    "|60점 이상|D|\n",
    "|60점 미만|F|\n",
    "\n",
    "--- \n",
    "\n",
    "**[입력 예시]**\n",
    "\n",
    "85\n",
    "\n",
    "**[출력 예시]**\n",
    "\n",
    "B"
   ]
  },
  {
   "cell_type": "code",
   "execution_count": 32,
   "metadata": {
    "scrolled": true
   },
   "outputs": [
    {
     "name": "stdout",
     "output_type": "stream",
     "text": [
      "점수를 입력하세요 : 85\n"
     ]
    }
   ],
   "source": [
    "score = int(input('점수를 입력하세요 : '))"
   ]
  },
  {
   "cell_type": "code",
   "execution_count": 33,
   "metadata": {},
   "outputs": [
    {
     "data": {
      "text/plain": [
       "85"
      ]
     },
     "execution_count": 33,
     "metadata": {},
     "output_type": "execute_result"
    }
   ],
   "source": [
    "score"
   ]
  },
  {
   "cell_type": "code",
   "execution_count": null,
   "metadata": {},
   "outputs": [],
   "source": [
    "# 아래에 코드를 작성하세요.\n",
    "# if, elif, else 문을 활용해봅시다.\n",
    "# score에 할당된 값이 90 이상인 경우에는 'A'를 출력하고,\n",
    "# score에 할당된 값이 90 미만, 80 이상인 경우에는 'B'를 출력하고,\n",
    "# score에 할당된 값이 80 미만, 70 이상인 경우에는 'C'를 출력하고,\n",
    "# score에 할당된 값이 70 미만, 60 이상인 경우에는 'D'를 출력하고,\n",
    "# score에 할당된 값이 60 미만인 경우에는 'F'를 출력하는 코드를 작성하시오."
   ]
  },
  {
   "cell_type": "code",
   "execution_count": 34,
   "metadata": {},
   "outputs": [
    {
     "name": "stdout",
     "output_type": "stream",
     "text": [
      "B\n"
     ]
    }
   ],
   "source": [
    "if score >= 90:\n",
    "    print('A')\n",
    "elif score >= 80:\n",
    "    print('B')\n",
    "elif score >= 70:\n",
    "    print('C')\n",
    "elif score >= 60:\n",
    "    print('D')\n",
    "else:\n",
    "    print('F')"
   ]
  },
  {
   "cell_type": "code",
   "execution_count": null,
   "metadata": {},
   "outputs": [],
   "source": []
  },
  {
   "cell_type": "code",
   "execution_count": null,
   "metadata": {},
   "outputs": [],
   "source": []
  },
  {
   "cell_type": "code",
   "execution_count": null,
   "metadata": {},
   "outputs": [],
   "source": [
    "# 조건문은 순서대로 조건식을 검증하므로 순서에 유의해야 한다.\n",
    "# score 가 80점이지만 조건문의 순서에 따라 'B'를 출력하지 못하고 'D학점 이상'을 출력한다.\n",
    "\n",
    "score = 80\n",
    "\n",
    "if score >= 90:\n",
    "    print('A')\n",
    "elif score >= 60:\n",
    "    print('D학점 이상')\n",
    "elif score >= 80:\n",
    "    print('B')"
   ]
  },
  {
   "cell_type": "code",
   "execution_count": 42,
   "metadata": {},
   "outputs": [],
   "source": [
    "score = 80"
   ]
  },
  {
   "cell_type": "code",
   "execution_count": 43,
   "metadata": {},
   "outputs": [
    {
     "name": "stdout",
     "output_type": "stream",
     "text": [
      "B\n"
     ]
    }
   ],
   "source": [
    "if score >= 90:\n",
    "    print('A')\n",
    "elif score<90 | score >= 80:\n",
    "    print('B')\n",
    "elif score<80 | score >= 70:\n",
    "    print('C')\n",
    "elif score<70 | score >= 60:\n",
    "    print('D')\n",
    "else:\n",
    "    print('F')\n",
    "# |, & 대신에 or, and 논리연산자로 사용할 것"
   ]
  },
  {
   "cell_type": "code",
   "execution_count": 44,
   "metadata": {},
   "outputs": [
    {
     "data": {
      "text/plain": [
       "13"
      ]
     },
     "execution_count": 44,
     "metadata": {},
     "output_type": "execute_result"
    }
   ],
   "source": [
    "# 0b1101 & 0b1001\n",
    "\n",
    "# 0b1001 # & 연산했을때\n",
    "# 0b1101 # | 연산했을때"
   ]
  },
  {
   "cell_type": "code",
   "execution_count": null,
   "metadata": {},
   "outputs": [],
   "source": []
  },
  {
   "cell_type": "markdown",
   "metadata": {},
   "source": [
    "## 중첩 조건문(Nested Conditional Statement)\n",
    "\n",
    "조건문은 다른 조건문에 중첩될 수도 있습니다."
   ]
  },
  {
   "cell_type": "markdown",
   "metadata": {},
   "source": [
    "### [연습] 중첩 조건문 활용\n",
    "\n",
    "> 위 실습문제 2개 코드를 활용하여 \n",
    "95점 이상이면, \"참 잘했어요\"도 함께 출력해주세요.\n",
    "\n",
    "--- \n",
    "**[출력 예시]**\n",
    "\n",
    "A\n",
    "\n",
    "참잘했어요."
   ]
  },
  {
   "cell_type": "code",
   "execution_count": 35,
   "metadata": {},
   "outputs": [],
   "source": [
    "score = 96"
   ]
  },
  {
   "cell_type": "code",
   "execution_count": null,
   "metadata": {},
   "outputs": [],
   "source": [
    "# 아래에 코드를 작성하세요.\n",
    "# if, elif, else 문을 상황에 따라 중첩해서 활용해봅시다.\n",
    "# score에 할당된 값이 90 이상인 경우에 일단 'A'를 출력하고,\n",
    "# score에 할당된 값이 95 이상인 경우에는 추가적으로 '참 잘했어요.'를 출력하고,\n",
    "# score에 할당된 값이 90 미만, 80 이상인 경우에는 'B'를 출력하고,\n",
    "# score에 할당된 값이 80 미만, 70 이상인 경우에는 'C'를 출력하고,\n",
    "# score에 할당된 값이 70 미만, 60 이상인 경우에는 'D'를 출력하고,\n",
    "# score에 할당된 값이 60 미만인 경우에는 'F'를 출력하는 코드를 작성하시오."
   ]
  },
  {
   "cell_type": "code",
   "execution_count": 47,
   "metadata": {},
   "outputs": [],
   "source": [
    "score = 96"
   ]
  },
  {
   "cell_type": "code",
   "execution_count": 49,
   "metadata": {},
   "outputs": [
    {
     "name": "stdout",
     "output_type": "stream",
     "text": [
      "참 잘했어요\n"
     ]
    }
   ],
   "source": [
    "if score >= 90:\n",
    "    print('A')\n",
    "    if score >= 95:\n",
    "        print('참 잘했어요')\n",
    "elif score >= 80:\n",
    "    print('B')\n",
    "elif score >= 70:\n",
    "    print('C')\n",
    "elif score >= 60:\n",
    "    print('D')\n",
    "else:\n",
    "    print('F')"
   ]
  },
  {
   "cell_type": "markdown",
   "metadata": {},
   "source": [
    "## 조건 표현식(Conditional Expression)\n",
    "\n",
    "* 조건 표현식은 일반적으로 조건에 따라 값을 정할 때 활용됩니다.\n",
    "\n",
    "* **삼항 연산자(Ternary Operator)**라고 부르기도 합니다.\n",
    "\n",
    "---\n",
    "\n",
    "**활용법**\n",
    "\n",
    "```python\n",
    "true_value if <조건식> else false_value\n",
    "```"
   ]
  },
  {
   "cell_type": "code",
   "execution_count": 51,
   "metadata": {},
   "outputs": [
    {
     "name": "stdout",
     "output_type": "stream",
     "text": [
      "숫자를 입력하세요 : -2\n",
      "0 보다 크지않음\n"
     ]
    }
   ],
   "source": [
    "num = int(input('숫자를 입력하세요 : '))\n",
    "\n",
    "print('0 보다 큼') if num > 0 else print('0 보다 크지않음')"
   ]
  },
  {
   "cell_type": "code",
   "execution_count": 83,
   "metadata": {},
   "outputs": [
    {
     "name": "stdout",
     "output_type": "stream",
     "text": [
      "숫자를 입력하세요 : -3\n",
      "value: 3\n"
     ]
    }
   ],
   "source": [
    "# 아래의 코드는 무엇을 위한 코드일까요?\n",
    "num = int(input('숫자를 입력하세요 : '))\n",
    "value = num if num >= 0 else -num\n",
    "print('value:', value)\n",
    "\n",
    "# print(  print(num) if num >= 0 else print(-num)  )"
   ]
  },
  {
   "cell_type": "code",
   "execution_count": null,
   "metadata": {},
   "outputs": [],
   "source": [
    "# 아래에 주석으로 답변을 작성하세요."
   ]
  },
  {
   "cell_type": "code",
   "execution_count": null,
   "metadata": {},
   "outputs": [],
   "source": [
    "# 절댓값 구하는 조건표현식이다."
   ]
  },
  {
   "cell_type": "markdown",
   "metadata": {},
   "source": [
    "### [연습] 조건 표현식 작성하기\n",
    "\n",
    "> 다음의 코드와 동일한 조건 표현식을 작성해보세요.\n",
    "\n",
    "```python\n",
    "num = 2\n",
    "if num % 2:\n",
    "    result = '홀수입니다.'\n",
    "else:\n",
    "    result = '짝수입니다.'\n",
    "print(result)\n",
    "```\n",
    "---\n",
    "\n",
    "**[출력 예시]**\n",
    "```\n",
    "짝수입니다.\n",
    "```"
   ]
  },
  {
   "cell_type": "code",
   "execution_count": null,
   "metadata": {},
   "outputs": [],
   "source": [
    "# 아래에 코드를 작성하세요.\n",
    "# 위의 조건문을 조건 표현식으로 바꿔보세요."
   ]
  },
  {
   "cell_type": "code",
   "execution_count": 58,
   "metadata": {},
   "outputs": [
    {
     "name": "stdout",
     "output_type": "stream",
     "text": [
      "숫자를 입력하세요. 2\n",
      "result = \"짝수입니다.\"\n"
     ]
    }
   ],
   "source": [
    "num = int(input('숫자를 입력하세요. '))\n",
    "result = num % 2\n",
    "print('result =\"홀수입니다\"') if result ==1 else print('result = \"짝수입니다.\"')"
   ]
  },
  {
   "cell_type": "code",
   "execution_count": 62,
   "metadata": {},
   "outputs": [
    {
     "name": "stdout",
     "output_type": "stream",
     "text": [
      "4\n",
      "None\n"
     ]
    }
   ],
   "source": [
    "def my_func(a, b):\n",
    "    print(a + b)\n",
    "#     return None\n",
    "\n",
    "def print(sentence):\n",
    "    # 출력하는 기능을 가진 코드\n",
    "    pass\n",
    "#     return None\n",
    "\n",
    "ans = my_func(1, 3)\n",
    "print(ans)"
   ]
  },
  {
   "cell_type": "code",
   "execution_count": 73,
   "metadata": {},
   "outputs": [],
   "source": [
    "def my_sum(a, b):\n",
    "    return a + b\n",
    "\n",
    "ans = my_sum(1, 3)"
   ]
  },
  {
   "cell_type": "code",
   "execution_count": 74,
   "metadata": {},
   "outputs": [
    {
     "name": "stdout",
     "output_type": "stream",
     "text": [
      "4\n"
     ]
    }
   ],
   "source": [
    "print(ans)"
   ]
  },
  {
   "cell_type": "code",
   "execution_count": 72,
   "metadata": {},
   "outputs": [
    {
     "data": {
      "text/plain": [
       "4"
      ]
     },
     "execution_count": 72,
     "metadata": {},
     "output_type": "execute_result"
    }
   ],
   "source": [
    "my_sum(1, 3)"
   ]
  },
  {
   "cell_type": "code",
   "execution_count": 69,
   "metadata": {},
   "outputs": [
    {
     "name": "stdout",
     "output_type": "stream",
     "text": [
      "홀수입니다.\n"
     ]
    }
   ],
   "source": [
    "num = 7\n",
    "\n",
    "result = '홀수입니다.' if num % 2 else '짝수입니다.'\n",
    "\n",
    "print(result)"
   ]
  },
  {
   "cell_type": "markdown",
   "metadata": {},
   "source": [
    "### [실습] 조건 표현식과 동일한 if 문 작성하기\n",
    "\n",
    "> 다음의 코드와 동일한 `if`문을 작성해보세요.\n",
    "\n",
    "```python\n",
    "num = -5\n",
    "value = num if num >= 0 else 0\n",
    "print(value)\n",
    "```\n",
    "---\n",
    "**[출력 예시]**\n",
    "\n",
    "0"
   ]
  },
  {
   "cell_type": "code",
   "execution_count": null,
   "metadata": {},
   "outputs": [],
   "source": [
    "# 아래에 코드를 작성하세요.\n",
    "# 위의 조건 표현식을 if 문으로 바꿔보세요."
   ]
  },
  {
   "cell_type": "code",
   "execution_count": 85,
   "metadata": {},
   "outputs": [
    {
     "name": "stdout",
     "output_type": "stream",
     "text": [
      "0\n",
      "0\n"
     ]
    }
   ],
   "source": [
    "num = -5\n",
    "\n",
    "if num >= 0:\n",
    "    print(num)\n",
    "else:\n",
    "    print(0)\n",
    "\n",
    "if num >= 0:\n",
    "    value = num\n",
    "else:\n",
    "    value = 0\n",
    "\n",
    "print(value)"
   ]
  },
  {
   "cell_type": "code",
   "execution_count": null,
   "metadata": {},
   "outputs": [],
   "source": [
    "num = int(input())\n",
    "# value라는 변수에 연산된 결과를 저장\n",
    "if num >= 0:\n",
    "    value = num\n",
    "else:\n",
    "    value = 0\n",
    "# value에 저장된 결과를 출력\n",
    "print(value)\n",
    "\n",
    "value = int(input()) # num\n",
    "if value >= 0:\n",
    "    print(value)\n",
    "else:\n",
    "    print(0)\n"
   ]
  },
  {
   "cell_type": "code",
   "execution_count": 88,
   "metadata": {},
   "outputs": [
    {
     "name": "stdout",
     "output_type": "stream",
     "text": [
      "3\n"
     ]
    }
   ],
   "source": [
    "num = int(input())"
   ]
  },
  {
   "cell_type": "code",
   "execution_count": 87,
   "metadata": {},
   "outputs": [
    {
     "ename": "TypeError",
     "evalue": "'>=' not supported between instances of 'str' and 'int'",
     "output_type": "error",
     "traceback": [
      "\u001b[1;31m---------------------------------------------------------------------------\u001b[0m",
      "\u001b[1;31mTypeError\u001b[0m                                 Traceback (most recent call last)",
      "Cell \u001b[1;32mIn[87], line 1\u001b[0m\n\u001b[1;32m----> 1\u001b[0m \u001b[38;5;124;43m'\u001b[39;49m\u001b[38;5;124;43m3\u001b[39;49m\u001b[38;5;124;43m'\u001b[39;49m\u001b[43m \u001b[49m\u001b[38;5;241;43m>\u001b[39;49m\u001b[38;5;241;43m=\u001b[39;49m\u001b[43m \u001b[49m\u001b[38;5;241;43m0\u001b[39;49m\n",
      "\u001b[1;31mTypeError\u001b[0m: '>=' not supported between instances of 'str' and 'int'"
     ]
    }
   ],
   "source": [
    "'3' >= 0"
   ]
  },
  {
   "cell_type": "code",
   "execution_count": null,
   "metadata": {},
   "outputs": [],
   "source": [
    "# match - case"
   ]
  },
  {
   "cell_type": "code",
   "execution_count": 90,
   "metadata": {},
   "outputs": [
    {
     "name": "stdout",
     "output_type": "stream",
     "text": [
      "파일 불러오기\n"
     ]
    }
   ],
   "source": [
    "command = 'load'\n",
    "\n",
    "match command:\n",
    "    case 'quit':\n",
    "        print('프로그램을 종료합니다.')\n",
    "    case 'load':\n",
    "        print('파일 불러오기')\n",
    "    case _:\n",
    "        print('정의되지 않은 명령입니다,')\n"
   ]
  },
  {
   "cell_type": "code",
   "execution_count": 92,
   "metadata": {},
   "outputs": [
    {
     "name": "stdout",
     "output_type": "stream",
     "text": [
      "Python 3.10.9\n"
     ]
    }
   ],
   "source": [
    "!python --version"
   ]
  },
  {
   "cell_type": "code",
   "execution_count": null,
   "metadata": {},
   "outputs": [],
   "source": [
    "if command == 'quit':\n",
    "    print('종료')\n",
    "elif command == 'load':\n",
    "    print('불러오기')\n",
    "else:\n",
    "    _\n",
    "    print('정의되지 않은 명령')"
   ]
  },
  {
   "cell_type": "code",
   "execution_count": 89,
   "metadata": {},
   "outputs": [
    {
     "name": "stdout",
     "output_type": "stream",
     "text": [
      "어떤 코드를 반복\n",
      "어떤 코드를 반복\n",
      "어떤 코드를 반복\n",
      "어떤 코드를 반복\n",
      "어떤 코드를 반복\n",
      "어떤 코드를 반복\n",
      "어떤 코드를 반복\n",
      "어떤 코드를 반복\n",
      "어떤 코드를 반복\n",
      "어떤 코드를 반복\n"
     ]
    }
   ],
   "source": [
    "for _ in range(10):\n",
    "    print('어떤 코드를 반복')"
   ]
  }
 ],
 "metadata": {
  "interpreter": {
   "hash": "322018e35ac4f46d1be23d37489e93f08b335b6041c3f34be3e4bfc70f2b3c28"
  },
  "kernelspec": {
   "display_name": "Python 3 (ipykernel)",
   "language": "python",
   "name": "python3"
  },
  "language_info": {
   "codemirror_mode": {
    "name": "ipython",
    "version": 3
   },
   "file_extension": ".py",
   "mimetype": "text/x-python",
   "name": "python",
   "nbconvert_exporter": "python",
   "pygments_lexer": "ipython3",
   "version": "3.10.9"
  }
 },
 "nbformat": 4,
 "nbformat_minor": 2
}
