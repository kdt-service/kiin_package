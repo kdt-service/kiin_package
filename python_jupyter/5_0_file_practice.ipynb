{
 "cells": [
  {
   "attachments": {},
   "cell_type": "markdown",
   "metadata": {},
   "source": [
    "# 파일 관리"
   ]
  },
  {
   "attachments": {},
   "cell_type": "markdown",
   "metadata": {},
   "source": [
    "## 파일 열기 \n",
    "- open(파일이름, 모드)"
   ]
  },
  {
   "cell_type": "code",
   "execution_count": 10,
   "metadata": {},
   "outputs": [],
   "source": [
    "f = open('test.txt', 'w', encoding='utf-8')"
   ]
  },
  {
   "attachments": {},
   "cell_type": "markdown",
   "metadata": {},
   "source": [
    "## 파일 쓰기\n",
    "- f.write()"
   ]
  },
  {
   "cell_type": "code",
   "execution_count": 11,
   "metadata": {},
   "outputs": [
    {
     "data": {
      "text/plain": [
       "7"
      ]
     },
     "execution_count": 11,
     "metadata": {},
     "output_type": "execute_result"
    }
   ],
   "source": [
    "f.write('안녕하세요 !')"
   ]
  },
  {
   "cell_type": "code",
   "execution_count": 12,
   "metadata": {},
   "outputs": [],
   "source": [
    "f.close()"
   ]
  },
  {
   "cell_type": "code",
   "execution_count": 16,
   "metadata": {},
   "outputs": [],
   "source": [
    "f = open('test.txt', 'r', encoding='utf-8')"
   ]
  },
  {
   "cell_type": "code",
   "execution_count": 17,
   "metadata": {},
   "outputs": [
    {
     "data": {
      "text/plain": [
       "'안녕하세요 !'"
      ]
     },
     "execution_count": 17,
     "metadata": {},
     "output_type": "execute_result"
    }
   ],
   "source": [
    "f.read()"
   ]
  },
  {
   "cell_type": "code",
   "execution_count": 18,
   "metadata": {},
   "outputs": [],
   "source": [
    "f.close()"
   ]
  },
  {
   "cell_type": "code",
   "execution_count": 20,
   "metadata": {},
   "outputs": [],
   "source": [
    "f = open('test.txt', 'a', encoding='utf-8')\n",
    "f.write('반갑습니다.\\n')\n",
    "f.close()"
   ]
  },
  {
   "cell_type": "code",
   "execution_count": 21,
   "metadata": {},
   "outputs": [],
   "source": [
    "with open('test.txt', 'w', encoding='utf-8') as f:\n",
    "    f.write('안녕하세요 !!\\n')\n",
    "    f.write('반갑습니다.. \\n')"
   ]
  },
  {
   "attachments": {},
   "cell_type": "markdown",
   "metadata": {},
   "source": [
    "## CSV 파일 만들기 \n",
    "#### 주문데이터"
   ]
  },
  {
   "cell_type": "code",
   "execution_count": 22,
   "metadata": {},
   "outputs": [],
   "source": [
    "with open('order.csv', 'w', encoding='utf-8') as f:\n",
    "    f.write('주문ID,품목명,수량,가격\\n')\n",
    "\n",
    "    f.write('1,파이썬,2,30000\\n')\n",
    "    f.write('2,데이터베이스,1,20000\\n')\n",
    "    f.write('3,크롤링,3,57000\\n')\n",
    "\n",
    "    order_data = [4, '머신러닝', 2, 35000]\n",
    "    # -> 4,머신러닝,2,35000\\n\n",
    "    f.write(','.join(map(str, order_data)) + '\\n')\n",
    "\n"
   ]
  },
  {
   "cell_type": "code",
   "execution_count": 23,
   "metadata": {},
   "outputs": [],
   "source": [
    "with open('order2.csv', 'w', encoding='cp949') as f:\n",
    "    f.write('주문ID,품목명,수량,가격\\n')\n",
    "\n",
    "    f.write('1,파이썬,2,30000\\n')\n",
    "    f.write('2,데이터베이스,1,20000\\n')\n",
    "    f.write('3,크롤링,3,57000\\n')\n",
    "\n",
    "    order_data = [4, '머신러닝', 2, 35000]\n",
    "    # -> 4,머신러닝,2,35000\\n\n",
    "    f.write(','.join(map(str, order_data)) + '\\n')"
   ]
  },
  {
   "cell_type": "code",
   "execution_count": 24,
   "metadata": {},
   "outputs": [],
   "source": [
    "import pickle"
   ]
  },
  {
   "cell_type": "code",
   "execution_count": 39,
   "metadata": {},
   "outputs": [],
   "source": [
    "with open('pickle.pkl', 'wb') as f:\n",
    "    my_info = {\n",
    "        'name': '곽찬미',\n",
    "        'age': '2',\n",
    "        'email': 'hahaha.com2222222',\n",
    "        'phone': '01011111111',\n",
    "    }\n",
    "\n",
    "    pickle.dump(my_info, f)\n",
    "\n",
    "    course = 'kdt service data analysis'\n",
    "    pickle.dump(course, f)\n"
   ]
  },
  {
   "cell_type": "code",
   "execution_count": 40,
   "metadata": {},
   "outputs": [],
   "source": [
    "with open('pickle.pkl', 'rb') as f:\n",
    "    my_info2 = pickle.load(f)\n",
    "    course2 = pickle.load(f)"
   ]
  },
  {
   "cell_type": "code",
   "execution_count": 41,
   "metadata": {},
   "outputs": [
    {
     "data": {
      "text/plain": [
       "{'name': '곽찬미',\n",
       " 'age': '2',\n",
       " 'email': 'hahaha.com2222222',\n",
       " 'phone': '01011111111'}"
      ]
     },
     "execution_count": 41,
     "metadata": {},
     "output_type": "execute_result"
    }
   ],
   "source": [
    "my_info"
   ]
  },
  {
   "cell_type": "code",
   "execution_count": 42,
   "metadata": {},
   "outputs": [
    {
     "data": {
      "text/plain": [
       "{'name': '곽찬미',\n",
       " 'age': '2',\n",
       " 'email': 'hahaha.com2222222',\n",
       " 'phone': '01011111111'}"
      ]
     },
     "execution_count": 42,
     "metadata": {},
     "output_type": "execute_result"
    }
   ],
   "source": [
    "my_info2"
   ]
  },
  {
   "cell_type": "code",
   "execution_count": 32,
   "metadata": {},
   "outputs": [
    {
     "data": {
      "text/plain": [
       "'kdt service data analysis'"
      ]
     },
     "execution_count": 32,
     "metadata": {},
     "output_type": "execute_result"
    }
   ],
   "source": [
    "course2"
   ]
  },
  {
   "cell_type": "code",
   "execution_count": 43,
   "metadata": {},
   "outputs": [],
   "source": [
    "order_data = {\n",
    "    'orders': [\n",
    "        {'order_id': 1, 'product_name': 'python', 'quantity': 2, 'price': 30000},\n",
    "        {'order_id': 2, 'product_name': 'database', 'quantity': 1, 'price': 20000},\n",
    "        {'order_id': 3, 'product_name': 'crawling', 'quantity': 3, 'price': 57000},\n",
    "        {'order_id': 4, 'product_name': 'machinelearning', 'quantity': 2, 'price': 35000}\n",
    "    ]\n",
    "}"
   ]
  },
  {
   "cell_type": "code",
   "execution_count": 44,
   "metadata": {},
   "outputs": [],
   "source": [
    "import json"
   ]
  },
  {
   "cell_type": "code",
   "execution_count": 47,
   "metadata": {},
   "outputs": [],
   "source": [
    "with open('order.json', 'w') as f:\n",
    "    json.dump(order_data, f)"
   ]
  },
  {
   "cell_type": "code",
   "execution_count": 48,
   "metadata": {},
   "outputs": [
    {
     "data": {
      "text/plain": [
       "'{\"orders\": [{\"order_id\": 1, \"product_name\": \"python\", \"quantity\": 2, \"price\": 30000}, {\"order_id\": 2, \"product_name\": \"database\", \"quantity\": 1, \"price\": 20000}, {\"order_id\": 3, \"product_name\": \"crawling\", \"quantity\": 3, \"price\": 57000}, {\"order_id\": 4, \"product_name\": \"machinelearning\", \"quantity\": 2, \"price\": 35000}]}'"
      ]
     },
     "execution_count": 48,
     "metadata": {},
     "output_type": "execute_result"
    }
   ],
   "source": [
    "json.dumps(order_data)"
   ]
  },
  {
   "cell_type": "code",
   "execution_count": 49,
   "metadata": {},
   "outputs": [
    {
     "data": {
      "text/plain": [
       "str"
      ]
     },
     "execution_count": 49,
     "metadata": {},
     "output_type": "execute_result"
    }
   ],
   "source": [
    "type(json.dumps(order_data))"
   ]
  },
  {
   "cell_type": "code",
   "execution_count": 51,
   "metadata": {},
   "outputs": [
    {
     "data": {
      "text/plain": [
       "{'orders': [{'order_id': 1,\n",
       "   'product_name': 'python',\n",
       "   'quantity': 2,\n",
       "   'price': 30000},\n",
       "  {'order_id': 2, 'product_name': 'database', 'quantity': 1, 'price': 20000},\n",
       "  {'order_id': 3, 'product_name': 'crawling', 'quantity': 3, 'price': 57000},\n",
       "  {'order_id': 4,\n",
       "   'product_name': 'machinelearning',\n",
       "   'quantity': 2,\n",
       "   'price': 35000}]}"
      ]
     },
     "execution_count": 51,
     "metadata": {},
     "output_type": "execute_result"
    }
   ],
   "source": [
    "order_data"
   ]
  },
  {
   "cell_type": "code",
   "execution_count": 52,
   "metadata": {},
   "outputs": [],
   "source": [
    "json_str = json.dumps(order_data)"
   ]
  },
  {
   "cell_type": "code",
   "execution_count": 53,
   "metadata": {},
   "outputs": [
    {
     "data": {
      "text/plain": [
       "'{\"orders\": [{\"order_id\": 1, \"product_name\": \"python\", \"quantity\": 2, \"price\": 30000}, {\"order_id\": 2, \"product_name\": \"database\", \"quantity\": 1, \"price\": 20000}, {\"order_id\": 3, \"product_name\": \"crawling\", \"quantity\": 3, \"price\": 57000}, {\"order_id\": 4, \"product_name\": \"machinelearning\", \"quantity\": 2, \"price\": 35000}]}'"
      ]
     },
     "execution_count": 53,
     "metadata": {},
     "output_type": "execute_result"
    }
   ],
   "source": [
    "json_str"
   ]
  },
  {
   "cell_type": "code",
   "execution_count": 56,
   "metadata": {},
   "outputs": [
    {
     "data": {
      "text/plain": [
       "{'orders': [{'order_id': 1,\n",
       "   'product_name': 'python',\n",
       "   'quantity': 2,\n",
       "   'price': 30000},\n",
       "  {'order_id': 2, 'product_name': 'database', 'quantity': 1, 'price': 20000},\n",
       "  {'order_id': 3, 'product_name': 'crawling', 'quantity': 3, 'price': 57000},\n",
       "  {'order_id': 4,\n",
       "   'product_name': 'machinelearning',\n",
       "   'quantity': 2,\n",
       "   'price': 35000}]}"
      ]
     },
     "execution_count": 56,
     "metadata": {},
     "output_type": "execute_result"
    }
   ],
   "source": [
    "json.loads(json_str)"
   ]
  }
 ],
 "metadata": {
  "kernelspec": {
   "display_name": "study",
   "language": "python",
   "name": "python3"
  },
  "language_info": {
   "codemirror_mode": {
    "name": "ipython",
    "version": 3
   },
   "file_extension": ".py",
   "mimetype": "text/x-python",
   "name": "python",
   "nbconvert_exporter": "python",
   "pygments_lexer": "ipython3",
   "version": "3.10.9"
  },
  "orig_nbformat": 4,
  "vscode": {
   "interpreter": {
    "hash": "1b9251e2362d10317da5c121b652dc9d75684a5f0e3d5ea62513a1d2b29f72a3"
   }
  }
 },
 "nbformat": 4,
 "nbformat_minor": 2
}
