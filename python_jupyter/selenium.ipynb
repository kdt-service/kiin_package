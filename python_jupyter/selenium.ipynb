{
 "cells": [
  {
   "attachments": {},
   "cell_type": "markdown",
   "id": "8d7da998",
   "metadata": {},
   "source": [
    "## 예제"
   ]
  },
  {
   "cell_type": "code",
   "execution_count": 8,
   "id": "794ad779",
   "metadata": {},
   "outputs": [],
   "source": [
    "%pip install selenium"
   ]
  },
  {
   "cell_type": "code",
   "execution_count": null,
   "id": "fabd6703",
   "metadata": {},
   "outputs": [],
   "source": [
    "from selenium import webdriver"
   ]
  },
  {
   "cell_type": "code",
   "execution_count": 5,
   "id": "46a1065d",
   "metadata": {},
   "outputs": [],
   "source": [
    "chrome_path = r'C:\\Users\\USER\\Desktop\\WORKSPACE\\kiin_package\\chromedriver.exe'"
   ]
  },
  {
   "cell_type": "code",
   "execution_count": 6,
   "id": "7152be1e",
   "metadata": {},
   "outputs": [],
   "source": [
    "# driver = webdriver.Chrome(chrome_path)\n",
    "# deprecated"
   ]
  },
  {
   "cell_type": "code",
   "execution_count": 7,
   "id": "16e6b871",
   "metadata": {},
   "outputs": [
    {
     "ename": "ModuleNotFoundError",
     "evalue": "No module named 'webdriver_manager'",
     "output_type": "error",
     "traceback": [
      "\u001b[1;31m---------------------------------------------------------------------------\u001b[0m",
      "\u001b[1;31mModuleNotFoundError\u001b[0m                       Traceback (most recent call last)",
      "Cell \u001b[1;32mIn[7], line 3\u001b[0m\n\u001b[0;32m      1\u001b[0m \u001b[39mfrom\u001b[39;00m \u001b[39mselenium\u001b[39;00m \u001b[39mimport\u001b[39;00m webdriver\n\u001b[0;32m      2\u001b[0m \u001b[39mfrom\u001b[39;00m \u001b[39mselenium\u001b[39;00m\u001b[39m.\u001b[39;00m\u001b[39mwebdriver\u001b[39;00m\u001b[39m.\u001b[39;00m\u001b[39mchrome\u001b[39;00m\u001b[39m.\u001b[39;00m\u001b[39mservice\u001b[39;00m \u001b[39mimport\u001b[39;00m Service\n\u001b[1;32m----> 3\u001b[0m \u001b[39mfrom\u001b[39;00m \u001b[39mwebdriver_manager\u001b[39;00m\u001b[39m.\u001b[39;00m\u001b[39mchrome\u001b[39;00m \u001b[39mimport\u001b[39;00m ChromeDriverManager\n\u001b[0;32m      4\u001b[0m driver \u001b[39m=\u001b[39m webdriver\u001b[39m.\u001b[39mChrome(service\u001b[39m=\u001b[39mService(ChromeDriverManager()\u001b[39m.\u001b[39minstall()))\n",
      "\u001b[1;31mModuleNotFoundError\u001b[0m: No module named 'webdriver_manager'"
     ]
    }
   ],
   "source": [
    "from selenium import webdriver\n",
    "from selenium.webdriver.chrome.service import Service\n",
    "from webdriver_manager.chrome import ChromeDriverManager\n",
    "driver = webdriver.Chrome(service=Service(ChromeDriverManager().install()))"
   ]
  },
  {
   "cell_type": "code",
   "execution_count": 3,
   "id": "3aaf75c7",
   "metadata": {},
   "outputs": [],
   "source": [
    "# 특정 웹사이트에 접속\n",
    "driver.get('https://www.jungle.co.kr/')"
   ]
  },
  {
   "cell_type": "code",
   "execution_count": 5,
   "id": "b81c8bf9",
   "metadata": {},
   "outputs": [],
   "source": [
    "from selenium.webdriver.common.by import By\n",
    "# tag를 하나만 찾기\n",
    "element = driver.find_element(By.CLASS_NAME, 'thumb_list')"
   ]
  },
  {
   "cell_type": "code",
   "execution_count": 8,
   "id": "3ff567fc",
   "metadata": {},
   "outputs": [
    {
     "data": {
      "text/plain": [
       "<selenium.webdriver.remote.webelement.WebElement (session=\"bee11c47b665169167394c05ac21be66\", element=\"1e645820-6439-40be-921e-847a5f360053\")>"
      ]
     },
     "execution_count": 8,
     "metadata": {},
     "output_type": "execute_result"
    }
   ],
   "source": [
    "element"
   ]
  },
  {
   "cell_type": "code",
   "execution_count": 9,
   "id": "092a385b",
   "metadata": {},
   "outputs": [],
   "source": [
    "# tag를 모두 찾기\n",
    "elements = driver.find_elements(By.TAG_NAME, 'li')"
   ]
  },
  {
   "cell_type": "code",
   "execution_count": 11,
   "id": "1c839747",
   "metadata": {},
   "outputs": [
    {
     "name": "stdout",
     "output_type": "stream",
     "text": [
      "매거진\n",
      "공모전\n",
      "전시행사\n",
      "커뮤니티\n",
      "[서유경 변호사의 내일, 인터뷰] 한국의 예술가구를 소비자의 품으로\n",
      "매거진\n",
      "[전시 포커스] ‘계묘년’ 맞아 34개 콘텐츠 선보이는 스피커의 전시 \n",
      "매거진\n",
      "[디자인정글 특별초대석] 진심을 찍는 사진작가 준초이 \n",
      "매거진\n",
      "테디 베어에서 영감받은 엑소 카이와 구찌의 컬래버레이션 \n",
      "매거진\n",
      "김묵원 라이브드로잉아트 전시 <유리사람> 展 09. 01. 수. ~ 09. 05. 일. 광명시민회관 전시실\n",
      "전시행사\n",
      "현대 블루 프라이즈 디자인 2022\n",
      "공모전\n",
      "모나미X미스터리 유니온, 성수점서 '아트 미스터리' 전시\n",
      "매거진\n",
      "MCM, 2023 발렌타인데이 업사이클링 컬렉션 선보여\n",
      "매거진\n",
      "플리츠마마, 밸런타인 맞아 첫 남성 가방 ‘미니메신저백’ 출시\n",
      "매거진\n",
      "네오밸류, 성수동 아트월 신년맞이 새 단장\n",
      "매거진\n",
      "에스팀, DDP서 ‘캣워크 페스타’ 개최\n",
      "매거진\n",
      "[미니인턴X팀와이퍼] 2주만에 '디자이너' 실무 역량 쌓고 채용연계까지? 미니인턴 지금 신\n",
      "공모전\n"
     ]
    }
   ],
   "source": [
    "for element in elements:\n",
    "    print(element.text)"
   ]
  },
  {
   "cell_type": "code",
   "execution_count": 13,
   "id": "df853842",
   "metadata": {},
   "outputs": [],
   "source": [
    "img_tag = driver.find_element(By.CSS_SELECTOR, '.zoom > img')"
   ]
  },
  {
   "cell_type": "code",
   "execution_count": 14,
   "id": "0da49fa8",
   "metadata": {},
   "outputs": [
    {
     "data": {
      "text/plain": [
       "'https://www.jungle.co.kr/image/9c7212ad49c7afea7af381f2?w=360&h=200'"
      ]
     },
     "execution_count": 14,
     "metadata": {},
     "output_type": "execute_result"
    }
   ],
   "source": [
    "img_tag.get_attribute('src')"
   ]
  },
  {
   "cell_type": "code",
   "execution_count": 15,
   "id": "678f4698",
   "metadata": {},
   "outputs": [],
   "source": [
    "# 검색 아이콘 찾아서 클릭\n",
    "element = driver.find_element(By.ID, 'top-search')"
   ]
  },
  {
   "cell_type": "code",
   "execution_count": 17,
   "id": "9a9c2c35",
   "metadata": {},
   "outputs": [],
   "source": [
    "element.click()"
   ]
  },
  {
   "cell_type": "code",
   "execution_count": 18,
   "id": "9cf12ed9",
   "metadata": {},
   "outputs": [],
   "source": [
    "# 검색어를 입력하는 ID가 top-search-keyword인 inputbox 찾아옴\n",
    "element2 = driver.find_element(By.ID, 'top-search-keyword')"
   ]
  },
  {
   "cell_type": "code",
   "execution_count": 20,
   "id": "a559c43d",
   "metadata": {},
   "outputs": [],
   "source": [
    "element2.send_keys('python')"
   ]
  },
  {
   "cell_type": "code",
   "execution_count": 21,
   "id": "b65f8bed",
   "metadata": {},
   "outputs": [],
   "source": [
    "# 엔터키를 입력하기 위해 Keys를 import\n",
    "from selenium.webdriver.common.keys import Keys"
   ]
  },
  {
   "cell_type": "code",
   "execution_count": 22,
   "id": "d3889736",
   "metadata": {},
   "outputs": [],
   "source": [
    "element2.send_keys(Keys.ENTER)"
   ]
  },
  {
   "cell_type": "code",
   "execution_count": 23,
   "id": "58043de5",
   "metadata": {},
   "outputs": [],
   "source": [
    "# 참고\n",
    "driver.get('https://www.jungle.co.kr/search?q=java')"
   ]
  },
  {
   "cell_type": "code",
   "execution_count": null,
   "id": "e8ad9719",
   "metadata": {},
   "outputs": [],
   "source": []
  },
  {
   "cell_type": "markdown",
   "id": "d66eb5ae",
   "metadata": {},
   "source": [
    "## 실습 01"
   ]
  },
  {
   "cell_type": "code",
   "execution_count": null,
   "id": "fe477755",
   "metadata": {},
   "outputs": [],
   "source": [
    "# 메인페이지로 이동\n",
    "driver.get('https://www.jungle.co.kr/')"
   ]
  },
  {
   "cell_type": "code",
   "execution_count": 44,
   "id": "84e3f53d",
   "metadata": {},
   "outputs": [],
   "source": [
    "# 카드부분 li 태그\n",
    "elements = driver.find_elements(By.CSS_SELECTOR, '.thumb_list li')"
   ]
  },
  {
   "cell_type": "code",
   "execution_count": 45,
   "id": "8507c039",
   "metadata": {},
   "outputs": [
    {
     "data": {
      "text/plain": [
       "162"
      ]
     },
     "execution_count": 45,
     "metadata": {},
     "output_type": "execute_result"
    }
   ],
   "source": [
    "len(elements)"
   ]
  },
  {
   "cell_type": "code",
   "execution_count": 47,
   "id": "0fae63a9",
   "metadata": {
    "scrolled": true
   },
   "outputs": [],
   "source": [
    "for element in elements:\n",
    "    title_elem = element.find_element(By.CLASS_NAME, 'thumb_title') # 제목\n",
    "    cate_elem = element.find_element(By.CLASS_NAME, 'thumb_cate') # 카테고리\n",
    "    print(title_elem.text, cate_elem.text)"
   ]
  },
  {
   "cell_type": "code",
   "execution_count": 48,
   "id": "2cecc6d3",
   "metadata": {},
   "outputs": [],
   "source": [
    "import time\n",
    "for i in range(10):\n",
    "    element = driver.find_element(By.ID, 'existMore')\n",
    "    element.click()\n",
    "    time.sleep(3)"
   ]
  },
  {
   "cell_type": "code",
   "execution_count": null,
   "id": "0fc80b8e",
   "metadata": {},
   "outputs": [],
   "source": []
  },
  {
   "cell_type": "markdown",
   "id": "a3497439",
   "metadata": {},
   "source": [
    "## 실전 01"
   ]
  },
  {
   "cell_type": "code",
   "execution_count": 1,
   "id": "a06e7c23",
   "metadata": {},
   "outputs": [
    {
     "name": "stderr",
     "output_type": "stream",
     "text": [
      "[WDM] - Downloading: 100%|██████████| 6.78M/6.78M [00:00<00:00, 38.3MB/s]\n"
     ]
    }
   ],
   "source": [
    "from selenium import webdriver\n",
    "from selenium.webdriver.chrome.service import Service\n",
    "from webdriver_manager.chrome import ChromeDriverManager\n",
    "driver = webdriver.Chrome(service=Service(ChromeDriverManager().install()))"
   ]
  },
  {
   "cell_type": "code",
   "execution_count": 2,
   "id": "741eabcd",
   "metadata": {},
   "outputs": [],
   "source": [
    "driver.get('https://www.rocketpunch.com/jobs')"
   ]
  },
  {
   "cell_type": "code",
   "execution_count": 3,
   "id": "f7edb263",
   "metadata": {},
   "outputs": [],
   "source": [
    "from selenium.webdriver.common.by import By"
   ]
  },
  {
   "cell_type": "code",
   "execution_count": 17,
   "id": "8d435314",
   "metadata": {},
   "outputs": [],
   "source": [
    "companies = driver.find_elements(By.CSS_SELECTOR, \n",
    "                                 '.company-list > .company.item')"
   ]
  },
  {
   "cell_type": "code",
   "execution_count": 27,
   "id": "a33cbc34",
   "metadata": {},
   "outputs": [],
   "source": [
    "def rocket_crawl():\n",
    "    rocket_result = []\n",
    "    companies = driver.find_elements(By.CSS_SELECTOR, \n",
    "                                 '.company-list > .company.item')\n",
    "    for company in companies:\n",
    "        company_name = company.find_element(By.CLASS_NAME, 'company-name').text\n",
    "        company_desc = company.find_element(By.CLASS_NAME, 'description').text\n",
    "\n",
    "        jobs = company.find_elements(By.CLASS_NAME, 'job-detail')\n",
    "        details = []\n",
    "        for job in jobs:\n",
    "            a_tag = job.find_element(By.TAG_NAME, 'a')\n",
    "            a_tag.text # 공고명\n",
    "            a_tag.get_attribute('href') # 공고링크\n",
    "            details.append({\n",
    "                '공고명': a_tag.text,\n",
    "                '링크': a_tag.get_attribute('href'),\n",
    "            })\n",
    "        \n",
    "        rocket_result.append({\n",
    "            '회사명': company_name,\n",
    "            '회사설명': company_desc,\n",
    "            '채용공고': details\n",
    "        })\n",
    "\n",
    "    return rocket_result"
   ]
  },
  {
   "cell_type": "code",
   "execution_count": 25,
   "id": "2751a16c",
   "metadata": {},
   "outputs": [],
   "source": [
    "# 페이지 버튼 가져오기\n",
    "pages = driver.find_elements(By.CSS_SELECTOR, '.computer.tablet .item')"
   ]
  },
  {
   "cell_type": "code",
   "execution_count": 26,
   "id": "a6762701",
   "metadata": {},
   "outputs": [
    {
     "ename": "ElementClickInterceptedException",
     "evalue": "Message: element click intercepted: Element <a class=\"active item\" data-query-add=\"page=...\" href=\"?page=3&amp;q=\">3</a> is not clickable at point (934, 908). Other element would receive the click: <div class=\"bottom-signup\">...</div>\n  (Session info: chrome=110.0.5481.100)\nStacktrace:\nBacktrace:\n\t(No symbol) [0x00C637D3]\n\t(No symbol) [0x00BF8B81]\n\t(No symbol) [0x00AFB36D]\n\t(No symbol) [0x00B34E3B]\n\t(No symbol) [0x00B326DB]\n\t(No symbol) [0x00B2FD0B]\n\t(No symbol) [0x00B2E4D8]\n\t(No symbol) [0x00B23253]\n\t(No symbol) [0x00B4B41C]\n\t(No symbol) [0x00B22B96]\n\t(No symbol) [0x00B4B774]\n\t(No symbol) [0x00B61215]\n\t(No symbol) [0x00B4B216]\n\t(No symbol) [0x00B20D97]\n\t(No symbol) [0x00B2253D]\n\tGetHandleVerifier [0x00EDABF2+2510930]\n\tGetHandleVerifier [0x00F08EC1+2700065]\n\tGetHandleVerifier [0x00F0C86C+2714828]\n\tGetHandleVerifier [0x00D13480+645344]\n\t(No symbol) [0x00C00FD2]\n\t(No symbol) [0x00C06C68]\n\t(No symbol) [0x00C06D4B]\n\t(No symbol) [0x00C10D6B]\n\tBaseThreadInitThunk [0x76746359+25]\n\tRtlGetAppContainerNamedObjectPath [0x77E57C24+228]\n\tRtlGetAppContainerNamedObjectPath [0x77E57BF4+180]\n",
     "output_type": "error",
     "traceback": [
      "\u001b[1;31m---------------------------------------------------------------------------\u001b[0m",
      "\u001b[1;31mElementClickInterceptedException\u001b[0m          Traceback (most recent call last)",
      "Cell \u001b[1;32mIn[26], line 3\u001b[0m\n\u001b[0;32m      1\u001b[0m \u001b[39mfor\u001b[39;00m page_elem \u001b[39min\u001b[39;00m pages:\n\u001b[0;32m      2\u001b[0m     \u001b[39mif\u001b[39;00m page_elem\u001b[39m.\u001b[39mtext \u001b[39m==\u001b[39m \u001b[39m'\u001b[39m\u001b[39m3\u001b[39m\u001b[39m'\u001b[39m:\n\u001b[1;32m----> 3\u001b[0m         page_elem\u001b[39m.\u001b[39;49mclick()\n\u001b[0;32m      4\u001b[0m         \u001b[39mbreak\u001b[39;00m\n",
      "File \u001b[1;32mc:\\ProgramData\\Anaconda3\\envs\\study\\lib\\site-packages\\selenium\\webdriver\\remote\\webelement.py:93\u001b[0m, in \u001b[0;36mWebElement.click\u001b[1;34m(self)\u001b[0m\n\u001b[0;32m     91\u001b[0m \u001b[39mdef\u001b[39;00m \u001b[39mclick\u001b[39m(\u001b[39mself\u001b[39m) \u001b[39m-\u001b[39m\u001b[39m>\u001b[39m \u001b[39mNone\u001b[39;00m:\n\u001b[0;32m     92\u001b[0m \u001b[39m    \u001b[39m\u001b[39m\"\"\"Clicks the element.\"\"\"\u001b[39;00m\n\u001b[1;32m---> 93\u001b[0m     \u001b[39mself\u001b[39;49m\u001b[39m.\u001b[39;49m_execute(Command\u001b[39m.\u001b[39;49mCLICK_ELEMENT)\n",
      "File \u001b[1;32mc:\\ProgramData\\Anaconda3\\envs\\study\\lib\\site-packages\\selenium\\webdriver\\remote\\webelement.py:403\u001b[0m, in \u001b[0;36mWebElement._execute\u001b[1;34m(self, command, params)\u001b[0m\n\u001b[0;32m    401\u001b[0m     params \u001b[39m=\u001b[39m {}\n\u001b[0;32m    402\u001b[0m params[\u001b[39m\"\u001b[39m\u001b[39mid\u001b[39m\u001b[39m\"\u001b[39m] \u001b[39m=\u001b[39m \u001b[39mself\u001b[39m\u001b[39m.\u001b[39m_id\n\u001b[1;32m--> 403\u001b[0m \u001b[39mreturn\u001b[39;00m \u001b[39mself\u001b[39;49m\u001b[39m.\u001b[39;49m_parent\u001b[39m.\u001b[39;49mexecute(command, params)\n",
      "File \u001b[1;32mc:\\ProgramData\\Anaconda3\\envs\\study\\lib\\site-packages\\selenium\\webdriver\\remote\\webdriver.py:440\u001b[0m, in \u001b[0;36mWebDriver.execute\u001b[1;34m(self, driver_command, params)\u001b[0m\n\u001b[0;32m    438\u001b[0m response \u001b[39m=\u001b[39m \u001b[39mself\u001b[39m\u001b[39m.\u001b[39mcommand_executor\u001b[39m.\u001b[39mexecute(driver_command, params)\n\u001b[0;32m    439\u001b[0m \u001b[39mif\u001b[39;00m response:\n\u001b[1;32m--> 440\u001b[0m     \u001b[39mself\u001b[39;49m\u001b[39m.\u001b[39;49merror_handler\u001b[39m.\u001b[39;49mcheck_response(response)\n\u001b[0;32m    441\u001b[0m     response[\u001b[39m\"\u001b[39m\u001b[39mvalue\u001b[39m\u001b[39m\"\u001b[39m] \u001b[39m=\u001b[39m \u001b[39mself\u001b[39m\u001b[39m.\u001b[39m_unwrap_value(response\u001b[39m.\u001b[39mget(\u001b[39m\"\u001b[39m\u001b[39mvalue\u001b[39m\u001b[39m\"\u001b[39m, \u001b[39mNone\u001b[39;00m))\n\u001b[0;32m    442\u001b[0m     \u001b[39mreturn\u001b[39;00m response\n",
      "File \u001b[1;32mc:\\ProgramData\\Anaconda3\\envs\\study\\lib\\site-packages\\selenium\\webdriver\\remote\\errorhandler.py:245\u001b[0m, in \u001b[0;36mErrorHandler.check_response\u001b[1;34m(self, response)\u001b[0m\n\u001b[0;32m    243\u001b[0m         alert_text \u001b[39m=\u001b[39m value[\u001b[39m\"\u001b[39m\u001b[39malert\u001b[39m\u001b[39m\"\u001b[39m]\u001b[39m.\u001b[39mget(\u001b[39m\"\u001b[39m\u001b[39mtext\u001b[39m\u001b[39m\"\u001b[39m)\n\u001b[0;32m    244\u001b[0m     \u001b[39mraise\u001b[39;00m exception_class(message, screen, stacktrace, alert_text)  \u001b[39m# type: ignore[call-arg]  # mypy is not smart enough here\u001b[39;00m\n\u001b[1;32m--> 245\u001b[0m \u001b[39mraise\u001b[39;00m exception_class(message, screen, stacktrace)\n",
      "\u001b[1;31mElementClickInterceptedException\u001b[0m: Message: element click intercepted: Element <a class=\"active item\" data-query-add=\"page=...\" href=\"?page=3&amp;q=\">3</a> is not clickable at point (934, 908). Other element would receive the click: <div class=\"bottom-signup\">...</div>\n  (Session info: chrome=110.0.5481.100)\nStacktrace:\nBacktrace:\n\t(No symbol) [0x00C637D3]\n\t(No symbol) [0x00BF8B81]\n\t(No symbol) [0x00AFB36D]\n\t(No symbol) [0x00B34E3B]\n\t(No symbol) [0x00B326DB]\n\t(No symbol) [0x00B2FD0B]\n\t(No symbol) [0x00B2E4D8]\n\t(No symbol) [0x00B23253]\n\t(No symbol) [0x00B4B41C]\n\t(No symbol) [0x00B22B96]\n\t(No symbol) [0x00B4B774]\n\t(No symbol) [0x00B61215]\n\t(No symbol) [0x00B4B216]\n\t(No symbol) [0x00B20D97]\n\t(No symbol) [0x00B2253D]\n\tGetHandleVerifier [0x00EDABF2+2510930]\n\tGetHandleVerifier [0x00F08EC1+2700065]\n\tGetHandleVerifier [0x00F0C86C+2714828]\n\tGetHandleVerifier [0x00D13480+645344]\n\t(No symbol) [0x00C00FD2]\n\t(No symbol) [0x00C06C68]\n\t(No symbol) [0x00C06D4B]\n\t(No symbol) [0x00C10D6B]\n\tBaseThreadInitThunk [0x76746359+25]\n\tRtlGetAppContainerNamedObjectPath [0x77E57C24+228]\n\tRtlGetAppContainerNamedObjectPath [0x77E57BF4+180]\n"
     ]
    }
   ],
   "source": [
    "for page_elem in pages:\n",
    "    if page_elem.text == '3':\n",
    "        page_elem.click()\n",
    "        break"
   ]
  },
  {
   "cell_type": "code",
   "execution_count": 21,
   "id": "0ca92f36",
   "metadata": {},
   "outputs": [],
   "source": [
    "# 맨 밑으로 이동\n",
    "driver.execute_script(\"window.scrollTo(0,document.body.scrollHeight);\")"
   ]
  },
  {
   "cell_type": "code",
   "execution_count": 28,
   "id": "d9ee9a98",
   "metadata": {},
   "outputs": [],
   "source": [
    "# 10페이지를 크롤링하는 코드 작성\n",
    "\n",
    "driver.get('https://www.rocketpunch.com/jobs')\n",
    "# 첫 페이지는 그냥 넣기\n",
    "final_result = rocket_crawl()\n",
    "\n",
    "import time\n",
    "\n",
    "for next_page in range(2, 11):\n",
    "    # 1. 맨 밑으로 이동\n",
    "    driver.execute_script(\"window.scrollTo(0,document.body.scrollHeight);\")\n",
    "    # 2. 페이지 elements 찾기\n",
    "    pages = driver.find_elements(By.CSS_SELECTOR, '.computer.tablet .item')\n",
    "    \n",
    "    # 3. 다음 페이지 클릭\n",
    "    for page_elem in pages:\n",
    "        if page_elem.text == str(next_page):\n",
    "            page_elem.click()\n",
    "            break\n",
    "    \n",
    "    time.sleep(3)\n",
    "    final_result.extend(rocket_crawl())\n",
    "    \n"
   ]
  }
 ],
 "metadata": {
  "kernelspec": {
   "display_name": "study",
   "language": "python",
   "name": "python3"
  },
  "language_info": {
   "codemirror_mode": {
    "name": "ipython",
    "version": 3
   },
   "file_extension": ".py",
   "mimetype": "text/x-python",
   "name": "python",
   "nbconvert_exporter": "python",
   "pygments_lexer": "ipython3",
   "version": "3.10.9"
  },
  "vscode": {
   "interpreter": {
    "hash": "736a4258c238b8ad314a4f07cbc4fb94bd99adfa3f65edb9ce29e7d0df91bca0"
   }
  }
 },
 "nbformat": 4,
 "nbformat_minor": 5
}
