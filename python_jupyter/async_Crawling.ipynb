{
 "cells": [
  {
   "attachments": {},
   "cell_type": "markdown",
   "metadata": {},
   "source": [
    "## 비동기 방식 크롤링"
   ]
  },
  {
   "cell_type": "code",
   "execution_count": 1,
   "metadata": {},
   "outputs": [],
   "source": [
    "import requests"
   ]
  },
  {
   "cell_type": "code",
   "execution_count": 2,
   "metadata": {},
   "outputs": [],
   "source": [
    "from bs4 import BeautifulSoup"
   ]
  },
  {
   "cell_type": "code",
   "execution_count": 3,
   "metadata": {},
   "outputs": [],
   "source": [
    "URL = 'http://www.cine21.com/rank/boxoffice/domestic'"
   ]
  },
  {
   "cell_type": "code",
   "execution_count": 4,
   "metadata": {},
   "outputs": [],
   "source": [
    "response = requests.get(URL)"
   ]
  },
  {
   "cell_type": "code",
   "execution_count": 7,
   "metadata": {},
   "outputs": [],
   "source": [
    "soup = BeautifulSoup(response.text, 'html.parser')"
   ]
  },
  {
   "cell_type": "code",
   "execution_count": 8,
   "metadata": {},
   "outputs": [],
   "source": [
    "movies = soup.select('.boxoffice_li')"
   ]
  },
  {
   "cell_type": "code",
   "execution_count": 9,
   "metadata": {},
   "outputs": [
    {
     "data": {
      "text/plain": [
       "[]"
      ]
     },
     "execution_count": 9,
     "metadata": {},
     "output_type": "execute_result"
    }
   ],
   "source": [
    "movies"
   ]
  },
  {
   "cell_type": "code",
   "execution_count": 10,
   "metadata": {},
   "outputs": [
    {
     "data": {
      "text/plain": [
       "<div id=\"boxoffice_list_content\">\n",
       "</div>"
      ]
     },
     "execution_count": 10,
     "metadata": {},
     "output_type": "execute_result"
    }
   ],
   "source": [
    "soup.select_one('#boxoffice_list_content')"
   ]
  },
  {
   "attachments": {},
   "cell_type": "markdown",
   "metadata": {},
   "source": [
    "## 웹 API 서버(Backend)에 요청 "
   ]
  },
  {
   "cell_type": "code",
   "execution_count": 11,
   "metadata": {},
   "outputs": [],
   "source": [
    "URL = 'http://www.cine21.com/rank/boxoffice/domestic_content'"
   ]
  },
  {
   "cell_type": "code",
   "execution_count": 12,
   "metadata": {},
   "outputs": [],
   "source": [
    "data = {\n",
    "    'page': '7',\n",
    "    'genre': 'all',\n",
    "    'period': '2023-02-06'\n",
    "}"
   ]
  },
  {
   "cell_type": "code",
   "execution_count": 22,
   "metadata": {},
   "outputs": [],
   "source": [
    "response = requests.post(URL, data=data)"
   ]
  },
  {
   "cell_type": "code",
   "execution_count": 23,
   "metadata": {},
   "outputs": [
    {
     "data": {
      "text/plain": [
       "200"
      ]
     },
     "execution_count": 23,
     "metadata": {},
     "output_type": "execute_result"
    }
   ],
   "source": [
    "response.status_code"
   ]
  },
  {
   "cell_type": "code",
   "execution_count": 18,
   "metadata": {},
   "outputs": [],
   "source": [
    "# print(response.text) -> 구조가 html 문서같다..? soup 객체로 변환 !\n",
    "soup = BeautifulSoup(response.text, 'html.parser')"
   ]
  },
  {
   "cell_type": "code",
   "execution_count": 24,
   "metadata": {},
   "outputs": [],
   "source": [
    "# 내가 가져오고 싶은 영화가 있는지 확인\n",
    "movies = soup.select('.boxoffice_li')"
   ]
  },
  {
   "cell_type": "code",
   "execution_count": 26,
   "metadata": {},
   "outputs": [
    {
     "data": {
      "text/plain": [
       "'릴리 슈슈의 모든 것'"
      ]
     },
     "execution_count": 26,
     "metadata": {},
     "output_type": "execute_result"
    }
   ],
   "source": [
    "movies[0].select_one('.mov_name').text"
   ]
  },
  {
   "cell_type": "code",
   "execution_count": null,
   "metadata": {},
   "outputs": [],
   "source": []
  },
  {
   "attachments": {},
   "cell_type": "markdown",
   "metadata": {},
   "source": [
    "## JSON"
   ]
  },
  {
   "cell_type": "code",
   "execution_count": 27,
   "metadata": {},
   "outputs": [],
   "source": [
    "URL = 'https://jsonplaceholder.typicode.com/posts'"
   ]
  },
  {
   "cell_type": "code",
   "execution_count": 28,
   "metadata": {},
   "outputs": [],
   "source": [
    "response = requests.get(URL)"
   ]
  },
  {
   "cell_type": "code",
   "execution_count": 51,
   "metadata": {},
   "outputs": [
    {
     "data": {
      "text/plain": [
       "str"
      ]
     },
     "execution_count": 51,
     "metadata": {},
     "output_type": "execute_result"
    }
   ],
   "source": [
    "# print(response.text)\n",
    "type(response.text)"
   ]
  },
  {
   "cell_type": "code",
   "execution_count": null,
   "metadata": {},
   "outputs": [],
   "source": []
  },
  {
   "attachments": {},
   "cell_type": "markdown",
   "metadata": {},
   "source": [
    "### JSON 문자열을 파이썬 list, dict 객체로 변환"
   ]
  },
  {
   "cell_type": "code",
   "execution_count": 33,
   "metadata": {},
   "outputs": [],
   "source": [
    "import json"
   ]
  },
  {
   "cell_type": "code",
   "execution_count": 39,
   "metadata": {},
   "outputs": [],
   "source": [
    "json_result = json.loads(response.text)"
   ]
  },
  {
   "cell_type": "code",
   "execution_count": 40,
   "metadata": {},
   "outputs": [
    {
     "data": {
      "text/plain": [
       "list"
      ]
     },
     "execution_count": 40,
     "metadata": {},
     "output_type": "execute_result"
    }
   ],
   "source": [
    "type(json_result)"
   ]
  },
  {
   "cell_type": "code",
   "execution_count": null,
   "metadata": {},
   "outputs": [],
   "source": [
    "json_result"
   ]
  },
  {
   "cell_type": "code",
   "execution_count": 49,
   "metadata": {},
   "outputs": [
    {
     "data": {
      "text/plain": [
       "list"
      ]
     },
     "execution_count": 49,
     "metadata": {},
     "output_type": "execute_result"
    }
   ],
   "source": [
    "type(response.json())"
   ]
  },
  {
   "attachments": {},
   "cell_type": "markdown",
   "metadata": {},
   "source": [
    "## 실전 01\n",
    "\n",
    "- 디자인 정글 크롤링\n",
    "- 제목, 카테고리\n",
    "- 스크롤을 통해 나오는 추가 데이터 크롤링"
   ]
  },
  {
   "cell_type": "code",
   "execution_count": 52,
   "metadata": {},
   "outputs": [],
   "source": [
    "URL = 'https://www.jungle.co.kr'"
   ]
  },
  {
   "cell_type": "code",
   "execution_count": 53,
   "metadata": {},
   "outputs": [],
   "source": [
    "response = requests.get(URL)"
   ]
  },
  {
   "cell_type": "code",
   "execution_count": 54,
   "metadata": {},
   "outputs": [
    {
     "data": {
      "text/plain": [
       "<Response [200]>"
      ]
     },
     "execution_count": 54,
     "metadata": {},
     "output_type": "execute_result"
    }
   ],
   "source": [
    "response"
   ]
  },
  {
   "cell_type": "code",
   "execution_count": 71,
   "metadata": {},
   "outputs": [],
   "source": [
    "# 스크롤 했을 때 나오는 추가데이터 ([Network] -> Fetch/XHR 탭에서 나오는 recent.json의 요청 URL)\n",
    "JUNGLE_URL = 'https://www.jungle.co.kr/recent.json?magazineOffset={}&contestOffset={}&exhibitOffset={}&galleryOffset={}'.format(\n",
    "    0, 0, 0, 0\n",
    ")\n",
    "\n",
    "URL = 'https://www.jungle.co.kr/recent.json'\n",
    "# # ? 뒤의 query parameters 분리\n",
    "# parameters = '?magazineOffset=0   &   contestOffset=0   &   exhibitOffset=0   &   galleryOffset=0'"
   ]
  },
  {
   "cell_type": "code",
   "execution_count": 72,
   "metadata": {},
   "outputs": [
    {
     "data": {
      "text/plain": [
       "'https://www.jungle.co.kr/recent.json?magazineOffset=0&contestOffset=0&exhibitOffset=0&galleryOffset=0'"
      ]
     },
     "execution_count": 72,
     "metadata": {},
     "output_type": "execute_result"
    }
   ],
   "source": [
    "JUNGLE_URL"
   ]
  },
  {
   "cell_type": "code",
   "execution_count": 67,
   "metadata": {},
   "outputs": [],
   "source": [
    "params = {\n",
    "    'magazineOffset': 0,\n",
    "    'contestOffset': 0,\n",
    "    'exhibitOffset': 0,\n",
    "    'galleryOffset': 0\n",
    "}"
   ]
  },
  {
   "cell_type": "code",
   "execution_count": 68,
   "metadata": {},
   "outputs": [],
   "source": [
    "response = requests.get(URL, params=params)"
   ]
  },
  {
   "cell_type": "code",
   "execution_count": 69,
   "metadata": {},
   "outputs": [
    {
     "data": {
      "text/plain": [
       "200"
      ]
     },
     "execution_count": 69,
     "metadata": {},
     "output_type": "execute_result"
    }
   ],
   "source": [
    "response.status_code"
   ]
  },
  {
   "cell_type": "code",
   "execution_count": 76,
   "metadata": {},
   "outputs": [
    {
     "data": {
      "text/plain": [
       "'{\"key\": 0, \"key2\": 3}'"
      ]
     },
     "execution_count": 76,
     "metadata": {},
     "output_type": "execute_result"
    }
   ],
   "source": [
    "json.dumps({\n",
    "    'key': 0,\n",
    "    'key2': 3\n",
    "})"
   ]
  },
  {
   "cell_type": "code",
   "execution_count": 73,
   "metadata": {},
   "outputs": [],
   "source": [
    "# json포맷의 데이터를 파이썬 list나 dict객체로 변환\n",
    "import json\n",
    "json_result = json.loads(response.text)"
   ]
  },
  {
   "cell_type": "code",
   "execution_count": 80,
   "metadata": {},
   "outputs": [
    {
     "data": {
      "text/plain": [
       "[{'제목': '자몽 아카데미 키즈 크리에이터 콘텐츠 스쿨', '카테고리': '공모전'},\n",
       " {'제목': '2023년 대한민국 청년정책 공모전', '카테고리': '공모전'},\n",
       " {'제목': '[궁금한 인터뷰] 건축으로 표현하는 일상의 위대함', '카테고리': '매거진'},\n",
       " {'제목': '[정글 포커스] 환경에 진심인 기업', '카테고리': '매거진'},\n",
       " {'제목': '[온라인 활동] 초보자도 할 수 있는 펀딩 프로그램 모집', '카테고리': '공모전'},\n",
       " {'제목': '[온라인 활동] 상품, APP, WEB, 서비스 기획직무를 함께 스터디해요!!', '카테고리': '공모전'}]"
      ]
     },
     "execution_count": 80,
     "metadata": {},
     "output_type": "execute_result"
    }
   ],
   "source": [
    "jungle_list = []\n",
    "\n",
    "for data in json_result['moreList']:\n",
    "    # print(data['title']) # 제목\n",
    "    # print(data['targetCode']) # 카테고리\n",
    "    jungle_list.append({\n",
    "        '제목': data['title'],\n",
    "        '카테고리': data['targetCode']\n",
    "    })\n",
    "jungle_list"
   ]
  },
  {
   "cell_type": "code",
   "execution_count": null,
   "metadata": {},
   "outputs": [],
   "source": [
    "# 마지막 페이지까지 크롤링\n",
    "params = {\n",
    "    'magazineOffset': 0,\n",
    "    'contestOffset': 0,\n",
    "    'exhibitOffset': 0,\n",
    "    'galleryOffset': 0\n",
    "}\n",
    "\n",
    "jungle_list = []\n",
    "for i in range(100):\n",
    "    print('현재 파라미터', params)\n",
    "    response = requests.get(URL, params=params)\n",
    "\n",
    "    json_result = json.loads(response.text)\n",
    "\n",
    "    for data in json_result['moreList']:\n",
    "        # print(data['title']) # 제목\n",
    "        # print(data['targetCode']) # 카테고리\n",
    "        jungle_list.append({\n",
    "            '제목': data['title'],\n",
    "            '카테고리': data['targetCode']\n",
    "        })\n",
    "    \n",
    "    # next parameter 값\n",
    "    for key in params:\n",
    "        # print(key, json_result[key])\n",
    "        params[key] = json_result[key]\n",
    "    # print('다음 파라미터?', params)\n",
    "\n",
    "    if json_result['existMore'] == False:\n",
    "        break\n"
   ]
  },
  {
   "cell_type": "code",
   "execution_count": null,
   "metadata": {},
   "outputs": [],
   "source": [
    "jungle_list"
   ]
  },
  {
   "attachments": {},
   "cell_type": "markdown",
   "metadata": {},
   "source": [
    "## 실전 02\n",
    "\n",
    "- 로켓펀치 사이트 크롤링\n",
    "- 회사명, 회사설명, 채용공고 (회사 별 여러 개)\n",
    "- 총 10 페이지 크롤링"
   ]
  },
  {
   "cell_type": "code",
   "execution_count": null,
   "metadata": {},
   "outputs": [],
   "source": [
    "# URL = 'https://www.rocketpunch.com/jobs'"
   ]
  },
  {
   "cell_type": "code",
   "execution_count": 99,
   "metadata": {},
   "outputs": [],
   "source": [
    "URL = 'https://www.rocketpunch.com/api/jobs/template'\n",
    "parameters = '?page=2  &  q='"
   ]
  },
  {
   "cell_type": "code",
   "execution_count": 100,
   "metadata": {},
   "outputs": [],
   "source": [
    "params = {\n",
    "    'page': 1,\n",
    "    'q': '',\n",
    "}"
   ]
  },
  {
   "cell_type": "code",
   "execution_count": 101,
   "metadata": {},
   "outputs": [],
   "source": [
    "response = requests.get(URL, params=params)"
   ]
  },
  {
   "cell_type": "code",
   "execution_count": 102,
   "metadata": {},
   "outputs": [
    {
     "data": {
      "text/plain": [
       "200"
      ]
     },
     "execution_count": 102,
     "metadata": {},
     "output_type": "execute_result"
    }
   ],
   "source": [
    "response.status_code"
   ]
  },
  {
   "cell_type": "code",
   "execution_count": 103,
   "metadata": {},
   "outputs": [],
   "source": [
    "# '{'로 시작하는 문자열임으로, \n",
    "# 파이썬 딕셔너리 객체로 만들기 위해 json.loads('문자열') 메서드 사용\n",
    "json_result = json.loads(response.text)"
   ]
  },
  {
   "cell_type": "code",
   "execution_count": 104,
   "metadata": {},
   "outputs": [],
   "source": [
    "# json 안에 html 문서가 들어가있는 경우! SEO를 위해 이런식으로 서버를 구축하기도 함\n",
    "soup = BeautifulSoup(json_result['data']['template'], 'html.parser')"
   ]
  },
  {
   "cell_type": "code",
   "execution_count": 105,
   "metadata": {},
   "outputs": [],
   "source": [
    "company_list = soup.select('.company-list > .company.item')"
   ]
  },
  {
   "cell_type": "code",
   "execution_count": null,
   "metadata": {},
   "outputs": [],
   "source": [
    "rocket_list = []\n",
    "for company in company_list:\n",
    "    company_name = company.select_one('.company-name strong').text # 회사명\n",
    "    company_desc = company.select_one('.description').text # 회사 설명\n",
    "\n",
    "    # 채용공고들 (여러 개)\n",
    "    job_details = company.select('.job-detail')\n",
    "\n",
    "    jobs = []\n",
    "    for job_detail in job_details:\n",
    "        a_tag = job_detail.select_one('a')\n",
    "        a_tag.text # 채용공고명\n",
    "        a_tag.attrs['href'] # 채용공고 링크\n",
    "        jobs.append({\n",
    "            '공고명': a_tag.text,\n",
    "            '링크': a_tag.attrs['href']\n",
    "        })\n",
    "    \n",
    "    rocket_list.append({\n",
    "        '회사명': company_name,\n",
    "        '회사설명': company_desc,\n",
    "        '채용공고': jobs\n",
    "    })\n",
    "\n",
    "rocket_list"
   ]
  },
  {
   "cell_type": "code",
   "execution_count": 109,
   "metadata": {},
   "outputs": [
    {
     "name": "stdout",
     "output_type": "stream",
     "text": [
      "현재 1 진행 중...\n",
      "현재 2 진행 중...\n",
      "현재 3 진행 중...\n",
      "현재 4 진행 중...\n",
      "현재 5 진행 중...\n",
      "현재 6 진행 중...\n",
      "현재 7 진행 중...\n",
      "현재 8 진행 중...\n",
      "현재 9 진행 중...\n",
      "현재 10 진행 중...\n",
      "200\n"
     ]
    }
   ],
   "source": [
    "rocket_list = []\n",
    "\n",
    "for page in range(1, 11):\n",
    "    # 한 페이지씩 넘기는 parameter 생성\n",
    "    params = {\n",
    "        'page': page,\n",
    "        'q': '',\n",
    "    }\n",
    "    print(f'현재 {page}페이지 진행 중...')\n",
    "\n",
    "    # 위에서 한 페이지 작업할 때 했던 코드들 가져오기\n",
    "    response = requests.get(URL, params=params)\n",
    "    json_result = json.loads(response.text)\n",
    "    soup = BeautifulSoup(json_result['data']['template'], 'html.parser')\n",
    "\n",
    "    company_list = soup.select('.company-list > .company.item')\n",
    "    \n",
    "    for company in company_list:\n",
    "        company_name = company.select_one('.company-name strong').text # 회사명\n",
    "        company_desc = company.select_one('.description').text # 회사 설명\n",
    "\n",
    "        # 채용공고들 (여러 개)\n",
    "        job_details = company.select('.job-detail')\n",
    "\n",
    "        jobs = []\n",
    "        for job_detail in job_details:\n",
    "            a_tag = job_detail.select_one('a')\n",
    "            a_tag.text # 채용공고명\n",
    "            a_tag.attrs['href'] # 채용공고 링크\n",
    "            jobs.append({\n",
    "                '공고명': a_tag.text,\n",
    "                '링크': a_tag.attrs['href']\n",
    "            })\n",
    "        \n",
    "        rocket_list.append({\n",
    "            '회사명': company_name,\n",
    "            '회사설명': company_desc,\n",
    "            '채용공고': jobs\n",
    "        })\n",
    "\n",
    "print(len(rocket_list))"
   ]
  },
  {
   "cell_type": "code",
   "execution_count": 110,
   "metadata": {},
   "outputs": [],
   "source": [
    "# 함수화\n",
    "\n",
    "URL = 'https://www.rocketpunch.com/api/jobs/template'\n",
    "def rocket_crawler(params):\n",
    "    '''\n",
    "    로켓펀치 채용공고를 크롤링하는 함수입니다.\n",
    "    params : dict (page, q)\n",
    "    return : list (채용공고)\n",
    "    '''\n",
    "    response = requests.get(URL, params=params)\n",
    "    json_result = json.loads(response.text)\n",
    "    soup = BeautifulSoup(json_result['data']['template'], 'html.parser')\n",
    "\n",
    "    company_list = soup.select('.company-list > .company.item')\n",
    "    \n",
    "    results = []\n",
    "    for company in company_list:\n",
    "        company_name = company.select_one('.company-name strong').text # 회사명\n",
    "        company_desc = company.select_one('.description').text # 회사 설명\n",
    "\n",
    "        # 채용공고들 (여러 개)\n",
    "        job_details = company.select('.job-detail')\n",
    "\n",
    "        jobs = []\n",
    "        for job_detail in job_details:\n",
    "            a_tag = job_detail.select_one('a')\n",
    "            a_tag.text # 채용공고명\n",
    "            a_tag.attrs['href'] # 채용공고 링크\n",
    "            jobs.append({\n",
    "                '공고명': a_tag.text,\n",
    "                '링크': a_tag.attrs['href']\n",
    "            })\n",
    "        \n",
    "        results.append({\n",
    "            '회사명': company_name,\n",
    "            '회사설명': company_desc,\n",
    "            '채용공고': jobs\n",
    "        })\n",
    "    \n",
    "    return results"
   ]
  },
  {
   "cell_type": "code",
   "execution_count": null,
   "metadata": {},
   "outputs": [],
   "source": [
    "# 함수를 실행할 부분\n",
    "rocket_list = []\n",
    "\n",
    "for page in range(1, 11):\n",
    "    # 한 페이지씩 넘기는 parameter 생성\n",
    "    params = {\n",
    "        'page': page,\n",
    "        'q': '',\n",
    "    }\n",
    "    print(f'현재 {page}페이지 진행 중...')\n",
    "\n",
    "    rocket_list.extend(rocket_crawler(params))\n",
    "\n",
    "rocket_list"
   ]
  },
  {
   "cell_type": "code",
   "execution_count": null,
   "metadata": {},
   "outputs": [],
   "source": []
  }
 ],
 "metadata": {
  "kernelspec": {
   "display_name": "study",
   "language": "python",
   "name": "python3"
  },
  "language_info": {
   "codemirror_mode": {
    "name": "ipython",
    "version": 3
   },
   "file_extension": ".py",
   "mimetype": "text/x-python",
   "name": "python",
   "nbconvert_exporter": "python",
   "pygments_lexer": "ipython3",
   "version": "3.10.9"
  },
  "orig_nbformat": 4,
  "vscode": {
   "interpreter": {
    "hash": "1b9251e2362d10317da5c121b652dc9d75684a5f0e3d5ea62513a1d2b29f72a3"
   }
  }
 },
 "nbformat": 4,
 "nbformat_minor": 2
}
