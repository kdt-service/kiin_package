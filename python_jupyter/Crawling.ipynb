{
 "cells": [
  {
   "attachments": {},
   "cell_type": "markdown",
   "id": "2332e141",
   "metadata": {},
   "source": [
    "# 크롤링 기초"
   ]
  },
  {
   "attachments": {},
   "cell_type": "markdown",
   "id": "9b8d3e41",
   "metadata": {},
   "source": [
    "- 패키지 설치"
   ]
  },
  {
   "cell_type": "code",
   "execution_count": null,
   "id": "69974268",
   "metadata": {},
   "outputs": [],
   "source": [
    "# %pip install requests"
   ]
  },
  {
   "cell_type": "code",
   "execution_count": 21,
   "id": "c54d7a33",
   "metadata": {},
   "outputs": [],
   "source": [
    "# URL 설정\n",
    "URL = 'https://comic.naver.com/webtoon/weekday?order=User'"
   ]
  },
  {
   "cell_type": "code",
   "execution_count": 22,
   "id": "787a7790",
   "metadata": {},
   "outputs": [],
   "source": [
    "# request 모듈 임포트(불러오기)\n",
    "import requests"
   ]
  },
  {
   "cell_type": "code",
   "execution_count": 23,
   "id": "539a3b2b",
   "metadata": {},
   "outputs": [],
   "source": [
    "# get method로 URL에 요청을 보낸다. (그 결과로 response, 응답을 받음)\n",
    "response = requests.get(URL)"
   ]
  },
  {
   "cell_type": "code",
   "execution_count": 24,
   "id": "e3e60e14",
   "metadata": {},
   "outputs": [
    {
     "data": {
      "text/plain": [
       "200"
      ]
     },
     "execution_count": 24,
     "metadata": {},
     "output_type": "execute_result"
    }
   ],
   "source": [
    "# status code 확인\n",
    "response.status_code"
   ]
  },
  {
   "cell_type": "code",
   "execution_count": 11,
   "id": "060a55b5",
   "metadata": {},
   "outputs": [],
   "source": [
    "# 응답받은 텍스트 출력 (html 문서)\n",
    "# print(response.text)"
   ]
  },
  {
   "attachments": {},
   "cell_type": "markdown",
   "id": "2c93eac1",
   "metadata": {},
   "source": [
    "- html문서를 다루기 쉽게 해주는 BeautifulSoup4 패키지를 설치"
   ]
  },
  {
   "cell_type": "code",
   "execution_count": 26,
   "id": "938e4b88",
   "metadata": {},
   "outputs": [],
   "source": [
    "# %pip install BeautifulSoup4"
   ]
  },
  {
   "cell_type": "code",
   "execution_count": 25,
   "id": "a99c0710",
   "metadata": {},
   "outputs": [],
   "source": [
    "# beatifulsoup import\n",
    "from bs4 import BeautifulSoup"
   ]
  },
  {
   "cell_type": "code",
   "execution_count": 28,
   "id": "32db5eb1",
   "metadata": {},
   "outputs": [],
   "source": [
    "# 응답받은 html문서를, html.parser로 BeautifulSoup 객체로 만듦.\n",
    "soup = BeautifulSoup(response.text, 'html.parser')"
   ]
  },
  {
   "attachments": {},
   "cell_type": "markdown",
   "id": "d764aa8e",
   "metadata": {},
   "source": [
    "### soup.find()"
   ]
  },
  {
   "cell_type": "code",
   "execution_count": 29,
   "id": "c1b74810",
   "metadata": {},
   "outputs": [],
   "source": [
    "result = soup.find('title')"
   ]
  },
  {
   "cell_type": "code",
   "execution_count": 30,
   "id": "6f8c2eeb",
   "metadata": {},
   "outputs": [
    {
     "data": {
      "text/plain": [
       "<title>네이버 웹툰 &gt; 요일별  웹툰 &gt; 전체웹툰</title>"
      ]
     },
     "execution_count": 30,
     "metadata": {},
     "output_type": "execute_result"
    }
   ],
   "source": [
    "result"
   ]
  },
  {
   "cell_type": "code",
   "execution_count": 31,
   "id": "45221529",
   "metadata": {},
   "outputs": [
    {
     "data": {
      "text/plain": [
       "bs4.element.Tag"
      ]
     },
     "execution_count": 31,
     "metadata": {},
     "output_type": "execute_result"
    }
   ],
   "source": [
    "type(result)"
   ]
  },
  {
   "cell_type": "code",
   "execution_count": 34,
   "id": "2896139f",
   "metadata": {},
   "outputs": [
    {
     "data": {
      "text/plain": [
       "'네이버 웹툰 > 요일별  웹툰 > 전체웹툰'"
      ]
     },
     "execution_count": 34,
     "metadata": {},
     "output_type": "execute_result"
    }
   ],
   "source": [
    "result.text"
   ]
  },
  {
   "cell_type": "code",
   "execution_count": 35,
   "id": "4561d9c7",
   "metadata": {},
   "outputs": [],
   "source": [
    "result = soup.find_all('div', class_=\"thumb\")"
   ]
  },
  {
   "cell_type": "code",
   "execution_count": 37,
   "id": "8a291ede",
   "metadata": {},
   "outputs": [],
   "source": [
    "# result"
   ]
  },
  {
   "attachments": {},
   "cell_type": "markdown",
   "id": "8319e31a",
   "metadata": {},
   "source": [
    "## 예제"
   ]
  },
  {
   "cell_type": "code",
   "execution_count": 2,
   "id": "8ea92dd2",
   "metadata": {},
   "outputs": [],
   "source": [
    "import requests"
   ]
  },
  {
   "cell_type": "code",
   "execution_count": 3,
   "id": "bf383a2b",
   "metadata": {},
   "outputs": [],
   "source": [
    "from bs4 import BeautifulSoup"
   ]
  },
  {
   "cell_type": "code",
   "execution_count": 4,
   "id": "7a5cdf2c",
   "metadata": {},
   "outputs": [],
   "source": [
    "URL = 'https://comic.naver.com/webtoon/weekday?order=User'\n",
    "response = requests.get(URL)"
   ]
  },
  {
   "cell_type": "code",
   "execution_count": 5,
   "id": "5d233d90",
   "metadata": {},
   "outputs": [
    {
     "data": {
      "text/plain": [
       "200"
      ]
     },
     "execution_count": 5,
     "metadata": {},
     "output_type": "execute_result"
    }
   ],
   "source": [
    "response.status_code"
   ]
  },
  {
   "cell_type": "code",
   "execution_count": 9,
   "id": "a2d59fab",
   "metadata": {},
   "outputs": [
    {
     "data": {
      "text/plain": [
       "str"
      ]
     },
     "execution_count": 9,
     "metadata": {},
     "output_type": "execute_result"
    }
   ],
   "source": [
    "type(response.text)"
   ]
  },
  {
   "cell_type": "code",
   "execution_count": 12,
   "id": "d2db0be7",
   "metadata": {},
   "outputs": [
    {
     "data": {
      "text/plain": [
       "'title>네이버 웹툰 > 요일별  웹툰 > 전체웹툰</title>\\r\\n\\t\\r\\n\\r\\n\\r\\n\\r\\n\\r\\n'"
      ]
     },
     "execution_count": 12,
     "metadata": {},
     "output_type": "execute_result"
    }
   ],
   "source": [
    "idx = response.text.find('title')\n",
    "response.text[idx: idx+50]"
   ]
  },
  {
   "cell_type": "code",
   "execution_count": 8,
   "id": "5c84d2f3",
   "metadata": {},
   "outputs": [],
   "source": [
    "soup = BeautifulSoup(response.text, 'html.parser')"
   ]
  },
  {
   "cell_type": "code",
   "execution_count": 13,
   "id": "5b58b1d2",
   "metadata": {},
   "outputs": [
    {
     "data": {
      "text/plain": [
       "<title>네이버 웹툰 &gt; 요일별  웹툰 &gt; 전체웹툰</title>"
      ]
     },
     "execution_count": 13,
     "metadata": {},
     "output_type": "execute_result"
    }
   ],
   "source": [
    "soup.find('title')"
   ]
  },
  {
   "cell_type": "code",
   "execution_count": 14,
   "id": "63e2afa7",
   "metadata": {},
   "outputs": [
    {
     "data": {
      "text/plain": [
       "<div class=\"thumb\">\n",
       "<a href=\"/webtoon/list?titleId=648419&amp;weekday=mon\" onclick=\"nclk_v2(event,'thm*m.img','','1')\">\n",
       "<img alt=\"뷰티풀 군바리\" height=\"107\" onerror=\"this.src='https://ssl.pstatic.net/static/comic/images/migration/common/blank.gif'\" src=\"https://shared-comic.pstatic.net/thumb/webtoon/648419/thumbnail/thumbnail_IMAG21_d9398229-cbfd-47dc-9208-0a6fb936f3a7.jpg\" title=\"뷰티풀 군바리\" width=\"83\"/><span class=\"mask\"></span>\n",
       "</a>\n",
       "</div>"
      ]
     },
     "execution_count": 14,
     "metadata": {},
     "output_type": "execute_result"
    }
   ],
   "source": [
    "soup.find(class_=\"thumb\")"
   ]
  },
  {
   "cell_type": "code",
   "execution_count": 20,
   "id": "d0146891",
   "metadata": {},
   "outputs": [],
   "source": [
    "# soup.find_all(attrs={'class':'thumb'})\n",
    "# soup.find(attrs={'href': '/webtoon/list?titleId=802293&weekday=thu'})"
   ]
  },
  {
   "cell_type": "code",
   "execution_count": 21,
   "id": "2ec39347",
   "metadata": {},
   "outputs": [],
   "source": [
    "result = soup.find(id=\"content\")"
   ]
  },
  {
   "cell_type": "code",
   "execution_count": 23,
   "id": "8dbe6a9e",
   "metadata": {},
   "outputs": [],
   "source": [
    "result2 = result.find('a', class_=\"title\")"
   ]
  },
  {
   "cell_type": "code",
   "execution_count": 34,
   "id": "75711f3d",
   "metadata": {},
   "outputs": [
    {
     "data": {
      "text/plain": [
       "'content'"
      ]
     },
     "execution_count": 34,
     "metadata": {},
     "output_type": "execute_result"
    }
   ],
   "source": [
    "result.attrs['id']"
   ]
  },
  {
   "cell_type": "code",
   "execution_count": 29,
   "id": "1bc5d1a8",
   "metadata": {},
   "outputs": [
    {
     "data": {
      "text/plain": [
       "<a class=\"title\" href=\"/webtoon/list?titleId=648419&amp;weekday=mon\" onclick=\"nclk_v2(event,'thm*m.tit','','1')\" title=\"뷰티풀 군바리\">뷰티풀 군바리</a>"
      ]
     },
     "execution_count": 29,
     "metadata": {},
     "output_type": "execute_result"
    }
   ],
   "source": [
    "result2"
   ]
  },
  {
   "cell_type": "code",
   "execution_count": 28,
   "id": "b8657988",
   "metadata": {},
   "outputs": [
    {
     "data": {
      "text/plain": [
       "'뷰티풀 군바리'"
      ]
     },
     "execution_count": 28,
     "metadata": {},
     "output_type": "execute_result"
    }
   ],
   "source": [
    "result2.text"
   ]
  },
  {
   "cell_type": "code",
   "execution_count": 36,
   "id": "160ad486",
   "metadata": {},
   "outputs": [
    {
     "data": {
      "text/plain": [
       "'뷰티풀 군바리'"
      ]
     },
     "execution_count": 36,
     "metadata": {},
     "output_type": "execute_result"
    }
   ],
   "source": [
    "result2.attrs['title']"
   ]
  },
  {
   "cell_type": "code",
   "execution_count": null,
   "id": "7a32dc75",
   "metadata": {},
   "outputs": [],
   "source": []
  },
  {
   "attachments": {},
   "cell_type": "markdown",
   "id": "2061dc90",
   "metadata": {},
   "source": [
    "## 실습 01"
   ]
  },
  {
   "cell_type": "code",
   "execution_count": null,
   "id": "5ad7800a",
   "metadata": {},
   "outputs": [],
   "source": [
    "import requests\n",
    "from bs4 import BeautifulSoup"
   ]
  },
  {
   "cell_type": "code",
   "execution_count": 38,
   "id": "a14799c5",
   "metadata": {},
   "outputs": [],
   "source": [
    "URL = 'https://ko.wikipedia.org/wiki/위키백과'\n",
    "response = requests.get(URL)\n",
    "soup = BeautifulSoup(response.text, 'html.parser')"
   ]
  },
  {
   "cell_type": "code",
   "execution_count": 39,
   "id": "5622a17a",
   "metadata": {},
   "outputs": [],
   "source": [
    "result = soup.find(id=\"mw-content-text\")"
   ]
  },
  {
   "cell_type": "code",
   "execution_count": null,
   "id": "03ab372d",
   "metadata": {},
   "outputs": [],
   "source": [
    "# result.text"
   ]
  },
  {
   "attachments": {},
   "cell_type": "markdown",
   "id": "6c85e5a4",
   "metadata": {},
   "source": [
    "## 실습 02"
   ]
  },
  {
   "cell_type": "code",
   "execution_count": 46,
   "id": "a710daac",
   "metadata": {},
   "outputs": [],
   "source": [
    "headers = {\n",
    "    'User-Agent': 'Mozilla/5.0 (Windows NT 10.0; Win64; x64) AppleWebKit/537.36 (KHTML, like Gecko) Chrome/109.0.0.0 Safari/537.36'\n",
    "}"
   ]
  },
  {
   "cell_type": "code",
   "execution_count": 64,
   "id": "cb583fc0",
   "metadata": {},
   "outputs": [],
   "source": [
    "# 이 key, value로는 200을 받을 수 없음 ! \n",
    "# 다른 것으로 변경\n",
    "headers = {'User-Agent': 'Mozilla/5.0 (Windows NT 10.0; Win64; x64) AppleWebKit/537.36 (KHTML, like Gecko) Chrome/109.0.0.0 Safari/537.36'}"
   ]
  },
  {
   "cell_type": "code",
   "execution_count": 69,
   "id": "2aabc53c",
   "metadata": {},
   "outputs": [
    {
     "data": {
      "text/plain": [
       "200"
      ]
     },
     "execution_count": 69,
     "metadata": {},
     "output_type": "execute_result"
    }
   ],
   "source": [
    "URL = 'https://www.saramin.co.kr/zf_user/jobs/public/list'\n",
    "r = requests.get(URL, headers=headers)\n",
    "r.status_code"
   ]
  },
  {
   "cell_type": "code",
   "execution_count": 70,
   "id": "672bef8a",
   "metadata": {},
   "outputs": [],
   "source": [
    "soup = BeautifulSoup(r.text, 'html.parser')\n",
    "result = soup.find(class_='noti_list')"
   ]
  },
  {
   "cell_type": "code",
   "execution_count": 71,
   "id": "28cec901",
   "metadata": {},
   "outputs": [
    {
     "data": {
      "text/plain": [
       "'\\n\\n\\n\\n선택\\n\\n\\n\\nSK네트웍스(주) \\n\\n\\n\\n\\n\\n2023년 상반기 서비스공채 신입 인턴 사원 공개 채용  \\n\\n부주방장조리사주방보조주방장호텔리어 외                    \\n\\n\\n신입\\n학력무관\\n\\n\\n인턴직\\n서울 광진구\\n\\n\\n\\n~ 02/15(수)\\n\\n\\n자소서작성\\n \\n\\n'"
      ]
     },
     "execution_count": 71,
     "metadata": {},
     "output_type": "execute_result"
    }
   ],
   "source": [
    "result.text"
   ]
  },
  {
   "attachments": {},
   "cell_type": "markdown",
   "id": "bd10aa51",
   "metadata": {},
   "source": [
    "## 실습 03"
   ]
  },
  {
   "cell_type": "code",
   "execution_count": 77,
   "id": "b214c669",
   "metadata": {},
   "outputs": [],
   "source": [
    "URL = 'https://comic.naver.com/webtoon/weekday?order=User'\n",
    "response = requests.get(URL)\n",
    "soup = BeautifulSoup(response.text, 'html.parser')"
   ]
  },
  {
   "cell_type": "code",
   "execution_count": 78,
   "id": "f0e13d16",
   "metadata": {},
   "outputs": [],
   "source": [
    "results = soup.find_all(class_=\"thumb\")"
   ]
  },
  {
   "cell_type": "code",
   "execution_count": 91,
   "id": "45056d43",
   "metadata": {},
   "outputs": [
    {
     "data": {
      "text/plain": [
       "<img alt=\"뷰티풀 군바리\" height=\"107\" onerror=\"this.src='https://ssl.pstatic.net/static/comic/images/migration/common/blank.gif'\" src=\"https://shared-comic.pstatic.net/thumb/webtoon/648419/thumbnail/thumbnail_IMAG21_d9398229-cbfd-47dc-9208-0a6fb936f3a7.jpg\" title=\"뷰티풀 군바리\" width=\"83\"/>"
      ]
     },
     "execution_count": 91,
     "metadata": {},
     "output_type": "execute_result"
    }
   ],
   "source": [
    "results[0].find('img')"
   ]
  },
  {
   "cell_type": "code",
   "execution_count": 86,
   "id": "1eb8541a",
   "metadata": {},
   "outputs": [
    {
     "data": {
      "text/plain": [
       "bs4.element.ResultSet"
      ]
     },
     "execution_count": 86,
     "metadata": {},
     "output_type": "execute_result"
    }
   ],
   "source": [
    "type(results)"
   ]
  },
  {
   "cell_type": "code",
   "execution_count": 83,
   "id": "bf6d9a56",
   "metadata": {},
   "outputs": [],
   "source": [
    "result = soup.find(class_='thumb')"
   ]
  },
  {
   "cell_type": "code",
   "execution_count": 84,
   "id": "672978d5",
   "metadata": {},
   "outputs": [
    {
     "data": {
      "text/plain": [
       "bs4.element.Tag"
      ]
     },
     "execution_count": 84,
     "metadata": {},
     "output_type": "execute_result"
    }
   ],
   "source": [
    "type(result)"
   ]
  },
  {
   "cell_type": "code",
   "execution_count": null,
   "id": "3d110085",
   "metadata": {},
   "outputs": [],
   "source": [
    "result.find()"
   ]
  },
  {
   "cell_type": "code",
   "execution_count": 103,
   "id": "9c8f9dc9",
   "metadata": {},
   "outputs": [],
   "source": [
    "webtoon_list = []\n",
    "\n",
    "for result in results:\n",
    "    a_tag = result.find('a')\n",
    "    img_tag = result.find('img')\n",
    "    title = img_tag.attrs['alt']\n",
    "    link = a_tag.attrs['href']\n",
    "    # print(title)\n",
    "    # print(link)\n",
    "    webtoon_info = {}\n",
    "    webtoon_info['제목'] = title\n",
    "    webtoon_info['링크'] = link\n",
    "    # print(webtoon_info)\n",
    "\n",
    "    webtoon_list.append(webtoon_info)\n"
   ]
  },
  {
   "cell_type": "code",
   "execution_count": null,
   "id": "c7da40ea",
   "metadata": {},
   "outputs": [],
   "source": [
    "# 잘못된 코드\n",
    "webtoon_info = {}\n",
    "for result in results:\n",
    "    a_tag = result.find('a')\n",
    "    img_tag = result.find('img')\n",
    "    title = img_tag.attrs['alt']\n",
    "    link = a_tag.attrs['href']\n",
    "    webtoon_info['제목'] = title\n",
    "    webtoon_info['링크'] = link\n",
    "\n",
    "    webtoon_list.append(webtoon_info)"
   ]
  },
  {
   "cell_type": "code",
   "execution_count": null,
   "id": "2df76c8f",
   "metadata": {},
   "outputs": [],
   "source": [
    "webtoon_list"
   ]
  },
  {
   "cell_type": "code",
   "execution_count": null,
   "id": "13c5bb4b",
   "metadata": {},
   "outputs": [],
   "source": []
  },
  {
   "attachments": {},
   "cell_type": "markdown",
   "id": "05c450e3",
   "metadata": {},
   "source": [
    "## Select"
   ]
  },
  {
   "cell_type": "code",
   "execution_count": 145,
   "id": "a7f6fcd0",
   "metadata": {},
   "outputs": [],
   "source": [
    "URL = 'https://www.saramin.co.kr/zf_user/jobs/public/list'\n",
    "\n",
    "headers = {\n",
    "    'User-Agent': 'Mozilla/5.0 (Windows NT 10.0; Win64; x64) AppleWebKit/537.36 (KHTML, like Gecko) Chrome/109.0.0.0 Safari/537.36'\n",
    "}\n",
    "\n",
    "r = requests.get(URL, headers=headers)\n",
    "soup = BeautifulSoup(r.text, 'html.parser')"
   ]
  },
  {
   "cell_type": "code",
   "execution_count": 115,
   "id": "ee1935a7",
   "metadata": {},
   "outputs": [
    {
     "data": {
      "text/plain": [
       "307"
      ]
     },
     "execution_count": 115,
     "metadata": {},
     "output_type": "execute_result"
    }
   ],
   "source": [
    "r = requests.get(URL)\n",
    "r.status_code"
   ]
  },
  {
   "cell_type": "code",
   "execution_count": 126,
   "id": "cf610d43",
   "metadata": {},
   "outputs": [],
   "source": [
    "result = soup.select('title')"
   ]
  },
  {
   "cell_type": "code",
   "execution_count": 127,
   "id": "a661be56",
   "metadata": {},
   "outputs": [
    {
     "data": {
      "text/plain": [
       "[<title>1000대기업 공채속보 | 매출 1000대기업의 채용정보와 공채 컨텐츠 - 사람인</title>]"
      ]
     },
     "execution_count": 127,
     "metadata": {},
     "output_type": "execute_result"
    }
   ],
   "source": [
    "result"
   ]
  },
  {
   "cell_type": "code",
   "execution_count": 132,
   "id": "29f49d84",
   "metadata": {},
   "outputs": [],
   "source": [
    "result = soup.select('.noti_list')"
   ]
  },
  {
   "cell_type": "code",
   "execution_count": 119,
   "id": "8decd441",
   "metadata": {},
   "outputs": [
    {
     "data": {
      "text/plain": [
       "'rec-45011522'"
      ]
     },
     "execution_count": 119,
     "metadata": {},
     "output_type": "execute_result"
    }
   ],
   "source": [
    "result[0].attrs['id']"
   ]
  },
  {
   "cell_type": "code",
   "execution_count": 114,
   "id": "ba31b27f",
   "metadata": {},
   "outputs": [
    {
     "data": {
      "text/plain": [
       "<input class=\"idx_chk\" csn=\"\" id=\"recruit_44981485\" name=\"row_idx[]\" type=\"checkbox\" value=\"44981485\"/>"
      ]
     },
     "execution_count": 114,
     "metadata": {},
     "output_type": "execute_result"
    }
   ],
   "source": [
    "result[5].select_one('#recruit_44981485').attrs['value']"
   ]
  },
  {
   "cell_type": "code",
   "execution_count": null,
   "id": "701bc15f",
   "metadata": {},
   "outputs": [],
   "source": [
    "result[3]"
   ]
  },
  {
   "cell_type": "code",
   "execution_count": 130,
   "id": "a47c8b1b",
   "metadata": {},
   "outputs": [
    {
     "data": {
      "text/plain": [
       "<input class=\"idx_chk\" csn=\"\" id=\"recruit_44981485\" name=\"row_idx[]\" type=\"checkbox\" value=\"44981485\"/>"
      ]
     },
     "execution_count": 130,
     "metadata": {},
     "output_type": "execute_result"
    }
   ],
   "source": [
    "soup.select_one('input[value=\"44981485\"]')"
   ]
  },
  {
   "cell_type": "code",
   "execution_count": 141,
   "id": "ae602cee",
   "metadata": {},
   "outputs": [],
   "source": [
    "# class=\"apple pine melon\""
   ]
  },
  {
   "cell_type": "code",
   "execution_count": null,
   "id": "62f0e800",
   "metadata": {},
   "outputs": [],
   "source": [
    "# class~=\"apple\""
   ]
  },
  {
   "cell_type": "code",
   "execution_count": 152,
   "id": "97698ffe",
   "metadata": {},
   "outputs": [
    {
     "data": {
      "text/plain": [
       "<label class=\"lbl hide\" for=\"recruit_44999248\">선택</label>"
      ]
     },
     "execution_count": 152,
     "metadata": {},
     "output_type": "execute_result"
    }
   ],
   "source": [
    "# <label class=\"lbl hide\" for=\"recruit_44999248\">선택</label>\n",
    "\n",
    "result[3].select_one('label[for*=\"449\"]')\n",
    "\n",
    "# *=, ~= 차이\n",
    "# *=\n",
    "# value => wowowowow\n",
    "# *=wow -> 이것을 찾을 수가 있음\n",
    "\n",
    "# ~=\n",
    "# pine-apple\n",
    "# ~=apple -> pine-apple 을 찾을 수가 없음\n",
    "\n",
    "# pine apple 이렇게 값이 두개라면,\n",
    "# ~=apple -> 찾을 수 있음"
   ]
  },
  {
   "cell_type": "code",
   "execution_count": null,
   "id": "4343de6b",
   "metadata": {},
   "outputs": [],
   "source": [
    "# soup.select_one('#content').select_one('.common_recruit_list').select('tr')\n",
    "# soup.find(id=\"content\").find(class_=\"common_recruit_list\").find_all('tr')"
   ]
  },
  {
   "cell_type": "code",
   "execution_count": null,
   "id": "3a97c130",
   "metadata": {},
   "outputs": [],
   "source": [
    "soup.select('#content .common_recruit_list tr')"
   ]
  },
  {
   "cell_type": "code",
   "execution_count": null,
   "id": "2eaed2dc",
   "metadata": {},
   "outputs": [],
   "source": [
    "r.text # .find()"
   ]
  },
  {
   "attachments": {},
   "cell_type": "markdown",
   "id": "8e803580",
   "metadata": {},
   "source": [
    "## 실습 01"
   ]
  },
  {
   "cell_type": "code",
   "execution_count": 166,
   "id": "bd2e3b90",
   "metadata": {},
   "outputs": [
    {
     "data": {
      "text/plain": [
       "200"
      ]
     },
     "execution_count": 166,
     "metadata": {},
     "output_type": "execute_result"
    }
   ],
   "source": [
    "URL = 'https://didimteo.startup-plus.kr/default.do'\n",
    "response = requests.get(URL)\n",
    "response.status_code"
   ]
  },
  {
   "cell_type": "code",
   "execution_count": 168,
   "id": "178c2d21",
   "metadata": {},
   "outputs": [],
   "source": [
    "soup = BeautifulSoup(response.text, 'html.parser')"
   ]
  },
  {
   "cell_type": "code",
   "execution_count": 171,
   "id": "ba432607",
   "metadata": {},
   "outputs": [
    {
     "name": "stdout",
     "output_type": "stream",
     "text": [
      "[서울창업디딤터] 2022년 서울창업디딤터 입주기업 홍보 책자\n",
      "[서울창업디딤터] 광운대학교 산학협력단 직원 채용 공고\n",
      "[BI 추가모집] 2022년 서울창업디딤터 BI 입주기업 모집\n",
      "2022년 서울창업디딤터 데모데이(DEMO DAY)\n",
      "[서울창업디딤터] 2022년 카페 운영사업자 공모 안내 (~11/..\n",
      "2022년 서울창업디딤터 에듀테크 입주기업 추가 모집\n",
      "[서울창업디딤터] 2021년 PRE-BI 입주기업 추가 모집 공고..\n"
     ]
    }
   ],
   "source": [
    "results = soup.select('#info01 a')\n",
    "\n",
    "for a_tag in results:\n",
    "    print(a_tag.text.strip())"
   ]
  },
  {
   "attachments": {},
   "cell_type": "markdown",
   "id": "4c975baf",
   "metadata": {},
   "source": [
    "## 실습 02"
   ]
  },
  {
   "cell_type": "code",
   "execution_count": null,
   "id": "5e143aa6",
   "metadata": {},
   "outputs": [],
   "source": [
    "# 제목과 날짜를 분리해 딕셔너리 형태로 저장해주세요"
   ]
  },
  {
   "cell_type": "code",
   "execution_count": 172,
   "id": "3e3ff73e",
   "metadata": {},
   "outputs": [],
   "source": [
    "URL = 'https://didimteo.startup-plus.kr/default.do'\n",
    "response = requests.get(URL)\n",
    "response.status_code\n",
    "soup = BeautifulSoup(response.text, 'html.parser')"
   ]
  },
  {
   "cell_type": "code",
   "execution_count": 173,
   "id": "b3b3d79f",
   "metadata": {},
   "outputs": [],
   "source": [
    "# 1. tr tag 가져와서 제목, 날짜 추가로 select (td)\n",
    "tr_tags = soup.select('#info01 tr')"
   ]
  },
  {
   "cell_type": "code",
   "execution_count": 181,
   "id": "8da5f793",
   "metadata": {},
   "outputs": [
    {
     "name": "stdout",
     "output_type": "stream",
     "text": [
      "left\n",
      "left\n",
      "left\n",
      "left\n",
      "left\n",
      "left\n",
      "left\n"
     ]
    },
    {
     "data": {
      "text/plain": [
       "[{'제목': '[서울창업디딤터] 2022년 서울창업디딤터 입주기업 홍보 책자', '날짜': '2022-12-23'},\n",
       " {'제목': '[서울창업디딤터] 광운대학교 산학협력단 직원 채용 공고', '날짜': '2022-12-07'},\n",
       " {'제목': '[BI 추가모집] 2022년 서울창업디딤터 BI 입주기업 모집', '날짜': '2022-11-28'},\n",
       " {'제목': '2022년 서울창업디딤터 데모데이(DEMO DAY)', '날짜': '2022-11-18'},\n",
       " {'제목': '[서울창업디딤터] 2022년 카페 운영사업자 공모 안내 (~11/..', '날짜': '2022-11-16'},\n",
       " {'제목': '2022년 서울창업디딤터 에듀테크 입주기업 추가 모집', '날짜': '2022-08-31'},\n",
       " {'제목': '[서울창업디딤터] 2021년 PRE-BI 입주기업 추가 모집 공고..', '날짜': '2021-08-03'}]"
      ]
     },
     "execution_count": 181,
     "metadata": {},
     "output_type": "execute_result"
    }
   ],
   "source": [
    "notice_list = []\n",
    "\n",
    "for tr_tag in tr_tags:\n",
    "    notice_info = {}\n",
    "    # td_tags = tr_tag.select('td')\n",
    "    tr_tag.select_one('a') # 제목\n",
    "    tr_tag.select('td')[1] # 날짜\n",
    "    \n",
    "    # notice_info['제목'] = tr_tag.select_one('a').text.strip()\n",
    "    notice_info['제목'] = tr_tag.select('td')[0].text.replace('·', '').strip()\n",
    "    # print(tr_tag.select_one('td').attrs['align'])\n",
    "    notice_info['날짜'] = tr_tag.select('td')[1].text.strip()\n",
    "\n",
    "    notice_list.append(notice_info)\n",
    "\n",
    "notice_list"
   ]
  },
  {
   "cell_type": "code",
   "execution_count": null,
   "id": "bf777193",
   "metadata": {},
   "outputs": [],
   "source": [
    "# 2. td 태그 가져오기 (리스트 slicing 활용)"
   ]
  },
  {
   "cell_type": "code",
   "execution_count": 182,
   "id": "f8dbc79a",
   "metadata": {},
   "outputs": [],
   "source": [
    "td_tags = soup.select('#info01 td')"
   ]
  },
  {
   "cell_type": "code",
   "execution_count": 191,
   "id": "99291071",
   "metadata": {},
   "outputs": [
    {
     "data": {
      "text/plain": [
       "'· \\n\\t\\t\\t\\t\\t\\t\\t\\t\\t\\n\\t\\t\\t\\t\\t\\t\\t\\t\\t[서울창업디딤터] 2022년 서울창업디딤터 입주기업 홍보 책자'"
      ]
     },
     "execution_count": 191,
     "metadata": {},
     "output_type": "execute_result"
    }
   ],
   "source": [
    "td_tags[0].text.strip()#.replace('\\n', '').replace('\\t', '')"
   ]
  },
  {
   "cell_type": "code",
   "execution_count": null,
   "id": "84c969c9",
   "metadata": {},
   "outputs": [],
   "source": [
    "td_tags\n",
    "# [제목1,날짜1, 제목2,날짜2, 제목3,날짜3][::2]\n",
    "# [제목1,날짜1, 제목2,날짜2, 제목3,날짜3][1::2]"
   ]
  },
  {
   "cell_type": "code",
   "execution_count": 200,
   "id": "bbe29f14",
   "metadata": {},
   "outputs": [
    {
     "data": {
      "text/plain": [
       "[0, 1, 2, 3, 4, 5, 6, 7, 8, 9]"
      ]
     },
     "execution_count": 200,
     "metadata": {},
     "output_type": "execute_result"
    }
   ],
   "source": [
    "list(range(10))"
   ]
  },
  {
   "cell_type": "code",
   "execution_count": 199,
   "id": "bf0c1d0e",
   "metadata": {},
   "outputs": [
    {
     "data": {
      "text/plain": [
       "[1, 3, 5, 7, 9]"
      ]
     },
     "execution_count": 199,
     "metadata": {},
     "output_type": "execute_result"
    }
   ],
   "source": [
    "list(range(10))[1::2]"
   ]
  },
  {
   "cell_type": "code",
   "execution_count": 196,
   "id": "19ea5d7e",
   "metadata": {},
   "outputs": [
    {
     "name": "stdout",
     "output_type": "stream",
     "text": [
      "{'제목': '\\n\\t\\t\\t\\t\\t\\t\\t\\t\\t· \\n\\t\\t\\t\\t\\t\\t\\t\\t\\t\\n\\t\\t\\t\\t\\t\\t\\t\\t\\t[서울창업디딤터] 2022년 서울창업디딤터 입주기업 홍보 책자\\n\\t\\t\\t\\t\\t\\t\\t\\t\\t\\n\\t\\t\\t\\t\\t\\t\\t\\t\\n', '날짜': '\\n\\t\\t\\t\\t\\t\\t\\t\\t\\t2022-12-23\\n\\t\\t\\t\\t\\t\\t\\t\\t'}\n",
      "{'제목': '\\n\\t\\t\\t\\t\\t\\t\\t\\t\\t· \\n\\t\\t\\t\\t\\t\\t\\t\\t\\t\\n\\t\\t\\t\\t\\t\\t\\t\\t\\t[서울창업디딤터] 광운대학교 산학협력단 직원 채용 공고\\n\\t\\t\\t\\t\\t\\t\\t\\t\\t\\n\\t\\t\\t\\t\\t\\t\\t\\t\\n', '날짜': '\\n\\t\\t\\t\\t\\t\\t\\t\\t\\t2022-12-07\\n\\t\\t\\t\\t\\t\\t\\t\\t'}\n",
      "{'제목': '\\n\\t\\t\\t\\t\\t\\t\\t\\t\\t· \\n\\t\\t\\t\\t\\t\\t\\t\\t\\t\\n\\t\\t\\t\\t\\t\\t\\t\\t\\t[BI 추가모집] 2022년 서울창업디딤터 BI 입주기업 모집\\n\\t\\t\\t\\t\\t\\t\\t\\t\\t\\n\\t\\t\\t\\t\\t\\t\\t\\t\\n', '날짜': '\\n\\t\\t\\t\\t\\t\\t\\t\\t\\t2022-11-28\\n\\t\\t\\t\\t\\t\\t\\t\\t'}\n",
      "{'제목': '\\n\\t\\t\\t\\t\\t\\t\\t\\t\\t· \\n\\t\\t\\t\\t\\t\\t\\t\\t\\t\\n\\t\\t\\t\\t\\t\\t\\t\\t\\t2022년 서울창업디딤터 데모데이(DEMO DAY)\\n\\t\\t\\t\\t\\t\\t\\t\\t\\t\\n\\t\\t\\t\\t\\t\\t\\t\\t\\n', '날짜': '\\n\\t\\t\\t\\t\\t\\t\\t\\t\\t2022-11-18\\n\\t\\t\\t\\t\\t\\t\\t\\t'}\n",
      "{'제목': '\\n\\t\\t\\t\\t\\t\\t\\t\\t\\t· \\n\\t\\t\\t\\t\\t\\t\\t\\t\\t\\n\\t\\t\\t\\t\\t\\t\\t\\t\\t[서울창업디딤터] 2022년 카페 운영사업자 공모 안내 (~11/..\\n\\t\\t\\t\\t\\t\\t\\t\\t\\t\\n\\t\\t\\t\\t\\t\\t\\t\\t\\n', '날짜': '\\n\\t\\t\\t\\t\\t\\t\\t\\t\\t2022-11-16\\n\\t\\t\\t\\t\\t\\t\\t\\t'}\n",
      "{'제목': '\\n\\t\\t\\t\\t\\t\\t\\t\\t\\t· \\n\\t\\t\\t\\t\\t\\t\\t\\t\\t\\n\\t\\t\\t\\t\\t\\t\\t\\t\\t2022년 서울창업디딤터 에듀테크 입주기업 추가 모집\\n\\t\\t\\t\\t\\t\\t\\t\\t\\t\\n\\t\\t\\t\\t\\t\\t\\t\\t\\n', '날짜': '\\n\\t\\t\\t\\t\\t\\t\\t\\t\\t2022-08-31\\n\\t\\t\\t\\t\\t\\t\\t\\t'}\n",
      "{'제목': '\\n\\t\\t\\t\\t\\t\\t\\t\\t\\t· \\n\\t\\t\\t\\t\\t\\t\\t\\t\\t\\n\\t\\t\\t\\t\\t\\t\\t\\t\\t[서울창업디딤터] 2021년 PRE-BI 입주기업 추가 모집 공고..\\n\\t\\t\\t\\t\\t\\t\\t\\t\\t\\n\\t\\t\\t\\t\\t\\t\\t\\t\\n', '날짜': '\\n\\t\\t\\t\\t\\t\\t\\t\\t\\t2021-08-03\\n\\t\\t\\t\\t\\t\\t\\t\\t'}\n"
     ]
    }
   ],
   "source": [
    "titles = td_tags[::2] # 제목\n",
    "dates = td_tags[1::2] # 날짜\n",
    "\n",
    "for i in range(len(td_tags)//2):\n",
    "    notice_info = {}\n",
    "    notice_info['제목'] = titles[i].text\n",
    "    notice_info['날짜'] = dates[i].text\n",
    "    print(notice_info)\n",
    "\n",
    "# for td_tag in td_tags[::2]: # 제목\n",
    "#     print(td_tag.text.strip())\n",
    "\n",
    "# titles = [td_tag.text.replace('\\t', '').replace('\\n', '') for td_tag in td_tags[::2]]\n",
    "# dates = [td_tag.text.strip() for td_tag in td_tags[1::2]]\n",
    "# [{'제목':title, '날짜':date} for title, date in zip(titles, dates)]"
   ]
  },
  {
   "attachments": {},
   "cell_type": "markdown",
   "id": "d8b7e41b",
   "metadata": {},
   "source": [
    "## 실습 03"
   ]
  },
  {
   "cell_type": "code",
   "execution_count": 202,
   "id": "5082efb5",
   "metadata": {},
   "outputs": [],
   "source": [
    "URL = 'https://youth.seoul.go.kr/site/main/home'\n",
    "\n",
    "headers = {\n",
    "    'User-Agent': 'Mozilla/5.0 (Windows NT 10.0; Win64; x64) AppleWebKit/537.36 (KHTML, like Gecko) Chrome/109.0.0.0 Safari/537.36'\n",
    "}\n",
    "\n",
    "response = requests.get(URL, headers=headers)"
   ]
  },
  {
   "cell_type": "code",
   "execution_count": 204,
   "id": "226034f9",
   "metadata": {},
   "outputs": [
    {
     "data": {
      "text/plain": [
       "200"
      ]
     },
     "execution_count": 204,
     "metadata": {},
     "output_type": "execute_result"
    }
   ],
   "source": [
    "response.status_code"
   ]
  },
  {
   "cell_type": "code",
   "execution_count": 205,
   "id": "1c8c57a6",
   "metadata": {},
   "outputs": [
    {
     "data": {
      "text/plain": [
       "<a \"=\"\" class=\"tit\" href=\"/site/main/board/notice/list?baCategory1=basic\">공지사항</a>"
      ]
     },
     "execution_count": 205,
     "metadata": {},
     "output_type": "execute_result"
    }
   ],
   "source": [
    "soup = BeautifulSoup(response.text, 'html.parser')\n",
    "soup.select_one('[href*=\"baCategory1=basic\"]')"
   ]
  },
  {
   "cell_type": "code",
   "execution_count": null,
   "id": "52f478e3",
   "metadata": {},
   "outputs": [],
   "source": [
    "# *= -> 해당 속성에 어떤 특정 값을 포함하는 경우 가져옴\n",
    "# ~= -> 해당 속성에 어떤 단어가 있는 경우"
   ]
  },
  {
   "cell_type": "code",
   "execution_count": null,
   "id": "5452aa37",
   "metadata": {},
   "outputs": [],
   "source": []
  },
  {
   "attachments": {},
   "cell_type": "markdown",
   "id": "069151bb",
   "metadata": {},
   "source": [
    "## 실습 04"
   ]
  },
  {
   "cell_type": "code",
   "execution_count": 206,
   "id": "d4ed6a58",
   "metadata": {},
   "outputs": [],
   "source": [
    "URL = 'https://ko.wikipedia.org/wiki/포털:요즘_화제'\n",
    "response = requests.get(URL)"
   ]
  },
  {
   "cell_type": "code",
   "execution_count": null,
   "id": "3a87af98",
   "metadata": {},
   "outputs": [],
   "source": [
    "soup = BeautifulSoup(response.text, 'html.parser')"
   ]
  },
  {
   "cell_type": "code",
   "execution_count": null,
   "id": "c2c392e7",
   "metadata": {},
   "outputs": [],
   "source": [
    "# 주요뉴스 크롤링\n",
    "results = soup.select('.vevent li')"
   ]
  },
  {
   "cell_type": "code",
   "execution_count": null,
   "id": "adc24d8e",
   "metadata": {},
   "outputs": [],
   "source": [
    "main_news = []\n",
    "for result in results[:5]:\n",
    "    print(result.text)\n",
    "    main_news.append(result.text)\n",
    "# [result.text for result in results]"
   ]
  },
  {
   "cell_type": "code",
   "execution_count": null,
   "id": "6e5144d1",
   "metadata": {},
   "outputs": [],
   "source": [
    "# 일자별 뉴스기사 크롤링 (이렇게 가져오면 필요없는 데이터들도 모두 가져오게 됨.)\n",
    "results = soup.select('.vevent > tbody > tr')"
   ]
  },
  {
   "cell_type": "code",
   "execution_count": null,
   "id": "341e7550",
   "metadata": {},
   "outputs": [],
   "source": [
    "# .vevent 클래스를 가지는 테이블들 가져온다\n",
    "tables = soup.select('.vevent')"
   ]
  },
  {
   "cell_type": "code",
   "execution_count": null,
   "id": "2098ec4a",
   "metadata": {},
   "outputs": [],
   "source": [
    "news_list = []\n",
    "# 일자별 주요뉴스 테이블만 남음 (주요뉴스, 맨 끝 필요없는 3개 제거)\n",
    "for table in tables[1:-3]:\n",
    "\n",
    "    # # 날짜\n",
    "    # date = table.select_one('.summary')\n",
    "    # print(date.text)\n",
    "\n",
    "    # # 기사들\n",
    "    # news = table.select('li')\n",
    "    # print(*[n.text for n in news])\n",
    "\n",
    "    # 첫번째 tr 태그는 날짜 텍스트\n",
    "    # 두번째 tr 태그는 뉴스기사 텍스트\n",
    "    for tr_tag in table.select('> tbody > tr'): # :scope \n",
    "        news_list.append(tr_tag.text.strip())\n"
   ]
  },
  {
   "cell_type": "code",
   "execution_count": null,
   "id": "57835cbc",
   "metadata": {},
   "outputs": [],
   "source": [
    "# 최종 결과\n",
    "['주요 뉴스'] + main_news + news_list"
   ]
  },
  {
   "attachments": {},
   "cell_type": "markdown",
   "id": "94fe8ca5",
   "metadata": {},
   "source": [
    "## 실전 01"
   ]
  },
  {
   "cell_type": "code",
   "execution_count": null,
   "id": "76eda97d",
   "metadata": {},
   "outputs": [],
   "source": [
    "URL = 'https://movie.naver.com/movie/sdb/rank/rmovie.naver'\n",
    "response = requests.get(URL)\n",
    "soup = BeautifulSoup(response.text, 'html.parser')"
   ]
  },
  {
   "cell_type": "code",
   "execution_count": null,
   "id": "70c31b1b",
   "metadata": {},
   "outputs": [],
   "source": [
    "tr_tags = soup.select('.list_ranking tbody tr')"
   ]
  },
  {
   "cell_type": "code",
   "execution_count": null,
   "id": "3abf16c0",
   "metadata": {},
   "outputs": [],
   "source": [
    "count = 1\n",
    "past_rank = 1\n",
    "for tr_tag in tr_tags:\n",
    "    try:\n",
    "        rank = tr_tag.select_one('img') # 순위\n",
    "        title = tr_tag.select_one('.title') # 영화제목\n",
    "         # 순위 01 # up, down, na\n",
    "        if rank.attrs['alt'] in ['up', 'down', 'na']:\n",
    "            # 이전 순위를 가져옴 (사실 처리할 것은 없음)\n",
    "            pass\n",
    "        else:\n",
    "            # 현재 count 이전 순위로 사용하는 변수에 담아준다.\n",
    "            past_rank = count\n",
    "            pass\n",
    "\n",
    "        title.text # 바빌론\n",
    "\n",
    "        print('{} : {}'.format(past_rank, title.text.strip()))\n",
    "        count += 1\n",
    "    except:\n",
    "        # print('위에서 에러났음 !')\n",
    "        pass"
   ]
  },
  {
   "cell_type": "code",
   "execution_count": null,
   "id": "c28a66dd",
   "metadata": {},
   "outputs": [],
   "source": [
    "# 순서대로 그냥 1씩 증가\n",
    "for rank, movie in enumerate(soup.select('.tit3'), start=1):\n",
    "    print(rank, ':', movie.text.strip())"
   ]
  },
  {
   "attachments": {},
   "cell_type": "markdown",
   "id": "1d88eea2",
   "metadata": {},
   "source": [
    "## 실전 02"
   ]
  },
  {
   "cell_type": "code",
   "execution_count": 13,
   "id": "085da667",
   "metadata": {},
   "outputs": [],
   "source": [
    "URL = 'https://finance.naver.com/sise/sise_quant.nhn'"
   ]
  },
  {
   "cell_type": "code",
   "execution_count": 14,
   "id": "a54f6390",
   "metadata": {},
   "outputs": [],
   "source": [
    "import requests\n",
    "from bs4 import BeautifulSoup"
   ]
  },
  {
   "cell_type": "code",
   "execution_count": 15,
   "id": "bda9fa36",
   "metadata": {},
   "outputs": [],
   "source": [
    "response = requests.get(URL)"
   ]
  },
  {
   "cell_type": "code",
   "execution_count": 16,
   "id": "65376910",
   "metadata": {},
   "outputs": [],
   "source": [
    "soup = BeautifulSoup(response.text, 'html.parser')"
   ]
  },
  {
   "cell_type": "code",
   "execution_count": 17,
   "id": "60400524",
   "metadata": {},
   "outputs": [],
   "source": [
    "# print(response.text)"
   ]
  },
  {
   "cell_type": "code",
   "execution_count": 18,
   "id": "f8acdd7c",
   "metadata": {},
   "outputs": [],
   "source": [
    "# 데이터가 이상하게 안나온다?\n",
    "# 의심해볼만한 것\n",
    "# 1. 비동기 방식 웹\n",
    "# 2. javascript가 동작한 것인지\n",
    "tr_tags = soup.select('.type_2 tr')"
   ]
  },
  {
   "cell_type": "code",
   "execution_count": 19,
   "id": "26a8a782",
   "metadata": {},
   "outputs": [],
   "source": [
    "filtered_tr_tags = list(filter(lambda tr_tag: tr_tag.select_one('.number'), tr_tags))"
   ]
  },
  {
   "cell_type": "code",
   "execution_count": 20,
   "id": "17fb2a8e",
   "metadata": {},
   "outputs": [],
   "source": [
    "stock_list = []\n",
    "for tr_tag in filtered_tr_tags:\n",
    "    stock_name = tr_tag.select_one('.tltle').text.strip() # 종목명\n",
    "    stock_price = tr_tag.select_one('.number').text.strip() # 현재가\n",
    "\n",
    "    stock_list.append([stock_name, stock_price])"
   ]
  },
  {
   "cell_type": "code",
   "execution_count": 21,
   "id": "e2f430a5",
   "metadata": {},
   "outputs": [
    {
     "data": {
      "text/plain": [
       "100"
      ]
     },
     "execution_count": 21,
     "metadata": {},
     "output_type": "execute_result"
    }
   ],
   "source": [
    "len(stock_list)"
   ]
  },
  {
   "cell_type": "code",
   "execution_count": 22,
   "id": "b976600a",
   "metadata": {},
   "outputs": [],
   "source": [
    "# 전일대비 상승한 종목만 종목명, 현재가, 전일비를 크롤링해주세요.\n",
    "up_stock_list = []\n",
    "for tr_tag in filtered_tr_tags:\n",
    "    # 전일대비 상승한 것만,\n",
    "    if 'red02' in tr_tag.select('.number')[1].select_one('span').attrs['class']:\n",
    "        stock_name = tr_tag.select_one('.tltle').text.strip() # stock_name\n",
    "        stock_price = tr_tag.select_one('.number').text.strip() # stock_price\n",
    "        stock_change = tr_tag.select('.number')[1].text.strip() # stock_change\n",
    "        # 참고) pseudo-class \n",
    "        # print(tr_tag.select_one('td:nth-of-type(4)').text.strip())\n",
    "\n",
    "        up_stock_list.append([stock_name, stock_price, stock_change])"
   ]
  },
  {
   "cell_type": "code",
   "execution_count": 23,
   "id": "3c291816",
   "metadata": {},
   "outputs": [
    {
     "data": {
      "text/plain": [
       "47"
      ]
     },
     "execution_count": 23,
     "metadata": {},
     "output_type": "execute_result"
    }
   ],
   "source": [
    "len(up_stock_list)"
   ]
  },
  {
   "attachments": {},
   "cell_type": "markdown",
   "id": "156c3418",
   "metadata": {},
   "source": [
    "## 실전 03"
   ]
  },
  {
   "cell_type": "code",
   "execution_count": 24,
   "id": "480fee21",
   "metadata": {},
   "outputs": [],
   "source": [
    "# 'https://store.musinsa.com/app/items/lists/001'\n",
    "URL = 'https://www.musinsa.com/categories/item/001'"
   ]
  },
  {
   "cell_type": "code",
   "execution_count": 25,
   "id": "0c3adf76",
   "metadata": {},
   "outputs": [],
   "source": [
    "response = requests.get(URL)"
   ]
  },
  {
   "cell_type": "code",
   "execution_count": 26,
   "id": "b71527f4",
   "metadata": {},
   "outputs": [
    {
     "data": {
      "text/plain": [
       "403"
      ]
     },
     "execution_count": 26,
     "metadata": {},
     "output_type": "execute_result"
    }
   ],
   "source": [
    "response.status_code"
   ]
  },
  {
   "cell_type": "code",
   "execution_count": null,
   "id": "23d55537",
   "metadata": {},
   "outputs": [],
   "source": [
    "soup = BeautifulSoup(response.text, 'html.parser')"
   ]
  },
  {
   "cell_type": "code",
   "execution_count": null,
   "id": "e0ad557b",
   "metadata": {},
   "outputs": [],
   "source": [
    "items = soup.select('#searchList .li_box')"
   ]
  },
  {
   "cell_type": "code",
   "execution_count": null,
   "id": "bc1fdb76",
   "metadata": {},
   "outputs": [],
   "source": [
    "musinsa_list = []\n",
    "\n",
    "basong_text = ''\n",
    "for item in items:\n",
    "    brand = item.select('.item_title')[-1].text.strip() # 브랜드\n",
    "    product_name = item.select_one('.list_info').text.strip().split('\\n')[-1].strip() # 상품명\n",
    "    prices = item.select_one('.price').text.strip().split() # 가격들 \n",
    "    # 1개일 경우 기본가격만. 2개일 경우 기본가격, 할인가격\n",
    "    \n",
    "    # print(price.text.strip().split())\n",
    "    # if len(prices) == 2:\n",
    "    #     original_price = prices[0]\n",
    "    #     discount_price = prices[1]\n",
    "    # else:\n",
    "    #     original_price = prices[0]\n",
    "    #     discount_price = prices[0] # '할인가격 없음'\n",
    "    \n",
    "    original_price = prices[0]\n",
    "    discount_price = prices[-1]\n",
    "\n",
    "    item_info = {\n",
    "        '브랜드': brand,\n",
    "        '상품명': product_name,\n",
    "        '기본가격': original_price,\n",
    "        '할인가격': discount_price\n",
    "    }\n",
    "    \n",
    "    musinsa_list.append(item_info)"
   ]
  },
  {
   "cell_type": "code",
   "execution_count": null,
   "id": "a7ea1840",
   "metadata": {},
   "outputs": [],
   "source": [
    "# 10 페이지 크롤링\n",
    "\n",
    "URL = 'https://www.musinsa.com/categories/item/001'\n",
    "\n",
    "# ? 뒤에 있는 부분 중 page부분만 1부터 10까지 바꾸기 위해 {} str.formatting 사용\n",
    "parameters = '?d_cat_cd=001&brand=&list_kind=small&sort=pop_category&sub_sort=&page={}&display_cnt=90&group_sale=&exclusive_yn=&sale_goods=&timesale_yn=&ex_soldout=&kids=&color=&price1=&price2=&shoeSizeOption=&tags=&campaign_id=&includeKeywords=&measure='\n",
    "\n",
    "musinsa_list = []\n",
    "\n",
    "for page in range(1, 11):\n",
    "    print(URL + parameters.format(page), '크롤링 중')\n",
    "    \n",
    "    response = requests.get(URL + parameters.format(page))\n",
    "    print(response.status_code)\n",
    "    # soup 객체 최신화\n",
    "    soup = BeautifulSoup(response.text, 'html.parser')\n",
    "    items = soup.select('#searchList .li_box')\n",
    "\n",
    "    # 여기 있으면 다음페이지로 넘어갈때마다 초기화 됨.\n",
    "    # musinsa_list = []\n",
    "\n",
    "    print(len(items))\n",
    "\n",
    "    basong_text = ''\n",
    "    for item in items:\n",
    "        brand = item.select('.item_title')[-1].text.strip() # 브랜드\n",
    "        product_name = item.select_one('.list_info').text.strip().split('\\n')[-1].strip() # 상품명\n",
    "        prices = item.select_one('.price').text.strip().split() # 가격들 \n",
    "        \n",
    "        original_price = prices[0]\n",
    "        discount_price = prices[-1]\n",
    "\n",
    "        item_info = {\n",
    "            '브랜드': brand,\n",
    "            '상품명': product_name,\n",
    "            '기본가격': original_price,\n",
    "            '할인가격': discount_price\n",
    "        }\n",
    "        \n",
    "        musinsa_list.append(item_info)"
   ]
  },
  {
   "cell_type": "code",
   "execution_count": null,
   "id": "6fd451ea",
   "metadata": {},
   "outputs": [],
   "source": []
  },
  {
   "attachments": {},
   "cell_type": "markdown",
   "id": "d44ffdca",
   "metadata": {},
   "source": [
    "## 실전 04 "
   ]
  },
  {
   "cell_type": "code",
   "execution_count": 36,
   "id": "54cc93a7",
   "metadata": {},
   "outputs": [],
   "source": [
    "headers = {\n",
    "    'user-agent': 'Mozilla/5.0 (Windows NT 10.0; Win64; x64) AppleWebKit/537.36 (KHTML, like Gecko) Chrome/109.0.0.0 Safari/537.36'\n",
    "}\n",
    "\n",
    "URL = 'https://news.naver.com/main/list.naver?mode=LPOD&mid=sec&oid=437&date=20230209'\n",
    "response = requests.get('https://news.naver.com/main/list.naver?mode=LPOD&mid=sec&oid=437', params={'page':3}, headers=headers)"
   ]
  },
  {
   "cell_type": "code",
   "execution_count": null,
   "id": "358f31fa",
   "metadata": {},
   "outputs": [],
   "source": [
    "response = requests.get(URL, headers=headers)\n",
    "soup = BeautifulSoup(response.text, 'html.parser')"
   ]
  },
  {
   "cell_type": "code",
   "execution_count": null,
   "id": "89b414c5",
   "metadata": {},
   "outputs": [],
   "source": [
    "# 셀렉터 두개로 분리\n",
    "len(soup.select('.type06_headline li') + soup.select('.type06 li')) # 10개"
   ]
  },
  {
   "cell_type": "code",
   "execution_count": null,
   "id": "2eace598",
   "metadata": {},
   "outputs": [],
   "source": [
    "# 이전의 뉴스기사들 체크용 변수\n",
    "post_li_tags = None\n",
    "\n",
    "jtbc_list = []\n",
    "\n",
    "# 임의의 큰 수만큼 페이지를 확인\n",
    "for page in range(1, 101):\n",
    "    # URL.format(page)\n",
    "    response = requests.get(URL, params={'page': page}, headers=headers)\n",
    "    print('현재 페이지', page)\n",
    "    soup = BeautifulSoup(response.text, 'html.parser')\n",
    "\n",
    "    # 속성셀렉터를 활용해 한번에 가져오기\n",
    "    li_tags = soup.select('[class*=\"type06\"] li')\n",
    "\n",
    "    # 이전 페이지의 뉴스기사와 현재 페이지의 뉴스기사가 같으면,\n",
    "    if post_li_tags == li_tags:\n",
    "        break\n",
    "    else:\n",
    "        # 다르면 post_li_tags 최신화\n",
    "        post_li_tags = li_tags\n",
    "\n",
    "    for li_tag in li_tags:\n",
    "        title = li_tag.select('dt')[-1].text.strip() # 제목\n",
    "        content = li_tag.select_one('dd .lede').text.strip() # 본문\n",
    "        news_info = {\n",
    "            '제목': title,\n",
    "            '내용': content\n",
    "        }\n",
    "        jtbc_list.append(news_info)\n",
    "\n",
    "len(jtbc_list)"
   ]
  },
  {
   "cell_type": "code",
   "execution_count": null,
   "id": "ce8ecc04",
   "metadata": {},
   "outputs": [],
   "source": []
  }
 ],
 "metadata": {
  "kernelspec": {
   "display_name": "study",
   "language": "python",
   "name": "python3"
  },
  "language_info": {
   "codemirror_mode": {
    "name": "ipython",
    "version": 3
   },
   "file_extension": ".py",
   "mimetype": "text/x-python",
   "name": "python",
   "nbconvert_exporter": "python",
   "pygments_lexer": "ipython3",
   "version": "3.10.9"
  },
  "vscode": {
   "interpreter": {
    "hash": "1b9251e2362d10317da5c121b652dc9d75684a5f0e3d5ea62513a1d2b29f72a3"
   }
  }
 },
 "nbformat": 4,
 "nbformat_minor": 5
}
