{
 "cells": [
  {
   "cell_type": "code",
   "execution_count": 18,
   "metadata": {},
   "outputs": [
    {
     "name": "stdout",
     "output_type": "stream",
     "text": [
      "Collecting sshtunnel\n",
      "  Using cached sshtunnel-0.4.0-py2.py3-none-any.whl (24 kB)\n",
      "Collecting paramiko>=2.7.2\n",
      "  Using cached paramiko-3.0.0-py3-none-any.whl (210 kB)\n",
      "Collecting cryptography>=3.3\n",
      "  Downloading cryptography-39.0.1-cp36-abi3-win_amd64.whl (2.5 MB)\n",
      "     ---------------------------------------- 2.5/2.5 MB 22.2 MB/s eta 0:00:00\n",
      "Collecting bcrypt>=3.2\n",
      "  Downloading bcrypt-4.0.1-cp36-abi3-win_amd64.whl (152 kB)\n",
      "     -------------------------------------- 152.9/152.9 kB 8.9 MB/s eta 0:00:00\n",
      "Collecting pynacl>=1.5\n",
      "  Downloading PyNaCl-1.5.0-cp36-abi3-win_amd64.whl (212 kB)\n",
      "     ---------------------------------------- 212.1/212.1 kB ? eta 0:00:00\n",
      "Requirement already satisfied: cffi>=1.12 in c:\\users\\user\\anaconda3\\envs\\study\\lib\\site-packages (from cryptography>=3.3->paramiko>=2.7.2->sshtunnel) (1.15.1)\n",
      "Requirement already satisfied: pycparser in c:\\users\\user\\anaconda3\\envs\\study\\lib\\site-packages (from cffi>=1.12->cryptography>=3.3->paramiko>=2.7.2->sshtunnel) (2.21)\n",
      "Installing collected packages: bcrypt, pynacl, cryptography, paramiko, sshtunnel\n",
      "Successfully installed bcrypt-4.0.1 cryptography-39.0.1 paramiko-3.0.0 pynacl-1.5.0 sshtunnel-0.4.0\n",
      "Note: you may need to restart the kernel to use updated packages.\n"
     ]
    }
   ],
   "source": [
    "%pip install sshtunnel"
   ]
  },
  {
   "cell_type": "code",
   "execution_count": 21,
   "metadata": {},
   "outputs": [
    {
     "name": "stdout",
     "output_type": "stream",
     "text": [
      "== SSH Tunnel ==\n"
     ]
    },
    {
     "ename": "OperationalError",
     "evalue": "(2003, \"Can't connect to MySQL server on 'mydb.cdr1vk0jobln.ap-northeast-1.rds.amazonaws.com' (timed out)\")",
     "output_type": "error",
     "traceback": [
      "\u001b[1;31m---------------------------------------------------------------------------\u001b[0m",
      "\u001b[1;31mTimeoutError\u001b[0m                              Traceback (most recent call last)",
      "File \u001b[1;32mc:\\Users\\USER\\anaconda3\\envs\\study\\lib\\site-packages\\pymysql\\connections.py:613\u001b[0m, in \u001b[0;36mConnection.connect\u001b[1;34m(self, sock)\u001b[0m\n\u001b[0;32m    612\u001b[0m \u001b[39mtry\u001b[39;00m:\n\u001b[1;32m--> 613\u001b[0m     sock \u001b[39m=\u001b[39m socket\u001b[39m.\u001b[39mcreate_connection(\n\u001b[0;32m    614\u001b[0m         (\u001b[39mself\u001b[39m\u001b[39m.\u001b[39mhost, \u001b[39mself\u001b[39m\u001b[39m.\u001b[39mport), \u001b[39mself\u001b[39m\u001b[39m.\u001b[39mconnect_timeout, \u001b[39m*\u001b[39m\u001b[39m*\u001b[39mkwargs\n\u001b[0;32m    615\u001b[0m     )\n\u001b[0;32m    616\u001b[0m     \u001b[39mbreak\u001b[39;00m\n",
      "File \u001b[1;32mc:\\Users\\USER\\anaconda3\\envs\\study\\lib\\socket.py:845\u001b[0m, in \u001b[0;36mcreate_connection\u001b[1;34m(address, timeout, source_address)\u001b[0m\n\u001b[0;32m    844\u001b[0m \u001b[39mtry\u001b[39;00m:\n\u001b[1;32m--> 845\u001b[0m     \u001b[39mraise\u001b[39;00m err\n\u001b[0;32m    846\u001b[0m \u001b[39mfinally\u001b[39;00m:\n\u001b[0;32m    847\u001b[0m     \u001b[39m# Break explicitly a reference cycle\u001b[39;00m\n",
      "File \u001b[1;32mc:\\Users\\USER\\anaconda3\\envs\\study\\lib\\socket.py:833\u001b[0m, in \u001b[0;36mcreate_connection\u001b[1;34m(address, timeout, source_address)\u001b[0m\n\u001b[0;32m    832\u001b[0m     sock\u001b[39m.\u001b[39mbind(source_address)\n\u001b[1;32m--> 833\u001b[0m sock\u001b[39m.\u001b[39;49mconnect(sa)\n\u001b[0;32m    834\u001b[0m \u001b[39m# Break explicitly a reference cycle\u001b[39;00m\n",
      "\u001b[1;31mTimeoutError\u001b[0m: timed out",
      "\nDuring handling of the above exception, another exception occurred:\n",
      "\u001b[1;31mOperationalError\u001b[0m                          Traceback (most recent call last)",
      "Cell \u001b[1;32mIn[21], line 12\u001b[0m\n\u001b[0;32m      4\u001b[0m \u001b[39mwith\u001b[39;00m SSHTunnelForwarder(\n\u001b[0;32m      5\u001b[0m     (\u001b[39m'\u001b[39m\u001b[39m43.207.43.27\u001b[39m\u001b[39m'\u001b[39m),\n\u001b[0;32m      6\u001b[0m     ssh_username\u001b[39m=\u001b[39m\u001b[39m\"\u001b[39m\u001b[39mubuntu\u001b[39m\u001b[39m\"\u001b[39m,\n\u001b[0;32m      7\u001b[0m     ssh_pkey\u001b[39m=\u001b[39m\u001b[39m\"\u001b[39m\u001b[39mC:/Users/USER/Desktop/WORKSPACE/MyServer.pem\u001b[39m\u001b[39m\"\u001b[39m,\n\u001b[0;32m      8\u001b[0m     remote_bind_address\u001b[39m=\u001b[39m(\u001b[39m'\u001b[39m\u001b[39mmydb.cdr1vk0jobln.ap-northeast-1.rds.amazonaws.com\u001b[39m\u001b[39m'\u001b[39m, \u001b[39m3306\u001b[39m)\n\u001b[0;32m      9\u001b[0m ) \u001b[39mas\u001b[39;00m tunnel:\n\u001b[0;32m     10\u001b[0m     \u001b[39mprint\u001b[39m(\u001b[39m\"\u001b[39m\u001b[39m== SSH Tunnel ==\u001b[39m\u001b[39m\"\u001b[39m)\n\u001b[1;32m---> 12\u001b[0m     db \u001b[39m=\u001b[39m pymysql\u001b[39m.\u001b[39;49mconnect(\n\u001b[0;32m     13\u001b[0m         host\u001b[39m=\u001b[39;49m\u001b[39m'\u001b[39;49m\u001b[39mmydb.cdr1vk0jobln.ap-northeast-1.rds.amazonaws.com\u001b[39;49m\u001b[39m'\u001b[39;49m, user\u001b[39m=\u001b[39;49m\u001b[39m\"\u001b[39;49m\u001b[39madmin\u001b[39;49m\u001b[39m\"\u001b[39;49m,\n\u001b[0;32m     14\u001b[0m         password\u001b[39m=\u001b[39;49m\u001b[39m\"\u001b[39;49m\u001b[39m65wjstks!\u001b[39;49m\u001b[39m\"\u001b[39;49m, port\u001b[39m=\u001b[39;49mtunnel\u001b[39m.\u001b[39;49mlocal_bind_port\n\u001b[0;32m     15\u001b[0m     )\n\u001b[0;32m     16\u001b[0m     \u001b[39m# Run sample query in the database to validate connection\u001b[39;00m\n\u001b[0;32m     17\u001b[0m     \u001b[39mtry\u001b[39;00m:\n\u001b[0;32m     18\u001b[0m         \u001b[39m# Print all the databases\u001b[39;00m\n",
      "File \u001b[1;32mc:\\Users\\USER\\anaconda3\\envs\\study\\lib\\site-packages\\pymysql\\connections.py:353\u001b[0m, in \u001b[0;36mConnection.__init__\u001b[1;34m(self, user, password, host, database, unix_socket, port, charset, sql_mode, read_default_file, conv, use_unicode, client_flag, cursorclass, init_command, connect_timeout, read_default_group, autocommit, local_infile, max_allowed_packet, defer_connect, auth_plugin_map, read_timeout, write_timeout, bind_address, binary_prefix, program_name, server_public_key, ssl, ssl_ca, ssl_cert, ssl_disabled, ssl_key, ssl_verify_cert, ssl_verify_identity, compress, named_pipe, passwd, db)\u001b[0m\n\u001b[0;32m    351\u001b[0m     \u001b[39mself\u001b[39m\u001b[39m.\u001b[39m_sock \u001b[39m=\u001b[39m \u001b[39mNone\u001b[39;00m\n\u001b[0;32m    352\u001b[0m \u001b[39melse\u001b[39;00m:\n\u001b[1;32m--> 353\u001b[0m     \u001b[39mself\u001b[39;49m\u001b[39m.\u001b[39;49mconnect()\n",
      "File \u001b[1;32mc:\\Users\\USER\\anaconda3\\envs\\study\\lib\\site-packages\\pymysql\\connections.py:664\u001b[0m, in \u001b[0;36mConnection.connect\u001b[1;34m(self, sock)\u001b[0m\n\u001b[0;32m    662\u001b[0m     \u001b[39mif\u001b[39;00m DEBUG:\n\u001b[0;32m    663\u001b[0m         \u001b[39mprint\u001b[39m(exc\u001b[39m.\u001b[39mtraceback)\n\u001b[1;32m--> 664\u001b[0m     \u001b[39mraise\u001b[39;00m exc\n\u001b[0;32m    666\u001b[0m \u001b[39m# If e is neither DatabaseError or IOError, It's a bug.\u001b[39;00m\n\u001b[0;32m    667\u001b[0m \u001b[39m# But raising AssertionError hides original error.\u001b[39;00m\n\u001b[0;32m    668\u001b[0m \u001b[39m# So just reraise it.\u001b[39;00m\n\u001b[0;32m    669\u001b[0m \u001b[39mraise\u001b[39;00m\n",
      "\u001b[1;31mOperationalError\u001b[0m: (2003, \"Can't connect to MySQL server on 'mydb.cdr1vk0jobln.ap-northeast-1.rds.amazonaws.com' (timed out)\")"
     ]
    }
   ],
   "source": [
    "from sshtunnel import SSHTunnelForwarder\n",
    "import pymysql\n",
    " \n",
    "with SSHTunnelForwarder(\n",
    "    ('43.207.43.27'),\n",
    "    ssh_username=\"ubuntu\",\n",
    "    ssh_pkey=\"C:/Users/USER/Desktop/WORKSPACE/MyServer.pem\",\n",
    "    remote_bind_address=('mydb.cdr1vk0jobln.ap-northeast-1.rds.amazonaws.com', 3306)\n",
    ") as tunnel:\n",
    "    print(\"== SSH Tunnel ==\")\n",
    " \n",
    "    db = pymysql.connect(\n",
    "        host='mydb.cdr1vk0jobln.ap-northeast-1.rds.amazonaws.com', user=\"admin\",\n",
    "        password=\"65wjstks!\", port=tunnel.local_bind_port\n",
    "    )\n",
    "    # Run sample query in the database to validate connection\n",
    "    try:\n",
    "        # Print all the databases\n",
    "        with db.cursor() as cur:\n",
    "            cur.execute('SHOW DATABASES')\n",
    "            for r in cur:\n",
    "                print(r)\n",
    "    finally:\n",
    "        db.close()\n",
    " \n",
    "print(\"SSH 터널링 완료 !!\")"
   ]
  },
  {
   "cell_type": "code",
   "execution_count": 23,
   "metadata": {},
   "outputs": [
    {
     "name": "stdout",
     "output_type": "stream",
     "text": [
      "Collecting pandas\n",
      "  Downloading pandas-1.5.3-cp310-cp310-win_amd64.whl (10.4 MB)\n",
      "     --------------------------------------- 10.4/10.4 MB 43.5 MB/s eta 0:00:00\n",
      "Requirement already satisfied: python-dateutil>=2.8.1 in c:\\users\\user\\anaconda3\\envs\\study\\lib\\site-packages (from pandas) (2.8.2)\n",
      "Collecting numpy>=1.21.0\n",
      "  Downloading numpy-1.24.2-cp310-cp310-win_amd64.whl (14.8 MB)\n",
      "     --------------------------------------- 14.8/14.8 MB 59.4 MB/s eta 0:00:00\n",
      "Collecting pytz>=2020.1\n",
      "  Downloading pytz-2022.7.1-py2.py3-none-any.whl (499 kB)\n",
      "     ---------------------------------------- 499.4/499.4 kB ? eta 0:00:00\n",
      "Requirement already satisfied: six>=1.5 in c:\\users\\user\\anaconda3\\envs\\study\\lib\\site-packages (from python-dateutil>=2.8.1->pandas) (1.16.0)\n",
      "Installing collected packages: pytz, numpy, pandas\n",
      "Successfully installed numpy-1.24.2 pandas-1.5.3 pytz-2022.7.1\n",
      "Note: you may need to restart the kernel to use updated packages.\n"
     ]
    }
   ],
   "source": [
    "%pip install pandas"
   ]
  },
  {
   "cell_type": "code",
   "execution_count": 34,
   "metadata": {},
   "outputs": [
    {
     "name": "stdout",
     "output_type": "stream",
     "text": [
      "select * from students;\n",
      "{'StudentID': 5, 'Name': '홍길동', 'Age': 30, 'Address': '인천'}\n",
      "{'StudentID': 6, 'Name': '이연걸', 'Age': 60, 'Address': '서울'}\n",
      "{'StudentID': 7, 'Name': '이몽룡', 'Age': 42, 'Address': '대전'}\n",
      "{'StudentID': 8, 'Name': '성춘향', 'Age': 27, 'Address': '경기'}\n"
     ]
    }
   ],
   "source": [
    "import pymysql\n",
    "from sshtunnel import SSHTunnelForwarder\n",
    "import pandas as pd\n",
    "\n",
    "\n",
    "# sql 구문 처리\n",
    "# sql = '''\n",
    "# SELECT VERSION()\n",
    "# '''\n",
    "\n",
    "# tunnel\n",
    "tunnel = SSHTunnelForwarder(('43.207.43.27', 22),\n",
    "                        ssh_username='ubuntu', \n",
    "                        ssh_pkey='C:/Users/USER/Desktop/WORKSPACE/MyServer.pem',\n",
    "                        remote_bind_address = ('mydb.cdr1vk0jobln.ap-northeast-1.rds.amazonaws.com', 3306))\n",
    "\n",
    "# tunneling 후 mysql 접속\n",
    "with tunnel:\n",
    "    with pymysql.connect(host='127.0.0.1',\n",
    "                        port=tunnel.local_bind_port,\n",
    "                        user='admin',\n",
    "                        password='65wjstks!',\n",
    "                        db='study',\n",
    "                        cursorclass=pymysql.cursors.DictCursor,\n",
    "                        charset='utf8') as conn:                        \n",
    "        with conn.cursor() as cur:\n",
    "                            cur.execute('select * from students;')\n",
    "                            print('select * from students;')\n",
    "                            results = cur.fetchall()\n",
    "                            for result in results:\n",
    "                                print(result)"
   ]
  },
  {
   "cell_type": "code",
   "execution_count": 15,
   "metadata": {},
   "outputs": [
    {
     "ename": "OperationalError",
     "evalue": "(2003, \"Can't connect to MySQL server on 'mydb.cdr1vk0jobln.ap-northeast-1.rds.amazonaws.com' (timed out)\")",
     "output_type": "error",
     "traceback": [
      "\u001b[1;31m---------------------------------------------------------------------------\u001b[0m",
      "\u001b[1;31mTimeoutError\u001b[0m                              Traceback (most recent call last)",
      "File \u001b[1;32mc:\\Users\\USER\\anaconda3\\envs\\study\\lib\\site-packages\\pymysql\\connections.py:613\u001b[0m, in \u001b[0;36mConnection.connect\u001b[1;34m(self, sock)\u001b[0m\n\u001b[0;32m    612\u001b[0m \u001b[39mtry\u001b[39;00m:\n\u001b[1;32m--> 613\u001b[0m     sock \u001b[39m=\u001b[39m socket\u001b[39m.\u001b[39mcreate_connection(\n\u001b[0;32m    614\u001b[0m         (\u001b[39mself\u001b[39m\u001b[39m.\u001b[39mhost, \u001b[39mself\u001b[39m\u001b[39m.\u001b[39mport), \u001b[39mself\u001b[39m\u001b[39m.\u001b[39mconnect_timeout, \u001b[39m*\u001b[39m\u001b[39m*\u001b[39mkwargs\n\u001b[0;32m    615\u001b[0m     )\n\u001b[0;32m    616\u001b[0m     \u001b[39mbreak\u001b[39;00m\n",
      "File \u001b[1;32mc:\\Users\\USER\\anaconda3\\envs\\study\\lib\\socket.py:845\u001b[0m, in \u001b[0;36mcreate_connection\u001b[1;34m(address, timeout, source_address)\u001b[0m\n\u001b[0;32m    844\u001b[0m \u001b[39mtry\u001b[39;00m:\n\u001b[1;32m--> 845\u001b[0m     \u001b[39mraise\u001b[39;00m err\n\u001b[0;32m    846\u001b[0m \u001b[39mfinally\u001b[39;00m:\n\u001b[0;32m    847\u001b[0m     \u001b[39m# Break explicitly a reference cycle\u001b[39;00m\n",
      "File \u001b[1;32mc:\\Users\\USER\\anaconda3\\envs\\study\\lib\\socket.py:833\u001b[0m, in \u001b[0;36mcreate_connection\u001b[1;34m(address, timeout, source_address)\u001b[0m\n\u001b[0;32m    832\u001b[0m     sock\u001b[39m.\u001b[39mbind(source_address)\n\u001b[1;32m--> 833\u001b[0m sock\u001b[39m.\u001b[39;49mconnect(sa)\n\u001b[0;32m    834\u001b[0m \u001b[39m# Break explicitly a reference cycle\u001b[39;00m\n",
      "\u001b[1;31mTimeoutError\u001b[0m: timed out",
      "\nDuring handling of the above exception, another exception occurred:\n",
      "\u001b[1;31mOperationalError\u001b[0m                          Traceback (most recent call last)",
      "Cell \u001b[1;32mIn[15], line 3\u001b[0m\n\u001b[0;32m      1\u001b[0m \u001b[39mimport\u001b[39;00m \u001b[39mpymysql\u001b[39;00m\n\u001b[1;32m----> 3\u001b[0m connection \u001b[39m=\u001b[39m pymysql\u001b[39m.\u001b[39;49mconnect(host\u001b[39m=\u001b[39;49m\u001b[39m\"\u001b[39;49m\u001b[39mmydb.cdr1vk0jobln.ap-northeast-1.rds.amazonaws.com\u001b[39;49m\u001b[39m\"\u001b[39;49m,port\u001b[39m=\u001b[39;49m\u001b[39m3306\u001b[39;49m,user\u001b[39m=\u001b[39;49m\u001b[39m\"\u001b[39;49m\u001b[39madmin\u001b[39;49m\u001b[39m\"\u001b[39;49m, password\u001b[39m=\u001b[39;49m\u001b[39m'\u001b[39;49m\u001b[39m65wjstks!\u001b[39;49m\u001b[39m'\u001b[39;49m, database\u001b[39m=\u001b[39;49m\u001b[39m'\u001b[39;49m\u001b[39mstudy\u001b[39;49m\u001b[39m'\u001b[39;49m, charset\u001b[39m=\u001b[39;49m\u001b[39m'\u001b[39;49m\u001b[39mutf8mb4\u001b[39;49m\u001b[39m'\u001b[39;49m)\n\u001b[0;32m      5\u001b[0m connection\u001b[39m.\u001b[39mclose()\n",
      "File \u001b[1;32mc:\\Users\\USER\\anaconda3\\envs\\study\\lib\\site-packages\\pymysql\\connections.py:353\u001b[0m, in \u001b[0;36mConnection.__init__\u001b[1;34m(self, user, password, host, database, unix_socket, port, charset, sql_mode, read_default_file, conv, use_unicode, client_flag, cursorclass, init_command, connect_timeout, read_default_group, autocommit, local_infile, max_allowed_packet, defer_connect, auth_plugin_map, read_timeout, write_timeout, bind_address, binary_prefix, program_name, server_public_key, ssl, ssl_ca, ssl_cert, ssl_disabled, ssl_key, ssl_verify_cert, ssl_verify_identity, compress, named_pipe, passwd, db)\u001b[0m\n\u001b[0;32m    351\u001b[0m     \u001b[39mself\u001b[39m\u001b[39m.\u001b[39m_sock \u001b[39m=\u001b[39m \u001b[39mNone\u001b[39;00m\n\u001b[0;32m    352\u001b[0m \u001b[39melse\u001b[39;00m:\n\u001b[1;32m--> 353\u001b[0m     \u001b[39mself\u001b[39;49m\u001b[39m.\u001b[39;49mconnect()\n",
      "File \u001b[1;32mc:\\Users\\USER\\anaconda3\\envs\\study\\lib\\site-packages\\pymysql\\connections.py:664\u001b[0m, in \u001b[0;36mConnection.connect\u001b[1;34m(self, sock)\u001b[0m\n\u001b[0;32m    662\u001b[0m     \u001b[39mif\u001b[39;00m DEBUG:\n\u001b[0;32m    663\u001b[0m         \u001b[39mprint\u001b[39m(exc\u001b[39m.\u001b[39mtraceback)\n\u001b[1;32m--> 664\u001b[0m     \u001b[39mraise\u001b[39;00m exc\n\u001b[0;32m    666\u001b[0m \u001b[39m# If e is neither DatabaseError or IOError, It's a bug.\u001b[39;00m\n\u001b[0;32m    667\u001b[0m \u001b[39m# But raising AssertionError hides original error.\u001b[39;00m\n\u001b[0;32m    668\u001b[0m \u001b[39m# So just reraise it.\u001b[39;00m\n\u001b[0;32m    669\u001b[0m \u001b[39mraise\u001b[39;00m\n",
      "\u001b[1;31mOperationalError\u001b[0m: (2003, \"Can't connect to MySQL server on 'mydb.cdr1vk0jobln.ap-northeast-1.rds.amazonaws.com' (timed out)\")"
     ]
    }
   ],
   "source": [
    "import pymysql\n",
    "\n",
    "connection = pymysql.connect(host=\"mydb.cdr1vk0jobln.ap-northeast-1.rds.amazonaws.com\",port=3306,user=\"admin\", password='65wjstks!', database='study', charset='utf8mb4')\n",
    "\n",
    "connection.close()"
   ]
  },
  {
   "cell_type": "code",
   "execution_count": null,
   "metadata": {},
   "outputs": [],
   "source": [
    "with connection.cursor() as cursor:\n",
    "    sql = \"INSERT INTO 'student' ('email', 'password') VALUES (%s, %s)\"\n",
    "    cursor.execute(sql, ('webmaster@python.org', 'secret')) \n",
    "    connection.commit()"
   ]
  }
 ],
 "metadata": {
  "kernelspec": {
   "display_name": "study",
   "language": "python",
   "name": "python3"
  },
  "language_info": {
   "codemirror_mode": {
    "name": "ipython",
    "version": 3
   },
   "file_extension": ".py",
   "mimetype": "text/x-python",
   "name": "python",
   "nbconvert_exporter": "python",
   "pygments_lexer": "ipython3",
   "version": "3.10.9"
  },
  "orig_nbformat": 4,
  "vscode": {
   "interpreter": {
    "hash": "736a4258c238b8ad314a4f07cbc4fb94bd99adfa3f65edb9ce29e7d0df91bca0"
   }
  }
 },
 "nbformat": 4,
 "nbformat_minor": 2
}
