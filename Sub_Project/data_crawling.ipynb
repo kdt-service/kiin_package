{
 "cells": [
  {
   "cell_type": "code",
   "execution_count": 87,
   "metadata": {},
   "outputs": [],
   "source": [
    "from bs4 import BeautifulSoup\n",
    "import requests\n",
    "\n",
    "keyword = '데이터 분석가'\n",
    "\n",
    "URL = 'https://www.saramin.co.kr/zf_user/jobs/list/domestic?loc_mcd=101000%2C102000&keydownAccess=&searchType=search&searchword={}&panel_type=&search_optional_item=y&search_done=y&panel_count=y&preview=y'.format(keyword) \n",
    "response = requests.get(URL, headers ={'User-Agent':'Mozilla/5.0'})\n",
    "response.status_code\n",
    "\n",
    "soup = BeautifulSoup(response.text, 'html.parser')"
   ]
  },
  {
   "cell_type": "code",
   "execution_count": 125,
   "metadata": {},
   "outputs": [
    {
     "data": {
      "text/plain": [
       "{'회사명': '(주)교원투어',\n",
       " '채용공고': '[여행이지] 웹기획/웹디자인/웹개발/사업기획/CS/재무/브랜드',\n",
       " '경력': '경력',\n",
       " '지원자격': '대학(2,3년)↑',\n",
       " '고용형태': '정규직 · 계약직',\n",
       " '지역': '서울 종로구'}"
      ]
     },
     "execution_count": 125,
     "metadata": {},
     "output_type": "execute_result"
    }
   ],
   "source": [
    "# 사람인 \n",
    "\n",
    "job_list = []\n",
    "\n",
    "div_tags = soup.select('#default_list_wrap .list_item')\n",
    "\n",
    "for div_tag in div_tags:\n",
    "\n",
    "    job_info = {}\n",
    "\n",
    "    job_info['회사명'] = div_tag.select('.company_nm .str_tit')[0]['title']\n",
    "    job_info['채용공고'] = div_tag.select_one('.job_tit a > span').text\n",
    "    job_info['경력'] = div_tag.select_one('.recruit_condition .career').text\n",
    "    job_info['지원자격'] = div_tag.select_one('.recruit_condition .education').text\n",
    "    job_info['고용형태'] = div_tag.select_one('.company_info .employment_type').text\n",
    "    job_info['지역'] = div_tag.select_one('.company_info .work_place').text    \n",
    "\n",
    "    job_list.append(job_info)\n",
    "\n",
    "job_list[0]"
   ]
  },
  {
   "cell_type": "code",
   "execution_count": null,
   "metadata": {},
   "outputs": [],
   "source": [
    "# 잡코리아"
   ]
  }
 ],
 "metadata": {
  "kernelspec": {
   "display_name": "study",
   "language": "python",
   "name": "python3"
  },
  "language_info": {
   "codemirror_mode": {
    "name": "ipython",
    "version": 3
   },
   "file_extension": ".py",
   "mimetype": "text/x-python",
   "name": "python",
   "nbconvert_exporter": "python",
   "pygments_lexer": "ipython3",
   "version": "3.10.9"
  },
  "orig_nbformat": 4,
  "vscode": {
   "interpreter": {
    "hash": "736a4258c238b8ad314a4f07cbc4fb94bd99adfa3f65edb9ce29e7d0df91bca0"
   }
  }
 },
 "nbformat": 4,
 "nbformat_minor": 2
}
